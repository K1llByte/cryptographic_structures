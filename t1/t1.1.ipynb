{
 "cells": [
  {
   "cell_type": "markdown",
   "id": "supreme-feedback",
   "metadata": {},
   "source": [
    "# T1\n",
    "|        |             |\n",
    "|:------:|:-----------:|\n",
    "| A85272 | Jorge Mota  |\n",
    "| A83840 | Maria Silva |"
   ]
  },
  {
   "cell_type": "markdown",
   "id": "ready-charlotte",
   "metadata": {},
   "source": [
    "## **2**"
   ]
  },
  {
   "cell_type": "markdown",
   "id": "advisory-barcelona",
   "metadata": {},
   "source": [
    "###  KEM- RSA"
   ]
  },
  {
   "cell_type": "markdown",
   "id": "closing-baghdad",
   "metadata": {},
   "source": [
    "###  KEM- RSA Fujisaki-Okamoto"
   ]
  },
  {
   "cell_type": "markdown",
   "id": "productive-vintage",
   "metadata": {},
   "source": [
    "###  DSA"
   ]
  },
  {
   "cell_type": "code",
   "execution_count": 4,
   "id": "parental-crystal",
   "metadata": {},
   "outputs": [
    {
     "name": "stdout",
     "output_type": "stream",
     "text": [
      "v: 1\n",
      "r: 1\n",
      "True\n"
     ]
    }
   ],
   "source": [
    "import hashlib\n",
    "\n",
    "def digest(msg):\n",
    "    msg = msg.encode(\"utf-8\")\n",
    "    return Integer('0x' + hashlib.sha1(msg).hexdigest())\n",
    "\n",
    "class DSA_Error(Exception):\n",
    "    pass\n",
    "\n",
    "class DSA:\n",
    "\n",
    "    ####### Constants #######\n",
    "\n",
    "    FULL = 0\n",
    "    PUBLIC_KEY = 1\n",
    "    \n",
    "    ####### Constructors #######\n",
    "\n",
    "    def __init__(self,L,N):\n",
    "\n",
    "        # FIPS 186-4 Possible L,N combinations (source: wikipedia):\n",
    "        _LN_COMBINATIONS = [(1024, 160), (2048, 224), (2048, 256), (3072, 256)]\n",
    "        if not ((L,N) in _LN_COMBINATIONS):\n",
    "            raise DSA_Error(\"Invalid key length pair\")\n",
    "        \n",
    "        ########### Parameters ###########\n",
    "\n",
    "        # Choose an N-bit prime q\n",
    "        #self.q = random_prime(2 ^ N)\n",
    "        self.q = 1193447034984784682329306571139467195163334221569\n",
    "        # Choose an L-bit prime p such that p-1 is a multiple of q\n",
    "        self.p = 89884656743115796742429711405763364460177151692783429800884652449310979263752253529349195459823881715145796498046459238345428121561386626945679753956400077352882071663925459750500807018254028771490434021315691357123734637046894876123496168716251735252662742462099334802433058472377674408598573487858308054417\n",
    "        #self.p = random_prime(2 ^ N) # TODO: Wrong\n",
    "        # Choose an integer h randomly from {2...p-2}\n",
    "        h = randint(2, self.p-2)\n",
    "        # Compute g = h ^ ((p-1)/p) mod p\n",
    "        self.g = mod(h ^ ((self.p-1) // self.p), self.p)\n",
    "\n",
    "        ###### Public & Private Key ######\n",
    "\n",
    "        # Choose an integer x randomly from {1...q-1}\n",
    "        self.x = randint(1,self.q-1)\n",
    "        # Compute y = g ^ x mod p\n",
    "        self.y = self.g ^ self.x % self.p\n",
    "\n",
    "        self.INITIALIZATION = DSA.FULL\n",
    "\n",
    "    @classmethod\n",
    "    def from_public_key(cls,LN,pqgy):\n",
    "        instance = cls(LN[0],LN[1])\n",
    "        instance.p = pqgy[0]\n",
    "        instance.q = pqgy[1]\n",
    "        instance.g = pqgy[2]\n",
    "        instance.y = pqgy[3]\n",
    "        instance.INITIALIZATION = DSA.PUBLIC_KEY\n",
    "\n",
    "\n",
    "    ######## Getters ########\n",
    "\n",
    "    def parameters(self):\n",
    "        return (self.p,self.q,self.g)\n",
    "\n",
    "    def public_key(self):\n",
    "        return self.y\n",
    "\n",
    "    ##### Sign & Verify #####\n",
    "\n",
    "    def sign(self,m):\n",
    "        if self.INITIALIZATION == DSA.FULL:\n",
    "            k = randint(1, self.q-1)\n",
    "            r = 0\n",
    "            while r == 0:\n",
    "                r = mod(power_mod(self.g,k,self.p), self.q)\n",
    "                s = mod(((digest(m) + self.x*r) // k), self.q)\n",
    "                k = randint(1, self.q-1)\n",
    "            return (r,s)\n",
    "        #else:\n",
    "        raise DSA_Error(\"DSA instance only with public key, signing not avaiable\")\n",
    "\n",
    "    def verify(self,m,rs):\n",
    "        r = rs[0]\n",
    "        s = rs[1]\n",
    "        if (0 < Integer(r) < Integer(self.q)) and (0 < Integer(s) < Integer(self.q)):\n",
    "            w = mod(1 / s ,self.q)\n",
    "            u1 = mod(digest(m) * w, self.q)\n",
    "            u2 = mod(r * w, self.q)\n",
    "            v = mod((self.g ^ u1) * (self.g ^ u2), self.q)\n",
    "            print(\"v:\",v)\n",
    "            print(\"r:\",r)\n",
    "            return v == r\n",
    "        print(\"nem sequer\")\n",
    "        return False\n",
    "\n",
    "dsa = DSA(1024,160)\n",
    "m = \"hello cruel world\"\n",
    "rs = dsa.sign(m)\n",
    "print(dsa.verify(m,rs))"
   ]
  },
  {
   "cell_type": "markdown",
   "id": "executive-morris",
   "metadata": {},
   "source": [
    "###  ECDSA"
   ]
  },
  {
   "cell_type": "code",
   "execution_count": 17,
   "id": "descending-swing",
   "metadata": {},
   "outputs": [
    {
     "name": "stdout",
     "output_type": "stream",
     "text": [
      "True\n"
     ]
    }
   ],
   "source": [
    "import hashlib\n",
    "\n",
    "def digest(msg):\n",
    "    msg = msg.encode(\"utf-8\")\n",
    "    return Integer('0x' + hashlib.sha1(msg).hexdigest())\n",
    "\n",
    "\n",
    "class ECDSA:\n",
    "    \n",
    "    ####### Constants #######\n",
    "\n",
    "    #F = FiniteField(2**192 - 2**64 - 1)\n",
    "    #a  = -3\n",
    "    #b  = 0x64210519E59C80E70FA7E9AB72243049FEB8DEECC146B9B1\n",
    "    #E  = EllipticCurve(F, [a, b])\n",
    "    #P  = E((0x188DA80EB03090F67CBF20EB43A18800F4FF0AFD82FF1012,0x07192B95FFC8DA78631011ED6B24CDD573F977A11E794811))\n",
    "    #n  = 0xFFFFFFFFFFFFFFFFFFFFFFFF99DEF836146BC9B1B4D22831\n",
    "    #Fn = FiniteField(n)\n",
    "    \n",
    "    ####### Constructors #######\n",
    "    \n",
    "    def __init__(self):\n",
    "        # Curva e parameterização\n",
    "        self.F = FiniteField(2**192 - 2**64 - 1)\n",
    "        self.a  = -3\n",
    "        self.b  = 0x64210519E59C80E70FA7E9AB72243049FEB8DEECC146B9B1\n",
    "        self.E  = EllipticCurve(self.F, [self.a, self.b])\n",
    "        self.P  = self.E((0x188DA80EB03090F67CBF20EB43A18800F4FF0AFD82FF1012,0x07192B95FFC8DA78631011ED6B24CDD573F977A11E794811))\n",
    "        self.n  = 0xFFFFFFFFFFFFFFFFFFFFFFFF99DEF836146BC9B1B4D22831\n",
    "        self.Fn = FiniteField(self.n)\n",
    "\n",
    "        self.d = randint(1, self.n - 1)\n",
    "        self.Q = self.d * self.P\n",
    "\n",
    "    def public_key(self):\n",
    "        return self.Q\n",
    "\n",
    "    def sign(self, m):\n",
    "        r = 0\n",
    "        s = 0\n",
    "        while s == 0:\n",
    "            k = 1\n",
    "            while r == 0:\n",
    "                k = randint(1, self.n - 1)\n",
    "                n_Q = k * self.P\n",
    "                (x1, y1) = n_Q.xy()\n",
    "                r = self.Fn(x1)\n",
    "            kk = self.Fn(k)\n",
    "            e = digest(m)\n",
    "            s = kk ^ (-1) * (e + self.d * r)\n",
    "        return [r, s]\n",
    "\n",
    "\n",
    "    def verify(self, m, rs):\n",
    "        r = rs[0]\n",
    "        s = rs[1]\n",
    "        e = digest(m)\n",
    "        w = s ^ (-1)\n",
    "        u1 = (e * w)\n",
    "        u2 = (r * w)\n",
    "        P1 = Integer(u1) * self.P\n",
    "        P2 = Integer(u2) * self.Q\n",
    "        X = P1 + P2\n",
    "        (x, y) = X.xy()\n",
    "        v = self.Fn(x)\n",
    "        return v == r\n",
    "\n",
    "\n",
    "ecdsa = ECDSA()\n",
    "m = \"hello cruel world\"\n",
    "rs = ecdsa.sign(m)\n",
    "print(ecdsa.verify(m, rs))"
   ]
  },
  {
   "cell_type": "code",
   "execution_count": null,
   "id": "solid-guidance",
   "metadata": {},
   "outputs": [],
   "source": []
  }
 ],
 "metadata": {
  "kernelspec": {
   "display_name": "SageMath 9.2",
   "language": "sage",
   "name": "sagemath"
  },
  "language_info": {
   "codemirror_mode": {
    "name": "ipython",
    "version": 3
   },
   "file_extension": ".py",
   "mimetype": "text/x-python",
   "name": "python",
   "nbconvert_exporter": "python",
   "pygments_lexer": "ipython3",
   "version": "3.9.2"
  }
 },
 "nbformat": 4,
 "nbformat_minor": 5
}
