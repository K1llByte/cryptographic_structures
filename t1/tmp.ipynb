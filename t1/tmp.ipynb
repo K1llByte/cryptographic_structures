{
 "cells": [
  {
   "cell_type": "code",
   "execution_count": 1,
   "id": "sensitive-cooperation",
   "metadata": {},
   "outputs": [
    {
     "name": "stdout",
     "output_type": "stream",
     "text": [
      "keygen\n",
      "EC Public Key       :  (3817049063293934270806523501883950036339573046263223714671, 710690728817772434697108308766462251134932505402591094222)\n",
      "EC Private Key      :  3340623040615067747207991320891423261286973592564653254397\n",
      "Signed Message      :  hello\n",
      "ECDSA Signature     :  3210113855521584003713662961897911998942036913987504170707\n",
      "Verification Result :  True\n"
     ]
    }
   ],
   "source": [
    "import hashlib\n",
    "\n",
    "def digest(msg):\n",
    "    msg = msg.encode(\"utf-8\")\n",
    "    return Integer('0x' + hashlib.sha1(msg).hexdigest())\n",
    "\n",
    "F = FiniteField(2**192 - 2**64 - 1)\n",
    "a  = -3\n",
    "b  = 0x64210519E59C80E70FA7E9AB72243049FEB8DEECC146B9B1\n",
    "E  = EllipticCurve(F, [a, b])\n",
    "P  = E((0x188DA80EB03090F67CBF20EB43A18800F4FF0AFD82FF1012,0x07192B95FFC8DA78631011ED6B24CDD573F977A11E794811))\n",
    "n  = 0xFFFFFFFFFFFFFFFFFFFFFFFF99DEF836146BC9B1B4D22831\n",
    "h  = 1\n",
    "Fn = FiniteField(n)\n",
    "\n",
    "\n",
    "def ec_keygen():\n",
    "    print(\"keygen\")\n",
    "    d = randint(1, n - 1)\n",
    "    Q = d * P\n",
    "    return (Q, d)\n",
    "\n",
    "\n",
    "def ecdsa_sign(d,m):\n",
    "    r = 0\n",
    "    s = 0\n",
    "    while s == 0:\n",
    "        k = 1\n",
    "        while r == 0:\n",
    "            k = randint(1, n - 1)\n",
    "            Q = k * P\n",
    "            (x1, y1) = Q.xy()\n",
    "            r = Fn(x1)\n",
    "        kk = Fn(k)\n",
    "        e = digest(m)\n",
    "        s = kk ^ (-1) * (e + d * r)\n",
    "    return [r, s]\n",
    "\n",
    "\n",
    "def ecdsa_verify(Q, m, r, s):\n",
    "    e = digest(m)\n",
    "    w = s ^ (-1)\n",
    "    u1 = (e * w)\n",
    "    u2 = (r * w)\n",
    "    P1 = Integer(u1) * P\n",
    "    P2 = Integer(u2) * Q\n",
    "    X = P1 + P2\n",
    "    (x, y) = X.xy()\n",
    "    v = Fn(x)\n",
    "    return v == r\n",
    "\n",
    "\n",
    "(Q, d) = ec_keygen()\n",
    "#pk: Q, sk:d\n",
    "m = 'hello'\n",
    "\n",
    "\n",
    "[r, s] = ecdsa_sign(d, m)\n",
    "result = ecdsa_verify(Q, m, r, s)\n",
    "\n",
    "print(\"EC Public Key       : \", Q.xy())\n",
    "print(\"EC Private Key      : \", d)\n",
    "print(\"Signed Message      : \", m)\n",
    "print(\"ECDSA Signature     : \", r)\n",
    "print(\"Verification Result : \", result)"
   ]
  },
  {
   "cell_type": "code",
   "execution_count": 3,
   "id": "decimal-preference",
   "metadata": {},
   "outputs": [
    {
     "name": "stdout",
     "output_type": "stream",
     "text": [
      "keygen\n",
      "Verification Result :  True\n"
     ]
    }
   ],
   "source": [
    "import hashlib\n",
    "\n",
    "def digest(msg):\n",
    "    msg = msg.encode(\"utf-8\")\n",
    "    return Integer('0x' + hashlib.sha1(msg).hexdigest())\n",
    "\n",
    "\n",
    "class ECDSA:\n",
    "\n",
    "    F = FiniteField(2**192 - 2**64 - 1)\n",
    "    a  = -3\n",
    "    b  = 0x64210519E59C80E70FA7E9AB72243049FEB8DEECC146B9B1\n",
    "    E  = EllipticCurve(F, [a, b])\n",
    "    P  = E((0x188DA80EB03090F67CBF20EB43A18800F4FF0AFD82FF1012,0x07192B95FFC8DA78631011ED6B24CDD573F977A11E794811))\n",
    "    n  = 0xFFFFFFFFFFFFFFFFFFFFFFFF99DEF836146BC9B1B4D22831\n",
    "    Fn = FiniteField(n)\n",
    "\n",
    "\n",
    "    def keygen(self):\n",
    "        d = randint(1, self.n - 1)\n",
    "        Q = d * self.P\n",
    "        return (Q, d)\n",
    "\n",
    "\n",
    "    def sign(self, d, m):\n",
    "        r = 0\n",
    "        s = 0\n",
    "        while s == 0:\n",
    "            k = 1\n",
    "            while r == 0:\n",
    "                k = randint(1, self.n - 1)\n",
    "                Q = k * self.P\n",
    "                (x1, y1) = Q.xy()\n",
    "                r = Fn(x1)\n",
    "            kk = self.Fn(k)\n",
    "            e = digest(m)\n",
    "            s = kk ^ (-1) * (e + d * r)\n",
    "        return [r, s]\n",
    "\n",
    "\n",
    "    def verify(self, Q, m, r, s):\n",
    "        e = digest(m)\n",
    "        w = s ^ (-1)\n",
    "        u1 = (e * w)\n",
    "        u2 = (r * w)\n",
    "        P1 = Integer(u1) * self.P\n",
    "        P2 = Integer(u2) * Q\n",
    "        X = P1 + P2\n",
    "        (x, y) = X.xy()\n",
    "        v = self.Fn(x)\n",
    "        return v == r\n",
    "\n",
    "\n",
    "ecdsa = ECDSA()\n",
    "\n",
    "(Q, d) = ecdsa.keygen()\n",
    "#pk: Q, sk:d\n",
    "m = 'hello'\n",
    "\n",
    "\n",
    "[r, s] = ecdsa.sign(d, m)\n",
    "result = ecdsa.verify(Q, m, r, s)\n",
    "\n",
    "print(\"Verification Result : \", result)"
   ]
  },
  {
   "cell_type": "code",
   "execution_count": 38,
   "id": "concerned-hawaiian",
   "metadata": {},
   "outputs": [],
   "source": []
  },
  {
   "cell_type": "code",
   "execution_count": 35,
   "id": "headed-compact",
   "metadata": {},
   "outputs": [],
   "source": []
  },
  {
   "cell_type": "code",
   "execution_count": 36,
   "id": "skilled-removal",
   "metadata": {},
   "outputs": [],
   "source": []
  },
  {
   "cell_type": "code",
   "execution_count": 39,
   "id": "dense-accordance",
   "metadata": {},
   "outputs": [
    {
     "name": "stdout",
     "output_type": "stream",
     "text": [
      "keygen\n"
     ]
    }
   ],
   "source": []
  },
  {
   "cell_type": "code",
   "execution_count": 40,
   "id": "equipped-helicopter",
   "metadata": {},
   "outputs": [
    {
     "ename": "TypeError",
     "evalue": "ecdsa_sign() takes 1 positional argument but 2 were given",
     "output_type": "error",
     "traceback": [
      "\u001b[0;31m---------------------------------------------------------------------------\u001b[0m",
      "\u001b[0;31mTypeError\u001b[0m                                 Traceback (most recent call last)",
      "\u001b[0;32m<ipython-input-40-5020237f4ee8>\u001b[0m in \u001b[0;36m<module>\u001b[0;34m\u001b[0m\n\u001b[0;32m----> 1\u001b[0;31m \u001b[0;34m[\u001b[0m\u001b[0mr\u001b[0m\u001b[0;34m,\u001b[0m \u001b[0ms\u001b[0m\u001b[0;34m]\u001b[0m \u001b[0;34m=\u001b[0m \u001b[0mecdsa_sign\u001b[0m\u001b[0;34m(\u001b[0m\u001b[0md\u001b[0m\u001b[0;34m,\u001b[0m \u001b[0mm\u001b[0m\u001b[0;34m)\u001b[0m\u001b[0;34m\u001b[0m\u001b[0;34m\u001b[0m\u001b[0m\n\u001b[0m\u001b[1;32m      2\u001b[0m \u001b[0mresult\u001b[0m \u001b[0;34m=\u001b[0m \u001b[0mecdsa_verify\u001b[0m\u001b[0;34m(\u001b[0m\u001b[0mQ\u001b[0m\u001b[0;34m,\u001b[0m \u001b[0mm\u001b[0m\u001b[0;34m,\u001b[0m \u001b[0mr\u001b[0m\u001b[0;34m,\u001b[0m \u001b[0ms\u001b[0m\u001b[0;34m)\u001b[0m\u001b[0;34m\u001b[0m\u001b[0;34m\u001b[0m\u001b[0m\n\u001b[1;32m      3\u001b[0m \u001b[0;34m\u001b[0m\u001b[0m\n\u001b[1;32m      4\u001b[0m \u001b[0mprint\u001b[0m\u001b[0;34m(\u001b[0m\u001b[0;34m\"EC Public Key       : \"\u001b[0m\u001b[0;34m,\u001b[0m \u001b[0mQ\u001b[0m\u001b[0;34m.\u001b[0m\u001b[0mxy\u001b[0m\u001b[0;34m(\u001b[0m\u001b[0;34m)\u001b[0m\u001b[0;34m)\u001b[0m\u001b[0;34m\u001b[0m\u001b[0;34m\u001b[0m\u001b[0m\n\u001b[1;32m      5\u001b[0m \u001b[0mprint\u001b[0m\u001b[0;34m(\u001b[0m\u001b[0;34m\"EC Private Key      : \"\u001b[0m\u001b[0;34m,\u001b[0m \u001b[0md\u001b[0m\u001b[0;34m)\u001b[0m\u001b[0;34m\u001b[0m\u001b[0;34m\u001b[0m\u001b[0m\n",
      "\u001b[0;31mTypeError\u001b[0m: ecdsa_sign() takes 1 positional argument but 2 were given"
     ]
    }
   ],
   "source": []
  },
  {
   "cell_type": "markdown",
   "id": "educated-redhead",
   "metadata": {},
   "source": [
    "###  ECDSA"
   ]
  },
  {
   "cell_type": "code",
   "execution_count": null,
   "id": "waiting-christianity",
   "metadata": {},
   "outputs": [],
   "source": [
    "class ECDSA:\n",
    "    "
   ]
  }
 ],
 "metadata": {
  "kernelspec": {
   "display_name": "SageMath 9.2",
   "language": "sage",
   "name": "sagemath"
  },
  "language_info": {
   "codemirror_mode": {
    "name": "ipython",
    "version": 3
   },
   "file_extension": ".py",
   "mimetype": "text/x-python",
   "name": "python",
   "nbconvert_exporter": "python",
   "pygments_lexer": "ipython3",
   "version": "3.9.2"
  }
 },
 "nbformat": 4,
 "nbformat_minor": 5
}
