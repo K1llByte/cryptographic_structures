{
 "cells": [
  {
   "cell_type": "code",
   "execution_count": 1,
   "id": "sensitive-cooperation",
   "metadata": {},
   "outputs": [],
   "source": [
    "F = FiniteField(2**192 - 2**64 - 1)\n",
    "a  = -3\n",
    "b  = 0x64210519E59C80E70FA7E9AB72243049FEB8DEECC146B9B1\n",
    "E  = EllipticCurve(F, [a, b])\n",
    "P  = E((0x188DA80EB03090F67CBF20EB43A18800F4FF0AFD82FF1012,0x07192B95FFC8DA78631011ED6B24CDD573F977A11E794811))\n",
    "n  = 0xFFFFFFFFFFFFFFFFFFFFFFFF99DEF836146BC9B1B4D22831\n",
    "h  = 1\n",
    "Fn = FiniteField(n)"
   ]
  },
  {
   "cell_type": "code",
   "execution_count": 2,
   "id": "decimal-preference",
   "metadata": {},
   "outputs": [],
   "source": [
    "import hashlib\n",
    "\n",
    "def digest(msg):\n",
    "\tmsg = msg.encode(\"utf-8\")\n",
    "\treturn Integer('0x' + hashlib.sha1(msg).hexdigest())"
   ]
  },
  {
   "cell_type": "code",
   "execution_count": 3,
   "id": "concerned-hawaiian",
   "metadata": {},
   "outputs": [],
   "source": [
    "def ec_keygen():\n",
    "\tprint(\"keygen\")\n",
    "\td = randint(1, n - 1)\n",
    "\tQ = d * P\n",
    "\treturn (Q, d)"
   ]
  },
  {
   "cell_type": "code",
   "execution_count": 4,
   "id": "headed-compact",
   "metadata": {},
   "outputs": [],
   "source": [
    "def ecdsa_sign(d, m):\n",
    "\tr = 0\n",
    "\ts = 0\n",
    "\twhile s == 0:\n",
    "\t\tk = 1\n",
    "\t\twhile r == 0:\n",
    "\t\t\tk = randint(1, n - 1)\n",
    "\t\t\tQ = k * P\n",
    "\t\t\t(x1, y1) = Q.xy()\n",
    "\t\t\tr = Fn(x1)\n",
    "\t\tkk = Fn(k)\n",
    "\t\te = digest(m)\n",
    "\t\ts = kk ^ (-1) * (e + d * r)\n",
    "\treturn [r, s]"
   ]
  },
  {
   "cell_type": "code",
   "execution_count": 5,
   "id": "skilled-removal",
   "metadata": {},
   "outputs": [],
   "source": [
    "def ecdsa_verify(Q, m, r, s):\n",
    "\te = digest(m)\n",
    "\tw = s ^ (-1)\n",
    "\tu1 = (e * w)\n",
    "\tu2 = (r * w)\n",
    "\tP1 = Integer(u1) * P\n",
    "\tP2 = Integer(u2) * Q\n",
    "\tX = P1 + P2\n",
    "\t(x, y) = X.xy()\n",
    "\tv = Fn(x)\n",
    "\treturn v == r"
   ]
  },
  {
   "cell_type": "code",
   "execution_count": 6,
   "id": "dense-accordance",
   "metadata": {},
   "outputs": [
    {
     "name": "stdout",
     "output_type": "stream",
     "text": [
      "keygen\n"
     ]
    }
   ],
   "source": [
    "(Q, d) = ec_keygen()\n",
    "#pk: Q, sk:d\n",
    "m = 'hello'"
   ]
  },
  {
   "cell_type": "code",
   "execution_count": 7,
   "id": "equipped-helicopter",
   "metadata": {},
   "outputs": [
    {
     "name": "stdout",
     "output_type": "stream",
     "text": [
      "EC Public Key       :  (5450469384056216279361000832889206518468573707576334810334, 4206709068607228811068892969887429783720910553540321036088)\n",
      "EC Private Key      :  2739431309099520575644401555851283486585480501218860171074\n",
      "Signed Message      :  hello\n",
      "ECDSA Signature     :  3045522408392339738751623368298729417684578922448849056677\n",
      "Verification Result :  True\n"
     ]
    }
   ],
   "source": [
    "[r, s] = ecdsa_sign(d, m)\n",
    "result = ecdsa_verify(Q, m, r, s)\n",
    "\n",
    "print(\"EC Public Key       : \", Q.xy())\n",
    "print(\"EC Private Key      : \", d)\n",
    "print(\"Signed Message      : \", m)\n",
    "print(\"ECDSA Signature     : \", r)\n",
    "print(\"Verification Result : \", result)"
   ]
  },
  {
   "cell_type": "markdown",
   "id": "educated-redhead",
   "metadata": {},
   "source": [
    "###  ECDSA"
   ]
  },
  {
   "cell_type": "code",
   "execution_count": null,
   "id": "waiting-christianity",
   "metadata": {},
   "outputs": [],
   "source": [
    "class ECDSA:\n",
    "    "
   ]
  }
 ],
 "metadata": {
  "kernelspec": {
   "display_name": "SageMath 9.2",
   "language": "sage",
   "name": "sagemath"
  },
  "language_info": {
   "codemirror_mode": {
    "name": "ipython",
    "version": 3
   },
   "file_extension": ".py",
   "mimetype": "text/x-python",
   "name": "python",
   "nbconvert_exporter": "python",
   "pygments_lexer": "ipython3",
   "version": "3.9.2"
  }
 },
 "nbformat": 4,
 "nbformat_minor": 5
}
