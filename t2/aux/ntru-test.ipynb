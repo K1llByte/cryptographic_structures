{
 "cells": [
  {
   "cell_type": "code",
   "execution_count": 1,
   "metadata": {},
   "outputs": [],
   "source": [
    "N = next_prime(1000)\n",
    "Q = next_prime(1500)\n",
    "T = N//4\n",
    "\n",
    "_Z.<w>  = ZZ[]\n",
    "R.<w>   = QuotientRing(_Z , _Z.ideal(w^N - 1))\n",
    "\n",
    "_Q.<w>  = Integers(Q)[]\n",
    "Rq.<w>  = QuotientRing(_Q , _Q.ideal(w^N - 1))"
   ]
  },
  {
   "cell_type": "code",
   "execution_count": 2,
   "metadata": {},
   "outputs": [],
   "source": [
    "# Conversão polinomio -> vetor -> polinomio\n",
    "\n",
    "def _toZ(f,p=None):\n",
    "    ff = list(f)\n",
    "    if p == None:\n",
    "        return ff\n",
    "    else:\n",
    "        fp = map(lift,[Mod(a,p) for a in ff])\n",
    "        return [u if u <= p//2 else u-p for u in fp ]\n",
    "\n",
    "def _toR(vec):\n",
    "    return R(vec)\n",
    "\n",
    "def _h(f,g):\n",
    "    _f = Rq(_toZ(f))\n",
    "    _g = Rq(_toZ(g))\n",
    "    try:\n",
    "        fq = _f.inverse_of_unit()\n",
    "        hq = fq * _g\n",
    "        return _toR([lift(a) for a in list(hq)])\n",
    "    except:\n",
    "        return None"
   ]
  },
  {
   "cell_type": "code",
   "execution_count": 3,
   "metadata": {},
   "outputs": [],
   "source": [
    "# Geradores\n",
    "\n",
    "import random as rn\n",
    "\n",
    "\n",
    "#def _fromS(n=N,t=T):\n",
    "#    u = [rn.choice([-1,1]) for i in range(t)] + [0]*(n-t)\n",
    "#    rn.shuffle(u)\n",
    "#    return u\n",
    "\n",
    "def _fromS(n=N):\n",
    "    return [rn.choice([-1,0,1]) for i in range(n)]"
   ]
  },
  {
   "cell_type": "code",
   "execution_count": 4,
   "metadata": {},
   "outputs": [],
   "source": [
    "def KeyGen(n=N, t=T, q=Q):\n",
    "    while True:\n",
    "        F = _fromS()\n",
    "        G = _fromS()\n",
    "        f = 1 + 3 * _toR(F)\n",
    "        g = 3 * _toR(G)\n",
    "        h = _h(f,g)\n",
    "        if h != None:\n",
    "            break\n",
    "    return {'sk' : f , 'pk' : h} \n",
    "\n",
    "def Encrypt(plaintext,pk):\n",
    "    r = _toR(_fromS())\n",
    "    m = _toR(plaintext)\n",
    "    return _toZ(pk*r + m, p=Q)\n",
    "\n",
    "def Decrypt(ciphertext,sk):\n",
    "    e = _toR(ciphertext)\n",
    "    a = _toZ(sk*e, p=Q)\n",
    "    return _toZ(_toR(a), p=3)\n",
    "    \n",
    "def run():\n",
    "    keys   = KeyGen()\n",
    "    plain  = _fromS()\n",
    "    crypto = Encrypt(plain,keys['pk'])\n",
    "    decryp = Decrypt(crypto,keys['sk'])\n",
    "    return plain == decryp\n",
    " "
   ]
  },
  {
   "cell_type": "code",
   "execution_count": 5,
   "metadata": {},
   "outputs": [
    {
     "data": {
      "text/plain": [
       "True"
      ]
     },
     "execution_count": 5,
     "metadata": {},
     "output_type": "execute_result"
    }
   ],
   "source": [
    "run()"
   ]
  },
  {
   "cell_type": "code",
   "execution_count": null,
   "metadata": {},
   "outputs": [],
   "source": []
  }
 ],
 "metadata": {
  "kernelspec": {
   "display_name": "SageMath 9.2",
   "language": "sage",
   "name": "sagemath"
  },
  "language_info": {
   "codemirror_mode": {
    "name": "ipython",
    "version": 3
   },
   "file_extension": ".py",
   "mimetype": "text/x-python",
   "name": "python",
   "nbconvert_exporter": "python",
   "pygments_lexer": "ipython3",
   "version": "3.9.4"
  }
 },
 "nbformat": 4,
 "nbformat_minor": 4
}
