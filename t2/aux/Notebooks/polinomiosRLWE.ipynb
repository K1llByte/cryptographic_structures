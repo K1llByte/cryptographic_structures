{
 "cells": [
  {
   "cell_type": "markdown",
   "id": "chubby-portrait",
   "metadata": {},
   "source": [
    "## Polinómios RLWE"
   ]
  },
  {
   "cell_type": "code",
   "execution_count": 3,
   "id": "simplified-collect",
   "metadata": {},
   "outputs": [],
   "source": [
    "n = 256\n",
    "\n",
    "q = next_prime(3*n)\n",
    "while q % (2*n) != 1:\n",
    "    q = next_prime(q+1)"
   ]
  },
  {
   "cell_type": "code",
   "execution_count": 4,
   "id": "departmental-welcome",
   "metadata": {},
   "outputs": [
    {
     "data": {
      "text/plain": [
       "7681"
      ]
     },
     "execution_count": 4,
     "metadata": {},
     "output_type": "execute_result"
    }
   ],
   "source": [
    "q"
   ]
  },
  {
   "cell_type": "code",
   "execution_count": 5,
   "id": "parliamentary-union",
   "metadata": {},
   "outputs": [],
   "source": [
    "Z = PolynomialRing(ZZ,'w')\n",
    "z = Z.gen()\n",
    "R = PolynomialRing(GF(q),'w')\n",
    "w = R.gen()"
   ]
  },
  {
   "cell_type": "code",
   "execution_count": 6,
   "id": "established-substitute",
   "metadata": {},
   "outputs": [
    {
     "name": "stdout",
     "output_type": "stream",
     "text": [
      "Univariate Polynomial Ring in w over Integer Ring\n",
      "Univariate Polynomial Ring in w over Finite Field of size 7681\n",
      "w\n",
      "w\n"
     ]
    }
   ],
   "source": [
    "print(Z);print(R);print(z);print(w)"
   ]
  },
  {
   "cell_type": "code",
   "execution_count": 7,
   "id": "upper-james",
   "metadata": {},
   "outputs": [
    {
     "name": "stdout",
     "output_type": "stream",
     "text": [
      "Univariate Polynomial Ring in w over Integer Ring\n",
      "Univariate Polynomial Ring in w over Finite Field of size 7681\n",
      "True\n",
      "False\n",
      "Univariate Quotient Polynomial Ring in wbar over Integer Ring with modulus w^256 + 1\n",
      "Univariate Quotient Polynomial Ring in wbar over Finite Field of size 7681 with modulus w^256 + 1\n"
     ]
    }
   ],
   "source": [
    "f  = (z^n + 1)\n",
    "fq = (w^n + 1)\n",
    "\n",
    "print(f.parent()); print(fq.parent())\n",
    "\n",
    "print(f.is_irreducible());  print(fq.is_irreducible())\n",
    "\n",
    "Zq = QuotientRing(Z,f)\n",
    "Rq = QuotientRing(R,fq)\n",
    "\n",
    "print(Zq)\n",
    "print(Rq)"
   ]
  },
  {
   "cell_type": "code",
   "execution_count": 8,
   "id": "crazy-three",
   "metadata": {},
   "outputs": [
    {
     "name": "stdout",
     "output_type": "stream",
     "text": [
      "[w + 62, w + 94, w + 111, w + 113, w + 118, w + 185, w + 201, w + 217, w + 218, w + 296]\n"
     ]
    }
   ],
   "source": [
    "facs = [ ff[0] for ff  in list(factor(fq))]\n",
    "print(facs[:10])"
   ]
  },
  {
   "cell_type": "code",
   "execution_count": 9,
   "id": "synthetic-interval",
   "metadata": {},
   "outputs": [
    {
     "ename": "AttributeError",
     "evalue": "'PolynomialQuotientRing_generic_with_category.element_class' object has no attribute 'quo_rem'",
     "output_type": "error",
     "traceback": [
      "\u001b[0;31m---------------------------------------------------------------------------\u001b[0m",
      "\u001b[0;31mAttributeError\u001b[0m                            Traceback (most recent call last)",
      "\u001b[0;32m<ipython-input-9-1c3ac0628b10>\u001b[0m in \u001b[0;36m<module>\u001b[0;34m\u001b[0m\n\u001b[1;32m      1\u001b[0m \u001b[0ma\u001b[0m \u001b[0;34m=\u001b[0m \u001b[0mRq\u001b[0m\u001b[0;34m.\u001b[0m\u001b[0mrandom_element\u001b[0m\u001b[0;34m(\u001b[0m\u001b[0;34m)\u001b[0m\u001b[0;34m\u001b[0m\u001b[0;34m\u001b[0m\u001b[0m\n\u001b[0;32m----> 2\u001b[0;31m \u001b[0;34m[\u001b[0m \u001b[0ma\u001b[0m\u001b[0;34m.\u001b[0m\u001b[0mquo_rem\u001b[0m\u001b[0;34m(\u001b[0m\u001b[0mr\u001b[0m\u001b[0;34m)\u001b[0m \u001b[0;32mfor\u001b[0m \u001b[0mr\u001b[0m \u001b[0;32min\u001b[0m \u001b[0mfacs\u001b[0m\u001b[0;34m]\u001b[0m\u001b[0;34m\u001b[0m\u001b[0;34m\u001b[0m\u001b[0m\n\u001b[0m",
      "\u001b[0;32m<ipython-input-9-1c3ac0628b10>\u001b[0m in \u001b[0;36m<listcomp>\u001b[0;34m(.0)\u001b[0m\n\u001b[1;32m      1\u001b[0m \u001b[0ma\u001b[0m \u001b[0;34m=\u001b[0m \u001b[0mRq\u001b[0m\u001b[0;34m.\u001b[0m\u001b[0mrandom_element\u001b[0m\u001b[0;34m(\u001b[0m\u001b[0;34m)\u001b[0m\u001b[0;34m\u001b[0m\u001b[0;34m\u001b[0m\u001b[0m\n\u001b[0;32m----> 2\u001b[0;31m \u001b[0;34m[\u001b[0m \u001b[0ma\u001b[0m\u001b[0;34m.\u001b[0m\u001b[0mquo_rem\u001b[0m\u001b[0;34m(\u001b[0m\u001b[0mr\u001b[0m\u001b[0;34m)\u001b[0m \u001b[0;32mfor\u001b[0m \u001b[0mr\u001b[0m \u001b[0;32min\u001b[0m \u001b[0mfacs\u001b[0m\u001b[0;34m]\u001b[0m\u001b[0;34m\u001b[0m\u001b[0;34m\u001b[0m\u001b[0m\n\u001b[0m",
      "\u001b[0;32m~/opt/anaconda3/envs/sagemath/lib/python3.8/site-packages/sage/structure/element.pyx\u001b[0m in \u001b[0;36msage.structure.element.Element.__getattr__ (build/cythonized/sage/structure/element.c:4701)\u001b[0;34m()\u001b[0m\n\u001b[1;32m    491\u001b[0m             \u001b[0mAttributeError\u001b[0m\u001b[0;34m:\u001b[0m \u001b[0;34m'LeftZeroSemigroup_with_category.element_class'\u001b[0m \u001b[0mobject\u001b[0m \u001b[0mhas\u001b[0m \u001b[0mno\u001b[0m \u001b[0mattribute\u001b[0m \u001b[0;34m'blah_blah'\u001b[0m\u001b[0;34m\u001b[0m\u001b[0;34m\u001b[0m\u001b[0m\n\u001b[1;32m    492\u001b[0m         \"\"\"\n\u001b[0;32m--> 493\u001b[0;31m         \u001b[0;32mreturn\u001b[0m \u001b[0mself\u001b[0m\u001b[0;34m.\u001b[0m\u001b[0mgetattr_from_category\u001b[0m\u001b[0;34m(\u001b[0m\u001b[0mname\u001b[0m\u001b[0;34m)\u001b[0m\u001b[0;34m\u001b[0m\u001b[0;34m\u001b[0m\u001b[0m\n\u001b[0m\u001b[1;32m    494\u001b[0m \u001b[0;34m\u001b[0m\u001b[0m\n\u001b[1;32m    495\u001b[0m     \u001b[0mcdef\u001b[0m \u001b[0mgetattr_from_category\u001b[0m\u001b[0;34m(\u001b[0m\u001b[0mself\u001b[0m\u001b[0;34m,\u001b[0m \u001b[0mname\u001b[0m\u001b[0;34m)\u001b[0m\u001b[0;34m:\u001b[0m\u001b[0;34m\u001b[0m\u001b[0;34m\u001b[0m\u001b[0m\n",
      "\u001b[0;32m~/opt/anaconda3/envs/sagemath/lib/python3.8/site-packages/sage/structure/element.pyx\u001b[0m in \u001b[0;36msage.structure.element.Element.getattr_from_category (build/cythonized/sage/structure/element.c:4813)\u001b[0;34m()\u001b[0m\n\u001b[1;32m    504\u001b[0m         \u001b[0;32melse\u001b[0m\u001b[0;34m:\u001b[0m\u001b[0;34m\u001b[0m\u001b[0;34m\u001b[0m\u001b[0m\n\u001b[1;32m    505\u001b[0m             \u001b[0mcls\u001b[0m \u001b[0;34m=\u001b[0m \u001b[0mP\u001b[0m\u001b[0;34m.\u001b[0m\u001b[0m_abstract_element_class\u001b[0m\u001b[0;34m\u001b[0m\u001b[0;34m\u001b[0m\u001b[0m\n\u001b[0;32m--> 506\u001b[0;31m         \u001b[0;32mreturn\u001b[0m \u001b[0mgetattr_from_other_class\u001b[0m\u001b[0;34m(\u001b[0m\u001b[0mself\u001b[0m\u001b[0;34m,\u001b[0m \u001b[0mcls\u001b[0m\u001b[0;34m,\u001b[0m \u001b[0mname\u001b[0m\u001b[0;34m)\u001b[0m\u001b[0;34m\u001b[0m\u001b[0;34m\u001b[0m\u001b[0m\n\u001b[0m\u001b[1;32m    507\u001b[0m \u001b[0;34m\u001b[0m\u001b[0m\n\u001b[1;32m    508\u001b[0m     \u001b[0;32mdef\u001b[0m \u001b[0m__dir__\u001b[0m\u001b[0;34m(\u001b[0m\u001b[0mself\u001b[0m\u001b[0;34m)\u001b[0m\u001b[0;34m:\u001b[0m\u001b[0;34m\u001b[0m\u001b[0;34m\u001b[0m\u001b[0m\n",
      "\u001b[0;32m~/opt/anaconda3/envs/sagemath/lib/python3.8/site-packages/sage/cpython/getattr.pyx\u001b[0m in \u001b[0;36msage.cpython.getattr.getattr_from_other_class (build/cythonized/sage/cpython/getattr.c:2552)\u001b[0;34m()\u001b[0m\n\u001b[1;32m    365\u001b[0m         \u001b[0mdummy_error_message\u001b[0m\u001b[0;34m.\u001b[0m\u001b[0mcls\u001b[0m \u001b[0;34m=\u001b[0m \u001b[0mtype\u001b[0m\u001b[0;34m(\u001b[0m\u001b[0mself\u001b[0m\u001b[0;34m)\u001b[0m\u001b[0;34m\u001b[0m\u001b[0;34m\u001b[0m\u001b[0m\n\u001b[1;32m    366\u001b[0m         \u001b[0mdummy_error_message\u001b[0m\u001b[0;34m.\u001b[0m\u001b[0mname\u001b[0m \u001b[0;34m=\u001b[0m \u001b[0mname\u001b[0m\u001b[0;34m\u001b[0m\u001b[0;34m\u001b[0m\u001b[0m\n\u001b[0;32m--> 367\u001b[0;31m         \u001b[0;32mraise\u001b[0m \u001b[0mAttributeError\u001b[0m\u001b[0;34m(\u001b[0m\u001b[0mdummy_error_message\u001b[0m\u001b[0;34m)\u001b[0m\u001b[0;34m\u001b[0m\u001b[0;34m\u001b[0m\u001b[0m\n\u001b[0m\u001b[1;32m    368\u001b[0m     \u001b[0mcdef\u001b[0m \u001b[0mPyObject\u001b[0m\u001b[0;34m*\u001b[0m \u001b[0mattr\u001b[0m \u001b[0;34m=\u001b[0m \u001b[0minstance_getattr\u001b[0m\u001b[0;34m(\u001b[0m\u001b[0mcls\u001b[0m\u001b[0;34m,\u001b[0m \u001b[0mname\u001b[0m\u001b[0;34m)\u001b[0m\u001b[0;34m\u001b[0m\u001b[0;34m\u001b[0m\u001b[0m\n\u001b[1;32m    369\u001b[0m     \u001b[0;32mif\u001b[0m \u001b[0mattr\u001b[0m \u001b[0;32mis\u001b[0m \u001b[0mNULL\u001b[0m\u001b[0;34m:\u001b[0m\u001b[0;34m\u001b[0m\u001b[0;34m\u001b[0m\u001b[0m\n",
      "\u001b[0;31mAttributeError\u001b[0m: 'PolynomialQuotientRing_generic_with_category.element_class' object has no attribute 'quo_rem'"
     ]
    }
   ],
   "source": [
    "a = Rq.random_element()\n",
    "[ a.quo_rem(r) for r in facs]"
   ]
  },
  {
   "cell_type": "code",
   "execution_count": null,
   "id": "patent-peace",
   "metadata": {},
   "outputs": [],
   "source": [
    "a = Zq.random_element()\n",
    "b = Rq.random_element()\n",
    "\n",
    "\n",
    "c0 = Z(3)\n",
    "c1 = Zq(3)\n",
    "c2 = R(3)\n",
    "c3 = Rq(3)\n",
    "\n",
    "c4 = ZZ(3)\n",
    "c5 = GF(q)(3)"
   ]
  },
  {
   "cell_type": "code",
   "execution_count": null,
   "id": "plastic-billion",
   "metadata": {},
   "outputs": [],
   "source": [
    "print((a * b).parent())"
   ]
  },
  {
   "cell_type": "code",
   "execution_count": null,
   "id": "funny-communist",
   "metadata": {},
   "outputs": [],
   "source": [
    "print((c0 * c1).parent())\n",
    "print((c0 * c2).parent())\n",
    "print((c0 * c3).parent())\n",
    "print((c1 * c2).parent())\n",
    "print((c1 * c3).parent())\n",
    "print((c2 * c3).parent())"
   ]
  },
  {
   "cell_type": "code",
   "execution_count": null,
   "id": "supported-theory",
   "metadata": {},
   "outputs": [],
   "source": [
    "print((c4 * a).parent())\n",
    "print((c5 * a).parent())\n",
    "print((c4 * b).parent())\n",
    "print((c5 * b).parent())"
   ]
  },
  {
   "cell_type": "code",
   "execution_count": null,
   "id": "pointed-shoot",
   "metadata": {},
   "outputs": [],
   "source": [
    "a.coefficients()"
   ]
  },
  {
   "cell_type": "code",
   "execution_count": null,
   "id": "qualified-thriller",
   "metadata": {},
   "outputs": [],
   "source": []
  }
 ],
 "metadata": {
  "kernelspec": {
   "display_name": "SageMath 9.2",
   "language": "sage",
   "name": "sagemath"
  },
  "language_info": {
   "codemirror_mode": {
    "name": "ipython",
    "version": 3
   },
   "file_extension": ".py",
   "mimetype": "text/x-python",
   "name": "python",
   "nbconvert_exporter": "python",
   "pygments_lexer": "ipython3",
   "version": "3.8.8"
  }
 },
 "nbformat": 4,
 "nbformat_minor": 5
}
