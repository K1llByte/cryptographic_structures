{
 "cells": [
  {
   "cell_type": "code",
   "execution_count": 24,
   "metadata": {},
   "outputs": [],
   "source": [
    "import random as rn\n",
    "from cryptography.hazmat.primitives import hashes\n",
    "import numpy as np"
   ]
  },
  {
   "cell_type": "code",
   "execution_count": 25,
   "metadata": {},
   "outputs": [],
   "source": [
    "K = GF(2)\n",
    "um = K(1)\n",
    "zero = K(0)\n",
    "\n",
    "r = 257\n",
    "n = 2*r\n",
    "t = 16"
   ]
  },
  {
   "cell_type": "code",
   "execution_count": 26,
   "metadata": {},
   "outputs": [],
   "source": [
    "Vn  = VectorSpace(K,n)\n",
    "Vr  = VectorSpace(K,r)\n",
    "Vq  = VectorSpace(QQ,r)\n",
    "\n",
    "Mr  = MatrixSpace(K,n,r)"
   ]
  },
  {
   "cell_type": "code",
   "execution_count": 27,
   "metadata": {},
   "outputs": [],
   "source": [
    "def mask(u,v):                                   ## \n",
    "    return u.pairwise_product(v)\n",
    "\n",
    "def hamm(u):                                     ## peso de Hamming\n",
    "    return sum([1 if a == um else 0 for a in u])"
   ]
  },
  {
   "cell_type": "code",
   "execution_count": 52,
   "metadata": {},
   "outputs": [],
   "source": [
    "# Matrizes circulantes de tamanho r com r primo\n",
    "\n",
    "R = PolynomialRing(K,name='w')\n",
    "w = R.gen()\n",
    "Rr = QuotientRing(R,R.ideal(w^r+1))\n",
    "\n",
    "def rot(h):\n",
    "    v = Vr() ; v[0] = h[-1]\n",
    "    for i in range(r-1):\n",
    "        v[i+1] = h[i]\n",
    "    return v\n",
    "\n",
    "def Rot(h):\n",
    "    M = Matrix(K,r,r) ; M[0] = expand(h)\n",
    "    for i in range(1,r):\n",
    "        M[i] = rot(M[i-1])\n",
    "    return M\n",
    "\n",
    "def expand(f):\n",
    "    fl = f.list(); ex = r - len(fl)\n",
    "    return Vr(fl + [zero]*ex)\n",
    "\n",
    "def expand2(code):\n",
    "    (f0,f1) = code\n",
    "    f = expand(f0).list() + expand(f1).list()\n",
    "    return Vn(f)\n",
    "\n",
    "def unexpand2(vec):\n",
    "    u = vec.list()\n",
    "    return (Rr(u[:r]),Rr(u[r:]))\n",
    "\n",
    "def mk_key(a):\n",
    "    uu  = np.packbits(list(map(lift,expand2(a))))\n",
    "    hsh =  hashes.Hash(hashes.SHAKE256(int(256)))\n",
    "    hsh.update(uu)\n",
    "    return hsh.finalize()"
   ]
  },
  {
   "cell_type": "markdown",
   "metadata": {},
   "source": [
    "## O algoritmo de descodificação  Bit-Flip"
   ]
  },
  {
   "cell_type": "code",
   "execution_count": 29,
   "metadata": {},
   "outputs": [],
   "source": [
    "# Uma implementação do algoritmo Bit Flip sem quaisquer optimizações\n",
    "\n",
    "def BF(H,code,synd,cnt_iter=r, errs=0):\n",
    " \n",
    "    mycode = code\n",
    "    mysynd = synd\n",
    "    \n",
    "    while cnt_iter > 0 and hamm(mysynd) > errs:\n",
    "        cnt_iter   = cnt_iter - 1\n",
    "        \n",
    "        unsats     = [hamm(mask(mysynd,H[i])) for i in range(n)]\n",
    "        max_unsats = max(unsats)\n",
    "        \n",
    "        for i in range(n):\n",
    "            if unsats[i] == max_unsats:\n",
    "                mycode[i]  += um               ## bit-flip\n",
    "                mysynd     += H[i]\n",
    "\n",
    "    if cnt_iter == 0:\n",
    "        raise ValueError(\"BF: limite de iterações ultrapassado\")\n",
    "    \n",
    "    return mycode    "
   ]
  },
  {
   "cell_type": "markdown",
   "metadata": {},
   "source": [
    "## O  PKE  BIKE"
   ]
  },
  {
   "cell_type": "code",
   "execution_count": 30,
   "metadata": {},
   "outputs": [],
   "source": [
    "#sparse polynomials of size r\n",
    "\n",
    "# produz sempre um polinómio mónico com o último coeficiente igual a 1\n",
    "# o parametro \"sparse > 0\"  é o numero de coeficientes não nulos sem contar com o primeiro e o ultimo\n",
    "\n",
    "def sparse_pol(sparse=3):\n",
    "    coeffs = [1]*sparse + [0]*(r-2-sparse)\n",
    "    rn.shuffle(coeffs)\n",
    "    return Rr([1]+coeffs+[1])\n",
    "\n",
    "## Noise\n",
    "# produz um par de polinomios dispersos de tamanho \"r\" com um dado número total de erros \"t\"\n",
    "\n",
    "def noise(t):\n",
    "    el = [um]*t + [zero]*(n-t)\n",
    "    rn.shuffle(el)  \n",
    "    return (Rr(el[:r]),Rr(el[r:]))\n",
    "    "
   ]
  },
  {
   "cell_type": "code",
   "execution_count": 44,
   "metadata": {},
   "outputs": [],
   "source": [
    "## Bike\n",
    "\n",
    "def bikeKG():\n",
    "    while True:\n",
    "        h0 = sparse_pol(); h1 = sparse_pol()\n",
    "        if h0 != h1 and h0.is_unit() and h1.is_unit():\n",
    "            break\n",
    "\n",
    "    h = (h0,h1)                          # chave privada\n",
    "    g = (1, h0/h1)                       # chave pública para um código sistemático\n",
    "    return (g,h)\n",
    "\n",
    "def bikeEncrypt(g,mess=None):\n",
    "    (g0,g1) = g \n",
    "    (e0,e1) = noise(t)\n",
    "    if mess != None:\n",
    "        m = mess\n",
    "        return (m * g0 + e0, m * g1 + e1)       # Modelo McEliece PKE\n",
    "    else:\n",
    "        m = Rr.random_element()\n",
    "        key = mk_key((e0,e1))\n",
    "        enc = (m * g0 + e0, m * g1 + e1)\n",
    "        return (key,enc)                         # Modelo KEM\n",
    "\n",
    "def bikeDecrypt(h,crypt,kem=False):\n",
    "    code = expand2(crypt)                   # converter para vetor\n",
    "    \n",
    "    (h0,h1) = h                             # a partir da chave privada gera a matriz de paridades\n",
    "    H = block_matrix(2,1,[Rot(h0),Rot(h1)])\n",
    "    synd = code * H                         # calcula o sindroma\n",
    "    \n",
    "    cw = BF(H,code,synd)                    # descodifica usando BitFlip em vetores\n",
    "    \n",
    "    (cw0,cw1) = unexpand2(cw)               # passar a polinómios\n",
    "    assert cw1*h1 == cw0*h0                 # confirmação\n",
    "    \n",
    "    if not kem:\n",
    "        return cw0                 # como é um código sistemático a primeira componente da cw é a mensagem\n",
    "    else:                          # modelo KEM\n",
    "        enc0 , enc1 = crypt\n",
    "        return mk_key((cw0 + enc0 , cw1 + enc1))"
   ]
  },
  {
   "cell_type": "markdown",
   "metadata": {},
   "source": [
    "## TESTE PKE"
   ]
  },
  {
   "cell_type": "code",
   "execution_count": 32,
   "metadata": {},
   "outputs": [
    {
     "data": {
      "text/plain": [
       "True"
      ]
     },
     "execution_count": 32,
     "metadata": {},
     "output_type": "execute_result"
    }
   ],
   "source": [
    "## gera o par de chaves\n",
    "\n",
    "(g,h) = bikeKG()\n",
    "\n",
    "## gera uma mensagem arbitrária\n",
    "m = Rr.random_element()  \n",
    "\n",
    "# Cifra\n",
    "cr = bikeEncrypt(g,m)\n",
    "\n",
    "# Decifra\n",
    "m1 = bikeDecrypt(h,cr)\n",
    "\n",
    "# Verifica\n",
    "m == m1"
   ]
  },
  {
   "cell_type": "markdown",
   "metadata": {},
   "source": [
    "## TESTE KEM"
   ]
  },
  {
   "cell_type": "code",
   "execution_count": 55,
   "metadata": {},
   "outputs": [],
   "source": [
    "k1,enc = bikeEncrypt(g)"
   ]
  },
  {
   "cell_type": "code",
   "execution_count": 56,
   "metadata": {},
   "outputs": [],
   "source": [
    "k2 = bikeDecrypt(h,enc,kem=True)"
   ]
  },
  {
   "cell_type": "code",
   "execution_count": 57,
   "metadata": {},
   "outputs": [
    {
     "data": {
      "text/plain": [
       "True"
      ]
     },
     "execution_count": 57,
     "metadata": {},
     "output_type": "execute_result"
    }
   ],
   "source": [
    "k1 == k2"
   ]
  },
  {
   "cell_type": "code",
   "execution_count": null,
   "metadata": {},
   "outputs": [],
   "source": []
  }
 ],
 "metadata": {
  "kernelspec": {
   "display_name": "SageMath 9.2",
   "language": "sage",
   "name": "sagemath"
  },
  "language_info": {
   "codemirror_mode": {
    "name": "ipython",
    "version": 3
   },
   "file_extension": ".py",
   "mimetype": "text/x-python",
   "name": "python",
   "nbconvert_exporter": "python",
   "pygments_lexer": "ipython3",
   "version": "3.9.4"
  }
 },
 "nbformat": 4,
 "nbformat_minor": 4
}
