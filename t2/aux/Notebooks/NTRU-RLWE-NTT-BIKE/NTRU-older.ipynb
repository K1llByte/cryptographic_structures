{
 "cells": [
  {
   "cell_type": "markdown",
   "metadata": {},
   "source": [
    "# Duas implementações do cripto esquema NTRU"
   ]
  },
  {
   "cell_type": "markdown",
   "metadata": {},
   "source": [
    "# Parte A \n",
    "### NTRU Textbook\n",
    "\n",
    "**parâmetros $N,t,p,q$**\n",
    "\n",
    "Esta implementação é essencialmente \"textbook\" inicial mas tem algumas variantes seguindo as tendências recentes:\n",
    "1. usa multiplicações sobre anéis ciclotómicos determinados por quotientes  $x^N+1$ sendo $N$ uma potência de $2$. \n",
    "1. o parâmetro $q$ não é da forma $2^d$ (para algum $d$) mas sim um primo da forma $1+p\\,2^d$."
   ]
  },
  {
   "cell_type": "code",
   "execution_count": 5,
   "metadata": {},
   "outputs": [],
   "source": [
    "t = 64\n",
    "p = ZZ(7)\n",
    "N = 2**9              # N é uma potência de 2\n",
    "\n",
    "d = 4\n",
    "# definição de \"q\" como o menor primo tal que \"(q-1)/p\" é uma potência de \"2\" \n",
    "# maior ou igual a \"2^d\"\n",
    "u = p << d\n",
    "while not is_prime(u + 1):\n",
    "    u = u << 1\n",
    "q = u + 1"
   ]
  },
  {
   "cell_type": "markdown",
   "metadata": {},
   "source": [
    "**Construção dos anéis de polinómios usados no NTRU**"
   ]
  },
  {
   "cell_type": "code",
   "execution_count": 6,
   "metadata": {
    "collapsed": true
   },
   "outputs": [],
   "source": [
    "Zx.<x> = PolynomialRing(ZZ)        # polinómios de coeficientes inteiros\n",
    "Qx.<x> = PolynomialRing(GF(q))     # polinómios de coeficientes inteiros módulo \"q\"\n",
    "Px.<x> = PolynomialRing(GF(p))     # polinómios de coeficientes inteiros módulo \"p\"\n",
    "\n",
    "quo = (x^N+1)\n",
    "# Versões dos polinómios anteriores módulo o polinómio ciclotómico\n",
    "Zxr.<x> = Zx.quotient(Zx(quo))\n",
    "Qxr.<x> = Qx.quotient(Qx(quo))\n",
    "Pxr.<x> = Px.quotient(Px(quo))"
   ]
  },
  {
   "cell_type": "markdown",
   "metadata": {},
   "source": [
    "**Funções auxiliares para fazer o 'lift' de  polinómios**"
   ]
  },
  {
   "cell_type": "code",
   "execution_count": 7,
   "metadata": {},
   "outputs": [],
   "source": [
    "def _lift(pol):                      # converte qualquer polinómio em Zx\n",
    "    return Zx(map(lift,pol.list()))\n",
    "\n",
    "def _round(pol,r):             # análogo a _lift mas converte os coeficientes \n",
    "                               # ao intervalo simétrico  com r elementos (r é ímpar)\n",
    "    u = map(lambda n: n%r, map(lift,pol.list())) \n",
    "    rr = r//2          \n",
    "    return Zx([n if n <= rr else n - r  for n in u])\n",
    "\n"
   ]
  },
  {
   "cell_type": "markdown",
   "metadata": {},
   "source": [
    "**Gerar  polinómios ternários aleatórios**\n",
    "\n",
    "- `small_poly` : polinómios de coeficientes inteiros $\\left\\{-1,0,1\\right\\}$ em que o número de coeficientes não-zero é aproximadamente $t$ e, dentro destes, o número de $1$'s é aproximadamente igual ao número de $-1$'s.\n",
    "- `poly`: polinómios de coeficientes inteiros $\\left\\{-1,0,1\\right\\}$ com todos os valores escolhidos com igual probabilidade"
   ]
  },
  {
   "cell_type": "code",
   "execution_count": 8,
   "metadata": {
    "collapsed": true
   },
   "outputs": [],
   "source": [
    "from random import *\n",
    "\n",
    "# generators for  random polynomials with coefficients    [1,0,-1]\n",
    "\n",
    "def small_poly(N):      # \"small\" significa que o número de elementos diferentes \n",
    "                       # de zero é aproximadamente t\n",
    "    u = floor(2*N/t)\n",
    "    v = 0 ; l = [0]*N \n",
    "    while True:\n",
    "            v += randint(1,u)\n",
    "            if v >= N-1:\n",
    "                break\n",
    "            else:\n",
    "                l[v] = choice([-1,1])\n",
    "    return Zx(l)\n",
    "    \n",
    "def poly(N):\n",
    "    return  Zx([choice([-1,0,1]) for k in range(N)])"
   ]
  },
  {
   "cell_type": "markdown",
   "metadata": {},
   "source": [
    "### A classe NTRUtxb"
   ]
  },
  {
   "cell_type": "code",
   "execution_count": 9,
   "metadata": {
    "collapsed": true
   },
   "outputs": [],
   "source": [
    "class NTRUtxb:\n",
    "    def __init__(self):\n",
    "        while True:\n",
    "            f = small_poly(N)\n",
    "            if Qxr(f).is_unit() and Pxr(f).is_unit():\n",
    "                break\n",
    "        fp = Pxr(f)^(-1) ; fq = Qxr(f)^(-1) ; w = small_poly(N)\n",
    "        self.h = _lift(Qxr(w)*fq)\n",
    "        self.pk = (f , _lift(fp))\n",
    "        \n",
    "    def encrypt(self,m):\n",
    "        gamma = small_poly(N)\n",
    "        return _lift(Qxr(m) + Qxr(p*gamma)*Qxr(self.h))\n",
    "\n",
    "    def decrypt(self,e):\n",
    "        (f,fp) = self.pk\n",
    "        a = _round(Qxr(f)*Qxr(e),q)\n",
    "        return  _round(Pxr(fp)*Pxr(a),p)"
   ]
  },
  {
   "cell_type": "markdown",
   "metadata": {},
   "source": [
    "**Exemplo e Teste**"
   ]
  },
  {
   "cell_type": "code",
   "execution_count": 10,
   "metadata": {},
   "outputs": [
    {
     "data": {
      "text/plain": [
       "False"
      ]
     },
     "execution_count": 10,
     "metadata": {},
     "output_type": "execute_result"
    }
   ],
   "source": [
    "# Uma instância NTRU\n",
    "K = NTRUtxb() \n",
    "# Uma mensagem aleatória\n",
    "m = poly(N)\n",
    "# Cifrar\n",
    "e = K.encrypt(m)  \n",
    "# Decifrar e verificar a correcção\n",
    "m == K.decrypt(e)"
   ]
  },
  {
   "cell_type": "markdown",
   "metadata": {},
   "source": [
    "**Questão**\n",
    "Em termos de tamanho como se compara a mensagem $m$ com o criptograma $e$ ?"
   ]
  },
  {
   "cell_type": "markdown",
   "metadata": {},
   "source": [
    "# Parte B\n",
    "\n",
    "## NTRU Prime \n",
    "segundo o paper **NTRU Prime** de *D.J. Bernstein, C. Chuengsatiansup, T. Lange1 and C. van Vredendaal*."
   ]
  },
  {
   "cell_type": "markdown",
   "metadata": {},
   "source": [
    "**Parâmetros e geração dos anéis de polinómios**"
   ]
  },
  {
   "cell_type": "code",
   "execution_count": 15,
   "metadata": {
    "collapsed": true
   },
   "outputs": [],
   "source": [
    "t = 64\n",
    "q = 24*t\n",
    "while True:\n",
    "    if (1+q).is_prime():\n",
    "        break\n",
    "    else:\n",
    "        q += 3\n",
    "q += 1\n",
    " \n",
    "Zx.<x>  = ZZ[]\n",
    "Z3.<y>  = PolynomialRing(GF(3))\n",
    "Gq.<z>  = GF(q)[]\n",
    " \n",
    "p = next_prime(2*t)\n",
    "while True:\n",
    "    if  Gq(x^p-x-1).is_irreducible():\n",
    "        break\n",
    "    else:\n",
    "        p = next_prime(p+1)\n",
    "\n",
    "Zxr.<x> = Zx.quotient(x^p-x-1)\n",
    "Z3r.<y> = Z3.quotient(y^p-y-1)\n",
    "Gqr.<z> = Gq.quotient(z^p-z-1)\n",
    "\n",
    "# lifting\n",
    "\n",
    "def _lift(w):\n",
    "    return Zx(map(lift,w.list()))"
   ]
  },
  {
   "cell_type": "code",
   "execution_count": 16,
   "metadata": {},
   "outputs": [
    {
     "name": "stdout",
     "output_type": "stream",
     "text": [
      "2*y^5 + y^4 + y^3 + 1\n",
      "648*z^5 + 1046*z^4 + z^3 + 1\n"
     ]
    }
   ],
   "source": [
    "# Teste de \"casting\"\n",
    "# i.e. converter um polinómio do anel mais geral para um anel mais específico\n",
    "u = Zx([1,0,0,1,3400000003,10000000031]) ; a = Z3r(u) ; b = Gqr(u)\n",
    "print a ; print b"
   ]
  },
  {
   "cell_type": "markdown",
   "metadata": {},
   "source": [
    "###  Funções auxiliares"
   ]
  },
  {
   "cell_type": "code",
   "execution_count": 17,
   "metadata": {
    "collapsed": true
   },
   "outputs": [],
   "source": [
    "# random polynomial: generadores, o operador weight e o \"arredondamento\"\n",
    "\n",
    "from random import choice, randint\n",
    "\n",
    "def _small_poly(p,t=None):\n",
    "    if not t:\n",
    "        return Zx([choice([-1,0,1]) for k in range(p)])\n",
    "    u = floor(2*(p-1)//t) ; k = randint(0,u) ; l = [0]*p\n",
    "    while k < p:\n",
    "        l[k] = choice([-1,1]) ; k += randint(1,u)\n",
    "    return Zx(l)\n",
    "\n",
    "def _is_small(w):\n",
    "    return reduce(lambda x,y : x and y^2 <= 1,w.list(),True)\n",
    "    \n",
    "def _weight(w):\n",
    "    return reduce(lambda x,y: x+1 if y!=0 else x,w.list()) \n",
    "    \n",
    "def _round(w,n=q):          \n",
    "    \"\"\"\n",
    "         input:  polinómio em Gqr ou Z3r\n",
    "         output: transpõe os coeficientes para o intervalo -n//2..+n//2\n",
    "    \"\"\"\n",
    "    r = n//2\n",
    "    return Zx(map(lambda x: lift(x + r) - r , w.list()))\n",
    "    \n",
    "def _round_3(w):        \n",
    "    \"\"\" \n",
    "         transpõe os coeficientes de \"w\" para o intervalo -q//2..+q//2 \n",
    "         e arredonda-os ao múltiplo de 3 mais próximo\n",
    "    \"\"\"\n",
    "    def _f(x):\n",
    "        return ((x/3).round())*3 \n",
    "    r = q//2\n",
    "    return  Zx(map(lambda x: _f(lift(x+r) - r) , w.list()))\n",
    "    \n",
    "import hashlib\n",
    "\n",
    "def Hash(w):\n",
    "    ww = reduce(lambda x,y: x + y.binary(), w.list() , \"\") \n",
    "    return hashlib.sha256(ww).hexdigest()"
   ]
  },
  {
   "cell_type": "markdown",
   "metadata": {},
   "source": [
    "**Teste e verificação**"
   ]
  },
  {
   "cell_type": "code",
   "execution_count": 18,
   "metadata": {},
   "outputs": [],
   "source": [
    "#u = Gqr(_small_poly(p)) * Gqr(_small_poly(p)) \n",
    "#_round_3(u)"
   ]
  },
  {
   "cell_type": "markdown",
   "metadata": {},
   "source": [
    "## A classe NTRUprime\n",
    "\n",
    "Implementada como um KEM"
   ]
  },
  {
   "cell_type": "code",
   "execution_count": 19,
   "metadata": {
    "collapsed": true
   },
   "outputs": [],
   "source": [
    "class NTRUprime(object):\n",
    "    def __init__(self):\n",
    "        g = _small_poly(p)\n",
    "        while not Z3r(g).is_unit():\n",
    "            g = _small_poly(p)\n",
    "        f = _small_poly(p,t) ; g_inv = Z3r(g)^(-1)\n",
    "        self.secret = (f , g_inv)                      # chave privada é um par (Zx, Z3r)\n",
    "        self.pk = Gqr(g)/Gqr(3*f)                      # chave pública em Gqr\n",
    "        \n",
    "    def encapsulate(self):\n",
    "        w = _small_poly(p,t)\n",
    "        key = Hash(w)\n",
    "        C   = _round_3(Gqr(w)*self.pk)\n",
    "        return (key, C)\n",
    " \n",
    "    def reveal(self,C):\n",
    "        (f , s) = self.secret\n",
    "        e = s * Z3r(_round(Gqr(3*f) * Gqr(C))) ; w = _round(e,n=3) ; \n",
    "        key = Hash(w)\n",
    "        return key"
   ]
  },
  {
   "cell_type": "markdown",
   "metadata": {},
   "source": [
    "** Teste e Verificação**"
   ]
  },
  {
   "cell_type": "code",
   "execution_count": 20,
   "metadata": {},
   "outputs": [
    {
     "data": {
      "text/plain": [
       "True"
      ]
     },
     "execution_count": 20,
     "metadata": {},
     "output_type": "execute_result"
    }
   ],
   "source": [
    "# instância e geração de chaves\n",
    "K = NTRUprime()\n",
    "# Cifrar\n",
    "(key,C) = K.encapsulate() \n",
    "# Decifrar e verificar\n",
    "key == K.reveal(C)"
   ]
  },
  {
   "cell_type": "code",
   "execution_count": null,
   "metadata": {
    "collapsed": true
   },
   "outputs": [],
   "source": []
  }
 ],
 "metadata": {
  "kernelspec": {
   "display_name": "SageMath 9.2",
   "language": "sage",
   "name": "sagemath"
  },
  "language_info": {
   "codemirror_mode": {
    "name": "ipython",
    "version": 3
   },
   "file_extension": ".py",
   "mimetype": "text/x-python",
   "name": "python",
   "nbconvert_exporter": "python",
   "pygments_lexer": "ipython3",
   "version": "3.9.4"
  }
 },
 "nbformat": 4,
 "nbformat_minor": 2
}
