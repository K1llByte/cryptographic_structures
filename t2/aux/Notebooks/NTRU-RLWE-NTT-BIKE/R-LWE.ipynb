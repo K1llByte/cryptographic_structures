{
 "cells": [
  {
   "cell_type": "code",
   "execution_count": 31,
   "metadata": {
    "collapsed": true
   },
   "outputs": [],
   "source": [
    "import numpy as np\n",
    "import os, sys, math"
   ]
  },
  {
   "cell_type": "code",
   "execution_count": 39,
   "metadata": {},
   "outputs": [
    {
     "name": "stdout",
     "output_type": "stream",
     "text": [
      "641 320 64\n"
     ]
    }
   ],
   "source": [
    "# Parâmetros\n",
    "\n",
    "t = 6\n",
    "n = 2^t\n",
    "\n",
    "q = next_prime(8*n) ; r = (q-1)//2\n",
    "while r%n !=0:\n",
    "    q = next_prime(q+1); r = (q-1)//2\n",
    "\n",
    "print q,r,n"
   ]
  },
  {
   "cell_type": "code",
   "execution_count": 40,
   "metadata": {},
   "outputs": [],
   "source": [
    "K.<z> = GF(q)[]\n",
    "R.<z> = K.quotient(z^n+1)"
   ]
  },
  {
   "cell_type": "code",
   "execution_count": 44,
   "metadata": {},
   "outputs": [],
   "source": [
    "# Gerador aproximadamente gaussiano\n",
    "\n",
    "def D(alfa,size=None):\n",
    "    assert alfa > 0 and 4*alfa < 1 , '\"D\": parâmetro \"alfa\" tem de ser positivo e limitado a 1/4'\n",
    "    _rnd  = lambda s : int(round(math.fmod(s*alfa*q,1+r)))\n",
    "    \n",
    "    if size == None:\n",
    "        return _rnd(np.random.standard_normal())\n",
    "    else:\n",
    "        assert size > 0, '\"D\": o número de elementos na amostra tem de ser positivo'\n",
    "        return map(_rnd, np.random.standard_normal(size)) \n",
    "    \n",
    "# Gerador binário\n",
    "\n",
    "def binary(size=n):\n",
    "    return list(np.random.choice([-1,1],size))\n",
    "    \n",
    "# Gerador RLWE\n",
    "def RLWE(s,alfa=0.2):\n",
    "    x = R.random_element(); e = R(D(alfa,n))\n",
    "    return (x,x*s+e)\n",
    "\n",
    "# auxs\n",
    "\n",
    "def rnd(pol):\n",
    "    return [k if k <= r else k - q for k in map(lift,pol.list())]\n"
   ]
  },
  {
   "cell_type": "code",
   "execution_count": 47,
   "metadata": {
    "collapsed": true
   },
   "outputs": [],
   "source": [
    "# Classe R-LWE crypt/decrypt\n",
    "\n",
    "class RLWE_Crypt(object):\n",
    "    def __init__(self,alfa=0.1):\n",
    "        self.alfa = alfa \n",
    "        self.pk   = R.random_element()\n",
    "        self.pub  = RLWE(self.pk,self.alfa)\n",
    "    def encrypt(self,m):\n",
    "        (x,y) = self.pub \n",
    "        (w,c1) = RLWE(x,self.alfa) \n",
    "        e = r*R(m)+ R(D(self.alfa,n))\n",
    "        c2 = y*w + e\n",
    "        return (c1,c2)\n",
    "    def decrypt(self,crypto):\n",
    "        c1,c2 = crypto\n",
    "        return [round(c/r) for c in rnd(c2 - c1*self.pk)]    "
   ]
  },
  {
   "cell_type": "code",
   "execution_count": 48,
   "metadata": {},
   "outputs": [
    {
     "name": "stdout",
     "output_type": "stream",
     "text": [
      "[1, 1, 1, 1, -1, 1, -1, 1, -1, -1, -1, -1, -1, 1, -1, 1, -1, 1, -1, 1, 1, -1, -1, 1, -1, -1, -1, -1, 1, 1, -1, -1, 1, 1, -1, -1, 1, -1, -1, -1, -1, 1, -1, -1, -1, -1, 1, -1, 1, -1, 1, 1, -1, 1, 1, -1, -1, -1, -1, 1, -1, -1, -1, 1]\n",
      "[0, -1, -1, 1, 1, 0, 1, 1, 1, -1, 1, 0, 1, 0, 0, 0, 1, 1, -1, 0, 0, 0, 0, -1, -1, 0, 1, 1, 0, 0, -1, 1, 0, 0, 1, 0, 1, 0, 1, 0, 1, 0, 1, 0, 1, 0, -1, 0, -1, 0, 1, 0, 1, 0, 1, -1, -1, -1, 0, -1, 1, -1, 1, 1]\n"
     ]
    }
   ],
   "source": [
    "mess = binary()\n",
    "\n",
    "C = RLWE_Crypt()\n",
    "crypto = C.encrypt(mess)\n",
    "print m\n",
    "print C.decrypt(crypto)"
   ]
  },
  {
   "cell_type": "code",
   "execution_count": null,
   "metadata": {
    "collapsed": true
   },
   "outputs": [],
   "source": []
  },
  {
   "cell_type": "code",
   "execution_count": null,
   "metadata": {
    "collapsed": true
   },
   "outputs": [],
   "source": []
  }
 ],
 "metadata": {
  "kernelspec": {
   "display_name": "SageMath 9.2",
   "language": "sage",
   "name": "sagemath"
  },
  "language_info": {
   "codemirror_mode": {
    "name": "ipython",
    "version": 3
   },
   "file_extension": ".py",
   "mimetype": "text/x-python",
   "name": "python",
   "nbconvert_exporter": "python",
   "pygments_lexer": "ipython3",
   "version": "3.9.4"
  }
 },
 "nbformat": 4,
 "nbformat_minor": 2
}
