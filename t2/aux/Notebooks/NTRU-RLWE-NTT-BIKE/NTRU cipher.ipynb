{
 "cells": [
  {
   "cell_type": "markdown",
   "metadata": {},
   "source": [
    "\n",
    "## NTRU 2015\n",
    "A implementação de NTRU versão de 2015 descrita no paper \"**NTRU and Lattice-Based Crypto: Past, Present, and Future**\" de *Joseph H. Silverman*, Brown University apresentado no encontro The Mathematics of Post-Quantum Cryptography, DIMACS Center, Rutgers University em 12–16 de Janeiro de 2015."
   ]
  },
  {
   "cell_type": "markdown",
   "metadata": {},
   "source": [
    "## Parâmetros\n",
    "Vamos usar\n",
    "+ $d \\ge 6$ --\n",
    "  parâmetro de segurança\n",
    "+ $N$ --\n",
    "  um primo maior ou igual  2^d\n",
    "  \n",
    "+ $p$ --\n",
    "  um pequeno primo  3,  5 ou  7\n",
    " \n",
    "+ $q$ --\n",
    "  um primo da ordem de grandeza de  $p*\\mbox{poly}(N)$\n",
    " "
   ]
  },
  {
   "cell_type": "code",
   "execution_count": 1,
   "metadata": {},
   "outputs": [
    {
     "name": "stdout",
     "output_type": "stream",
     "text": [
      "3109 3 1031\n"
     ]
    }
   ],
   "source": [
    "d = 10\n",
    "N = next_prime(1 << d)\n",
    "\n",
    "p = 3\n",
    "q = next_prime(p*N)\n",
    "\n",
    "print (q, p, N)"
   ]
  },
  {
   "cell_type": "markdown",
   "metadata": {},
   "source": [
    "### anéis de polinómios"
   ]
  },
  {
   "cell_type": "code",
   "execution_count": 14,
   "metadata": {},
   "outputs": [],
   "source": [
    "Z.<x>  = ZZ[]        # polinómios de coeficientes inteiros\n",
    "Q.<x>  = PolynomialRing(GF(q),name='x').quotient(x^N-1)"
   ]
  },
  {
   "cell_type": "markdown",
   "metadata": {},
   "source": [
    "### geração aleatória, arredondamento módulo $q$ e compração módulo $p$"
   ]
  },
  {
   "cell_type": "code",
   "execution_count": 3,
   "metadata": {},
   "outputs": [],
   "source": [
    "def vec():\n",
    "    return  [choice([-1,0,1]) for k in range(N)]\n",
    "\n",
    "# arredondamento módulo 'q'\n",
    "def qrnd(f):    # argumento em 'Q'\n",
    "    qq = (q-1)//2\n",
    "    ll = map(lift,f.list())\n",
    "    return [n if n <= qq else n - q  for n in ll]\n",
    "\n",
    "# arredondamento módulo 'p'\n",
    "def prnd(l):\n",
    "    pp = (p-1)//2\n",
    "    rr = lambda x: x if x <= pp else x - p        \n",
    "    return [rr(n%p) if n>=0 else -rr((-n)%p) for n in l]"
   ]
  },
  {
   "cell_type": "markdown",
   "metadata": {},
   "source": [
    "### classe NTRU"
   ]
  },
  {
   "cell_type": "code",
   "execution_count": 4,
   "metadata": {},
   "outputs": [],
   "source": [
    "class NTRU(object):\n",
    "    def __init__(self):\n",
    "        # calcular um 'f' invertível\n",
    "        f = Q(0)\n",
    "        while not f.is_unit():\n",
    "            F = Q(vec())\n",
    "            f = 1 + p*F\n",
    "        # gerar as chaves\n",
    "        G = Q(vec())\n",
    "        g = p*G\n",
    "        self.f = qrnd(f)\n",
    "        self.h = qrnd(f^(-1) * g)\n",
    "        \n",
    "    def encrypt(self,m):\n",
    "        r = Q(vec()) \n",
    "        return qrnd(r*Q(self.h) + Q(m))\n",
    "\n",
    "    def decrypt(self,e):\n",
    "        a = Q(e)*Q(self.f)\n",
    "        return prnd(qrnd(a))\n"
   ]
  },
  {
   "cell_type": "markdown",
   "metadata": {},
   "source": [
    "### Teste"
   ]
  },
  {
   "cell_type": "code",
   "execution_count": 5,
   "metadata": {},
   "outputs": [
    {
     "data": {
      "text/plain": [
       "True"
      ]
     },
     "execution_count": 5,
     "metadata": {},
     "output_type": "execute_result"
    }
   ],
   "source": [
    "# Uma instância NTRU\n",
    "K = NTRU() \n",
    "# Uma mensagem aleatória\n",
    "m = vec()\n",
    "#print(m)\n",
    "# Cifrar\n",
    "e = K.encrypt(m)  \n",
    "# Decifrar e Verificar\n",
    "m == K.decrypt(e)\n"
   ]
  },
  {
   "cell_type": "markdown",
   "metadata": {},
   "source": [
    "## Reticulado $L(h)$"
   ]
  },
  {
   "cell_type": "code",
   "execution_count": 6,
   "metadata": {},
   "outputs": [],
   "source": [
    "# Construção da matriz geradora por blocos\n",
    "\n",
    "import sage.modules.free_module_integer as fmi\n",
    "# http://doc.sagemath.org/html/en/reference/modules/sage/modules/free_module_integer.html\n",
    "\n",
    "class Lat(NTRU):\n",
    "    def __init__(self):\n",
    "        super(Lat,self).__init__()\n",
    "        B1 = identity_matrix(ZZ,N); Bq = q*B1; B0 = matrix(ZZ,N,N,[0]*(N^2))\n",
    "        # rodar um vetor\n",
    "        h = self.h\n",
    "        H = [h]\n",
    "        for k in range(N-1):\n",
    "            h = [h[-1]] + h[:-1]   # shift right rotate\n",
    "            H = H + [h]\n",
    "        H = matrix(ZZ,N,N,H)\n",
    "\n",
    "        self.L = fmi.IntegerLattice(block_matrix([[Bq,B0],[H,B1]]))   \n",
    "    \n",
    "    def short_basis(self):\n",
    "        sb = []\n",
    "        for i in range(N):\n",
    "            u = self.L.reduced_basis[i].list()\n",
    "            u[0] = u[0] - 1\n",
    "            sb += [map(int,u)]\n",
    "        return sb\n",
    "            \n",
    "   \n"
   ]
  },
  {
   "cell_type": "code",
   "execution_count": 7,
   "metadata": {},
   "outputs": [
    {
     "ename": "SyntaxError",
     "evalue": "Missing parentheses in call to 'print'. Did you mean print(f)? (<ipython-input-7-488313ba6949>, line 3)",
     "output_type": "error",
     "traceback": [
      "\u001b[0;36m  File \u001b[0;32m\"<ipython-input-7-488313ba6949>\"\u001b[0;36m, line \u001b[0;32m3\u001b[0m\n\u001b[0;31m    print f\u001b[0m\n\u001b[0m          ^\u001b[0m\n\u001b[0;31mSyntaxError\u001b[0m\u001b[0;31m:\u001b[0m Missing parentheses in call to 'print'. Did you mean print(f)?\n"
     ]
    }
   ],
   "source": [
    "l = Lat()\n",
    "f = l.f\n",
    "print f\n",
    "sb =  l.short_basis()\n",
    "print sb"
   ]
  },
  {
   "cell_type": "code",
   "execution_count": null,
   "metadata": {},
   "outputs": [],
   "source": [
    "import pickle\n",
    "\n",
    "fd = open(\"base\",\"wb\")\n",
    "pickle.dump(sb,fd)\n",
    "fd.close()"
   ]
  },
  {
   "cell_type": "code",
   "execution_count": null,
   "metadata": {},
   "outputs": [],
   "source": []
  }
 ],
 "metadata": {
  "kernelspec": {
   "display_name": "SageMath 9.2",
   "language": "sage",
   "name": "sagemath"
  },
  "language_info": {
   "codemirror_mode": {
    "name": "ipython",
    "version": 3
   },
   "file_extension": ".py",
   "mimetype": "text/x-python",
   "name": "python",
   "nbconvert_exporter": "python",
   "pygments_lexer": "ipython3",
   "version": "3.9.4"
  }
 },
 "nbformat": 4,
 "nbformat_minor": 4
}
