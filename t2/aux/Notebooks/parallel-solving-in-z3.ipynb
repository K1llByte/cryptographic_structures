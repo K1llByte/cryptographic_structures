{
 "cells": [
  {
   "cell_type": "markdown",
   "id": "federal-august",
   "metadata": {},
   "source": [
    "## Execução do Z3 em cores múltiplos\n",
    "https://stackoverflow.com/questions/53246030/parallel-solving-in-z3"
   ]
  },
  {
   "cell_type": "code",
   "execution_count": null,
   "id": "electrical-threat",
   "metadata": {},
   "outputs": [],
   "source": [
    "from z3 import *\n",
    "\n",
    "set_param('parallel.enable', True)"
   ]
  }
 ],
 "metadata": {
  "kernelspec": {
   "display_name": "Python 3",
   "language": "python",
   "name": "python3"
  },
  "language_info": {
   "codemirror_mode": {
    "name": "ipython",
    "version": 3
   },
   "file_extension": ".py",
   "mimetype": "text/x-python",
   "name": "python",
   "nbconvert_exporter": "python",
   "pygments_lexer": "ipython3",
   "version": "3.8.8"
  }
 },
 "nbformat": 4,
 "nbformat_minor": 5
}
