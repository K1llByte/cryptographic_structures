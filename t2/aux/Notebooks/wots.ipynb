{
 "cells": [
  {
   "cell_type": "code",
   "execution_count": 86,
   "id": "943e7b83",
   "metadata": {},
   "outputs": [],
   "source": [
    "import sys, math\n",
    "import random as rn"
   ]
  },
  {
   "cell_type": "markdown",
   "id": "0146bd86",
   "metadata": {},
   "source": [
    "Neste exemplo temos sempre \"hardwired\" $\\,w = 256\\,$, $\\,|w|=8\\,$, $\\,n = 64\\,$ e $\\,m = 112\\,$"
   ]
  },
  {
   "cell_type": "code",
   "execution_count": 87,
   "id": "bd9aacec",
   "metadata": {},
   "outputs": [
    {
     "data": {
      "text/plain": [
       "(8, 6, 2)"
      ]
     },
     "execution_count": 87,
     "metadata": {},
     "output_type": "execute_result"
    }
   ],
   "source": [
    "N  = 64\n",
    "M  = 48\n",
    "W  = 8\n",
    "w  = 256\n",
    "\n",
    "l1 = math.ceil(M//W)\n",
    "l2 = math.floor(math.log(l1*(w-1),2)//W) + 1\n",
    "l  = l1 + l2\n",
    "\n",
    "l,l1,l2"
   ]
  },
  {
   "cell_type": "code",
   "execution_count": 88,
   "id": "10c5b21b",
   "metadata": {},
   "outputs": [],
   "source": [
    "nbits = lambda     : rn.getrandbits(N) \n",
    "wbits = lambda     : rn.getrandbits(8)\n",
    "\n",
    "def mbits():\n",
    "    m = rn.getrandbits(M)\n",
    "    return list(m.to_bytes(l1,byteorder='big'))\n",
    "\n",
    "def checksum(m):\n",
    "    C = sum([w-1-m[j] for j in range(l1)])\n",
    "    return list(C.to_bytes(l2,byteorder='big'))"
   ]
  },
  {
   "cell_type": "code",
   "execution_count": 89,
   "id": "b11cd99f",
   "metadata": {},
   "outputs": [],
   "source": [
    "def wots(k,x,i=1):\n",
    "    if i <= 0:\n",
    "        return x\n",
    "    if i == 1:\n",
    "        return hash(k^x)\n",
    "    return wots(wots(k,x,i-1),x)\n"
   ]
  },
  {
   "cell_type": "code",
   "execution_count": 98,
   "id": "7b8b429b",
   "metadata": {},
   "outputs": [
    {
     "data": {
      "text/plain": [
       "True"
      ]
     },
     "execution_count": 98,
     "metadata": {},
     "output_type": "execute_result"
    }
   ],
   "source": [
    "# lei de grupo\n",
    "i = rn.randrange(w)\n",
    "j = rn.randrange(w)\n",
    "x = nbits()\n",
    "k = nbits()\n",
    "\n",
    "wots(k,x,i+j) == wots(wots(k,x,i),x,j)\n"
   ]
  },
  {
   "cell_type": "markdown",
   "id": "1a83e424",
   "metadata": {},
   "source": [
    "## WOTS"
   ]
  },
  {
   "cell_type": "code",
   "execution_count": 91,
   "id": "423eb150",
   "metadata": {},
   "outputs": [],
   "source": [
    "def KG():\n",
    "    x  = nbits()\n",
    "    sk = [nbits() for j in range(l)]\n",
    "    pk = [wots(sk[j],x,w-1) for j in range(l)]\n",
    "    return (sk,pk,x)\n",
    "    \n",
    "def Sig(m,sk,x):\n",
    "    m_ = m + checksum(m)\n",
    "    return [wots(sk[j],x,m_[j]) for j in range(l)]\n",
    "\n",
    "def Vrfy(sig,m,pk,x):\n",
    "    m_ = m + checksum(m)\n",
    "    return all([wots(sig[j],x , w - 1 - m_[j]) == pk[j] for j in range(l)])\n",
    "    "
   ]
  },
  {
   "cell_type": "code",
   "execution_count": 92,
   "id": "27638222",
   "metadata": {},
   "outputs": [
    {
     "data": {
      "text/plain": [
       "True"
      ]
     },
     "execution_count": 92,
     "metadata": {},
     "output_type": "execute_result"
    }
   ],
   "source": [
    "m  = mbits()\n",
    "\n",
    "sk,pk,x = KG()\n",
    "\n",
    "sig = Sig(m,sk,x)\n",
    "\n",
    "Vrfy(sig,m,pk,x)\n"
   ]
  },
  {
   "cell_type": "markdown",
   "id": "301dcf4a",
   "metadata": {},
   "source": [
    "## WOTS+"
   ]
  },
  {
   "cell_type": "code",
   "execution_count": 93,
   "id": "777c83c3",
   "metadata": {},
   "outputs": [],
   "source": [
    "## Público e global\n",
    "\n",
    "def c(r,x,i=1):\n",
    "    assert i <= len(r)\n",
    "    if i <= 0:\n",
    "        return x\n",
    "    return hash(r[i-1] ^ c(r,x,i-1))"
   ]
  },
  {
   "cell_type": "code",
   "execution_count": 94,
   "id": "642aa613",
   "metadata": {},
   "outputs": [],
   "source": [
    "def KG_():\n",
    "    r    = [nbits()  for i in range(w-1)]\n",
    "    sk   = [nbits()        for j in range(l)]\n",
    "    pk   = [c(r,sk[j],w-1) for j in range(l)]\n",
    "    return (sk,pk,r)\n",
    "\n",
    "def Sig_(mess,sk,r):\n",
    "    m = mess + checksum(mess)\n",
    "    return [c(r,sk[j],m[j]) for j in range(l)]\n",
    "\n",
    "def Vrfy_(sig,mess,pk,r):\n",
    "    m = mess + checksum(mess)\n",
    "    return all([c(r[m[j]:], sig[j], w-1-m[j]) == pk[j]  for j in range(l)])"
   ]
  },
  {
   "cell_type": "code",
   "execution_count": 95,
   "id": "88f8bd55-ed36-4c52-9c72-e73b66d4eb8e",
   "metadata": {},
   "outputs": [],
   "source": [
    "m  = mbits()\n",
    "\n",
    "sk,pk,ref = KG_()"
   ]
  },
  {
   "cell_type": "code",
   "execution_count": 96,
   "id": "2c8fb7c5-f2b8-4132-a4e5-a05831004b8a",
   "metadata": {},
   "outputs": [
    {
     "data": {
      "text/plain": [
       "True"
      ]
     },
     "execution_count": 96,
     "metadata": {},
     "output_type": "execute_result"
    }
   ],
   "source": [
    "sig = Sig_(m,sk,ref)\n",
    "\n",
    "Vrfy_(sig,m,pk, ref)"
   ]
  },
  {
   "cell_type": "code",
   "execution_count": 97,
   "id": "a5ce736a-1df4-418f-9fba-8e54421f3843",
   "metadata": {},
   "outputs": [
    {
     "name": "stdout",
     "output_type": "stream",
     "text": [
      "índices 111 e 111 verificam o teste?  True\n",
      "índices 110 e 52 verificam o teste?  True\n",
      "índices 34 e 216 verificam o teste?  True\n",
      "índices 19 e 176 verificam o teste?  True\n",
      "indices 109 e 158 fora do domínio\n"
     ]
    }
   ],
   "source": [
    "## Propriedade de grupo\n",
    "l = w\n",
    "r = [nbits()  for i in range(l-1)]\n",
    "\n",
    "def teste(i,j):\n",
    "    x = nbits()\n",
    "    return c(r,x,i+j) == c(r[i:],c(r,x,i),j)\n",
    "\n",
    "## teste\n",
    "\n",
    "while True:\n",
    "    i = rn.randrange(1,l)\n",
    "    j = rn.randrange(1,l)\n",
    "    try:\n",
    "        print(f\"índices {i} e {j} verificam o teste? \",teste(i,j))\n",
    "    except:\n",
    "        print(f\"indices {i} e {j} fora do domínio\")\n",
    "        break\n",
    "        "
   ]
  },
  {
   "cell_type": "code",
   "execution_count": null,
   "id": "e0e697bc-76eb-4b82-b523-6e01f4b3df3d",
   "metadata": {},
   "outputs": [],
   "source": []
  }
 ],
 "metadata": {
  "kernelspec": {
   "display_name": "Python 3",
   "language": "python",
   "name": "python3"
  },
  "language_info": {
   "codemirror_mode": {
    "name": "ipython",
    "version": 3
   },
   "file_extension": ".py",
   "mimetype": "text/x-python",
   "name": "python",
   "nbconvert_exporter": "python",
   "pygments_lexer": "ipython3",
   "version": "3.8.8"
  }
 },
 "nbformat": 4,
 "nbformat_minor": 5
}
