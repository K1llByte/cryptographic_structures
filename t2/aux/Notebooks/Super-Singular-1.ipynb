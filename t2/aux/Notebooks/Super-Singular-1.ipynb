{
 "cells": [
  {
   "cell_type": "markdown",
   "id": "copyrighted-modern",
   "metadata": {},
   "source": [
    "## Super-singular $y^2 = x^3 + 1$"
   ]
  },
  {
   "cell_type": "code",
   "execution_count": 48,
   "id": "novel-murray",
   "metadata": {},
   "outputs": [
    {
     "name": "stdout",
     "output_type": "stream",
     "text": [
      "17\n"
     ]
    }
   ],
   "source": [
    "p = next_prime(16)\n",
    "while True:\n",
    "    if (p + 1)%3 == 0:\n",
    "        break\n",
    "    p = next_prime(p+1)\n",
    "\n",
    "#Verificação\n",
    "print(p)"
   ]
  },
  {
   "cell_type": "code",
   "execution_count": 49,
   "id": "threaded-turkish",
   "metadata": {},
   "outputs": [],
   "source": [
    "K = GF(p^2)\n",
    "\n",
    "rr = PolynomialRing(K,'x')(x^2 + x + 1).roots()\n",
    "zeta,_ = rr[0]"
   ]
  },
  {
   "cell_type": "code",
   "execution_count": 50,
   "id": "understood-soldier",
   "metadata": {},
   "outputs": [
    {
     "name": "stdout",
     "output_type": "stream",
     "text": [
      "[(12*z2 + 2, 1), (5*z2 + 14, 1)]\n",
      "\n",
      "zeta = 12*z2 + 2 \t zeta^3 =  1\n"
     ]
    }
   ],
   "source": [
    "# Verificação\n",
    "print(rr)\n",
    "print(f\"\\nzeta = {zeta} \\t zeta^3 = \",zeta^3)"
   ]
  },
  {
   "cell_type": "markdown",
   "id": "appropriate-worker",
   "metadata": {},
   "source": [
    "'zeta' é uma raíz cúbia da unidade diferente de 1.  $$(x^2+x+1)\\,=\\,(x^3-1)/(x-1)$$"
   ]
  },
  {
   "cell_type": "code",
   "execution_count": 51,
   "id": "realistic-supplement",
   "metadata": {},
   "outputs": [],
   "source": [
    "E0 = EllipticCurve(K,[0,1])\n",
    "O  = E0(0)"
   ]
  },
  {
   "cell_type": "code",
   "execution_count": 52,
   "id": "forty-notification",
   "metadata": {},
   "outputs": [
    {
     "name": "stdout",
     "output_type": "stream",
     "text": [
      "True\n",
      "True\n",
      "(0 : 1 : 0)\n"
     ]
    }
   ],
   "source": [
    "# Verificação\n",
    "\n",
    "print(E0.is_supersingular())\n",
    "print(E0.cardinality() == (p+1)^2)\n",
    "print(O)"
   ]
  },
  {
   "cell_type": "code",
   "execution_count": 53,
   "id": "straight-crown",
   "metadata": {},
   "outputs": [],
   "source": [
    "#isogenia\n",
    "\n",
    "def g(P):\n",
    "    if P == O:\n",
    "        return P\n",
    "    x,y = P.xy()\n",
    "    return E0(zeta*x , y)"
   ]
  },
  {
   "cell_type": "code",
   "execution_count": 54,
   "id": "thrown-collect",
   "metadata": {},
   "outputs": [
    {
     "data": {
      "text/plain": [
       "True"
      ]
     },
     "execution_count": 54,
     "metadata": {},
     "output_type": "execute_result"
    }
   ],
   "source": [
    "P = E0.random_element()\n",
    "Q = g(P)\n",
    "\n",
    "Q in E0"
   ]
  },
  {
   "cell_type": "code",
   "execution_count": 55,
   "id": "close-adelaide",
   "metadata": {},
   "outputs": [
    {
     "data": {
      "text/plain": [
       "True"
      ]
     },
     "execution_count": 55,
     "metadata": {},
     "output_type": "execute_result"
    }
   ],
   "source": [
    "P == g(g(Q))"
   ]
  },
  {
   "cell_type": "code",
   "execution_count": 56,
   "id": "effective-castle",
   "metadata": {},
   "outputs": [
    {
     "data": {
      "text/plain": [
       "True"
      ]
     },
     "execution_count": 56,
     "metadata": {},
     "output_type": "execute_result"
    }
   ],
   "source": [
    "S = E0.random_element()\n",
    "g(P + S) == g(P) + g(S)"
   ]
  },
  {
   "cell_type": "markdown",
   "id": "atomic-trace",
   "metadata": {},
   "source": [
    "## Porque é supersingular"
   ]
  },
  {
   "cell_type": "code",
   "execution_count": 57,
   "id": "protected-ebony",
   "metadata": {},
   "outputs": [],
   "source": [
    "def ww(x):\n",
    "    return x^((p+1)//3)"
   ]
  },
  {
   "cell_type": "code",
   "execution_count": 58,
   "id": "sustained-central",
   "metadata": {},
   "outputs": [
    {
     "name": "stdout",
     "output_type": "stream",
     "text": [
      "16 1 1 1 6\n"
     ]
    }
   ],
   "source": [
    "w = GF(p).random_element()\n",
    "z = ww(w)\n",
    "y = sqrt(w^2 + 1)\n",
    "\n",
    "print(w,w^2,z,z^3,y)"
   ]
  },
  {
   "cell_type": "code",
   "execution_count": 63,
   "id": "regional-broad",
   "metadata": {},
   "outputs": [],
   "source": [
    "uu = [(ww(w),sqrt(w^2+1, all=True)) for w in GF(p)]\n",
    "    "
   ]
  },
  {
   "cell_type": "code",
   "execution_count": 64,
   "id": "outstanding-scientist",
   "metadata": {},
   "outputs": [
    {
     "data": {
      "text/plain": [
       "[(0, [1, 16]),\n",
       " (1, [6, 11]),\n",
       " (13, []),\n",
       " (15, []),\n",
       " (16, [0]),\n",
       " (2, [3, 14]),\n",
       " (8, []),\n",
       " (9, [4, 13]),\n",
       " (4, []),\n",
       " (4, []),\n",
       " (9, [4, 13]),\n",
       " (8, []),\n",
       " (2, [3, 14]),\n",
       " (16, [0]),\n",
       " (15, []),\n",
       " (13, []),\n",
       " (1, [6, 11])]"
      ]
     },
     "execution_count": 64,
     "metadata": {},
     "output_type": "execute_result"
    }
   ],
   "source": [
    "uu"
   ]
  },
  {
   "cell_type": "code",
   "execution_count": null,
   "id": "accepted-spokesman",
   "metadata": {},
   "outputs": [],
   "source": []
  }
 ],
 "metadata": {
  "kernelspec": {
   "display_name": "SageMath 9.2",
   "language": "sage",
   "name": "sagemath"
  },
  "language_info": {
   "codemirror_mode": {
    "name": "ipython",
    "version": 3
   },
   "file_extension": ".py",
   "mimetype": "text/x-python",
   "name": "python",
   "nbconvert_exporter": "python",
   "pygments_lexer": "ipython3",
   "version": "3.8.8"
  }
 },
 "nbformat": 4,
 "nbformat_minor": 5
}
