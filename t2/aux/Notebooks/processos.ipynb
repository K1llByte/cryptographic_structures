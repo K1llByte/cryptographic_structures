{
 "cells": [
  {
   "cell_type": "code",
   "execution_count": null,
   "metadata": {},
   "outputs": [],
   "source": [
    "#\n",
    "import os,io\n",
    "\n",
    "from multiprocessing import Pipe, Process, set_start_method\n",
    "\n",
    "class BiConn(object):\n",
    "    def __init__(self,left,right,timeout=None):\n",
    "        \"\"\"\n",
    "        left : a função que vai ligar ao lado esquerdo do Pipe\n",
    "        right: a função que vai ligar ao outro lado\n",
    "        timeout: (opcional) numero de segundos que aguarda pela terminação do processo\n",
    "        \"\"\"\n",
    "        left_end, right_end = Pipe(duplex=True)\n",
    "        self.timeout=timeout\n",
    "        \n",
    "        self.lproc = Process(target=left,  args=(left_end,))       # os processos ligados ao Pipe\n",
    "        self.rproc = Process(target=right, args=(right_end,))\n",
    "        \n",
    "        self.left  = lambda : left(left_end)                       # as funções ligadas já ao Pipe\n",
    "        self.right = lambda : right(right_end)\n",
    "    \n",
    "    def auto(self, proc=None):\n",
    "        if proc == None:             # corre os dois processos independentes\n",
    "            self.lproc.start() ; self.rproc.start() \n",
    "            self.rproc.join(self.timeout) ; self.lproc.join(self.timeout)\n",
    "        else:                        # corre só o processo passado como parâmetro\n",
    "            proc.start(); proc.join()\n",
    "    \n",
    "    def manual(self):   #  corre as duas funções no contexto de um mesmo processo Python\n",
    "        self.left()\n",
    "        self.right()\n",
    "    "
   ]
  },
  {
   "cell_type": "code",
   "execution_count": null,
   "metadata": {},
   "outputs": [],
   "source": [
    "def X(conn):\n",
    "    # input stream\n",
    "    inputs = io.BytesIO(bytes('1'*1024,'utf-8'))\n",
    "\n",
    "    buffer = bytearray(8)\n",
    "    while inputs.readinto(buffer):\n",
    "        conn.send(buffer)\n",
    "#        _ = conn.recv()\n",
    "\n",
    "    inputs.close()\n",
    "    conn.close()\n",
    "\n",
    "\n",
    "\n",
    "\n",
    "def Y(conn):\n",
    "     # Inicializa um output stream \n",
    "    outputs = io.BytesIO()\n",
    "    \n",
    "    while True:\n",
    "        try:\n",
    "            buffer = conn.recv()\n",
    "            outputs.write(buffer)\n",
    "#            conn.send('ok')\n",
    "        except EOFError:\n",
    "            break\n",
    "\n",
    "    conn.close()\n",
    "    print(outputs.getvalue())\n",
    "    outputs.close()\n",
    "\n",
    "\n",
    "\n",
    "    \n"
   ]
  },
  {
   "cell_type": "code",
   "execution_count": null,
   "metadata": {},
   "outputs": [],
   "source": [
    "# BiConn(X,Y,timeout=20).manual()"
   ]
  },
  {
   "cell_type": "code",
   "execution_count": null,
   "metadata": {},
   "outputs": [],
   "source": [
    "set_start_method('fork')"
   ]
  },
  {
   "cell_type": "code",
   "execution_count": null,
   "metadata": {},
   "outputs": [],
   "source": [
    "BiConn(Y,X,timeout=100).auto()"
   ]
  },
  {
   "cell_type": "code",
   "execution_count": null,
   "metadata": {},
   "outputs": [],
   "source": [
    "#\n",
    "import os,io\n",
    "\n",
    "outputs = io.BytesIO()\n",
    "outputs.write(bytes('exemplo','utf-8'))\n",
    "print(outputs.getvalue())\n",
    "outputs.close()"
   ]
  },
  {
   "cell_type": "code",
   "execution_count": null,
   "metadata": {},
   "outputs": [],
   "source": []
  }
 ],
 "metadata": {
  "kernelspec": {
   "display_name": "Python 3",
   "language": "python",
   "name": "python3"
  },
  "language_info": {
   "codemirror_mode": {
    "name": "ipython",
    "version": 3
   },
   "file_extension": ".py",
   "mimetype": "text/x-python",
   "name": "python",
   "nbconvert_exporter": "python",
   "pygments_lexer": "ipython3",
   "version": "3.8.5"
  }
 },
 "nbformat": 4,
 "nbformat_minor": 5
}
