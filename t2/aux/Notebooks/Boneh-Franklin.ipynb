{
 "cells": [
  {
   "cell_type": "markdown",
   "metadata": {},
   "source": [
    "# O criptosistema de Boneh e Fanklin \n",
    "\n",
    "Foi o primeiro esquema IBE a ser aceito como um IBE adequado ao uso industrial\n",
    "\n",
    "Em 2007 foi standartizado no [RFC 5091](https://tools.ietf.org/html/rfc5091)  e em 2015 no ISO/IEC  18033-5:2015.\n",
    "\n",
    "A versão aqui apresentada tem objetivo meramente pedagógico e não deve ser usada fora deste contexto. Uma sugestão de implementação mais robusta é a biblioteca [pbc](https://crypto.stanford.edu/pbc/)"
   ]
  },
  {
   "cell_type": "markdown",
   "metadata": {},
   "source": [
    "## Parte A - Criar a Estrutura Algébrica necessária ao **BF**"
   ]
  },
  {
   "cell_type": "markdown",
   "metadata": {},
   "source": [
    "### 1º Passo\n",
    "Gerar uma curva supersingular aleatória sobre um corpo primo $\\mathbb{Z}_p$.\n",
    "\n",
    "+ As curvas super-singulares sobre $\\mathbb{Z}_p$  são as curvas da forma $\\;Y^2 = X^3 + b$.\n",
    "\n",
    "+ Para a curva ser super-singular, a característica  $p$ tem de verificar $p = 2 \\bmod 3$"
   ]
  },
  {
   "cell_type": "code",
   "execution_count": 1,
   "metadata": {},
   "outputs": [],
   "source": [
    "# Gerar a característica \"p\"\n",
    "\n",
    "p = next_prime(2^224)\n",
    "while p %3 != 2:\n",
    "    p = next_prime(p+2)\n",
    "b = next_prime(ZZ.random_element(3,p-3))"
   ]
  },
  {
   "cell_type": "code",
   "execution_count": 2,
   "metadata": {},
   "outputs": [
    {
     "name": "stdout",
     "output_type": "stream",
     "text": [
      "Elliptic Curve defined by y^2 = x^3 + 22643272660895900053896763422973949047145673798157238498922779202809 over Finite Field of size 26959946667150639794667015087019630673637144422540572481103610250573\n"
     ]
    },
    {
     "data": {
      "text/plain": [
       "True"
      ]
     },
     "execution_count": 2,
     "metadata": {},
     "output_type": "execute_result"
    }
   ],
   "source": [
    "# Definir o corpo, a curva e verificar a sua cardinalidade\n",
    "\n",
    "K = GF(p)\n",
    "E = EllipticCurve(K,[0,b])\n",
    "print E\n",
    "\n",
    "# Verificar a cardinalidade\n",
    "E.cardinality() == p + 1"
   ]
  },
  {
   "cell_type": "markdown",
   "metadata": {},
   "source": [
    "### 2º Passo\n",
    "Gerar um ponto $G$ com ordem prima definidor do grupo cíclico  $\\lbrack G \\rbrack$, a **órbita** de $G$"
   ]
  },
  {
   "cell_type": "code",
   "execution_count": 9,
   "metadata": {},
   "outputs": [],
   "source": [
    "# a. Gerar um ponto aleatório da curva \"P\"  cuja ordem \"N\" tenha um factor primo máximo\n",
    "\n",
    "def largest_prime_factor(q):\n",
    "    if is_prime(q):\n",
    "        return q\n",
    "    else:\n",
    "        (n,_) = list(factor(q))[-1]\n",
    "        return n\n",
    "\n",
    "n = largest_prime_factor(p+1)    # o maior factor primo da cardinalidade da curva\n",
    "                                 # este \"n\" vai ser a ordem do grupo cíclico;\n",
    "while True:\n",
    "    P = E.random_element()\n",
    "    N = P.order()\n",
    "    if n == largest_prime_factor(N):\n",
    "        break"
   ]
  },
  {
   "cell_type": "code",
   "execution_count": 10,
   "metadata": {},
   "outputs": [
    {
     "name": "stdout",
     "output_type": "stream",
     "text": [
      "True\n"
     ]
    }
   ],
   "source": [
    "# b.  encontrar o gerador \"G\".\n",
    "# Se a ordem de \"P\" for prima encontramos o ponto;  senão determina-se o cofactor \"= N//n\" e \n",
    "# gera-se \"G\" como P vezes o cofactor\n",
    "\n",
    "if is_prime(N):\n",
    "    G = P\n",
    "else:\n",
    "    cof = N//n\n",
    "    G = P*cof\n",
    "\n",
    "# Teste\n",
    "print G*n == E(0)"
   ]
  },
  {
   "cell_type": "code",
   "execution_count": 11,
   "metadata": {},
   "outputs": [
    {
     "name": "stdout",
     "output_type": "stream",
     "text": [
      "Tamanho da ordem de G = 164 bits\n"
     ]
    }
   ],
   "source": [
    "# c. Ver a ordem do grupo cíclico gerado por \"G\"\n",
    "    \n",
    "print \"Tamanho da ordem de G = %d bits\" % floor(RDF(log(n,2)))"
   ]
  },
  {
   "cell_type": "code",
   "execution_count": 12,
   "metadata": {},
   "outputs": [
    {
     "data": {
      "text/plain": [
       "1"
      ]
     },
     "execution_count": 12,
     "metadata": {},
     "output_type": "execute_result"
    }
   ],
   "source": [
    "G.weil_pairing(G,n)"
   ]
  },
  {
   "cell_type": "markdown",
   "metadata": {},
   "source": [
    "### 3º Passo\n",
    "\n",
    "Determinar o grau de embebimento para a ordem $n$; isto é, \n",
    "\n",
    "o menor valor $k$ tal que o corpo $\\text{GF}(p^k)$ contém todas as $n$-raizes da unidade\n",
    "\n",
    "Uma propriedade das curvas singulares é que esse grau de embebimento só pode ser 1 ou 2"
   ]
  },
  {
   "cell_type": "code",
   "execution_count": 5,
   "metadata": {},
   "outputs": [
    {
     "name": "stdout",
     "output_type": "stream",
     "text": [
      "2\n"
     ]
    }
   ],
   "source": [
    "if gcd(p-1,n) == 1:\n",
    "    k = 2\n",
    "else:\n",
    "    k = 1\n",
    "    \n",
    "print k"
   ]
  },
  {
   "cell_type": "markdown",
   "metadata": {},
   "source": [
    "### 4º Passo\n",
    "+ Definir a estensão do corpo base e um gerador nesse corpo com a mesma ordem $n$\n",
    "+ Definir a curva estendida e verificar a sua cardinalidade"
   ]
  },
  {
   "cell_type": "code",
   "execution_count": 13,
   "metadata": {},
   "outputs": [
    {
     "data": {
      "text/plain": [
       "True"
      ]
     },
     "execution_count": 13,
     "metadata": {},
     "output_type": "execute_result"
    }
   ],
   "source": [
    "# Corpo estendido\n",
    "Kx = GF(p^k,name='z')\n",
    "\n",
    "# Curva estendida e o ponto \"G\" na nova curva\n",
    "\n",
    "Ex = EllipticCurve(Kx,[0,b])\n",
    "Gx = Ex(G.xy())\n",
    "\n",
    "# Verificar a cardinalidade\n",
    "Ex.cardinality() == (p+1)^2"
   ]
  },
  {
   "cell_type": "code",
   "execution_count": 10,
   "metadata": {},
   "outputs": [
    {
     "data": {
      "text/plain": [
       "1"
      ]
     },
     "execution_count": 10,
     "metadata": {},
     "output_type": "execute_result"
    }
   ],
   "source": [
    "Gx.weil_pairing(Gx,n)"
   ]
  },
  {
   "cell_type": "markdown",
   "metadata": {},
   "source": [
    "### 5º Passo\n",
    "\n",
    "Para definir um emarelhamento não degenerado é necessário definir um mapeamento  de pontos na curva que seja um isomorfismo e preserve a estrutura de grupo abeliano; tais mapeamentos designam-se por **isogenias**.\n",
    " \n",
    "A tranformação tem de mapear pontos de `Ex` em pontos de `Ex` com a mesma ordem.\n",
    "\n",
    "A transformação escolhida é   $(x,y) \\mapsto (z3*x , y)$ em que $z3$ é uma raiz cúbica da unidade em `Fx` que seja diferente de $1$; isto é:  uma raiz do polinómio $X^2+X+1$ em `Kx`."
   ]
  },
  {
   "cell_type": "code",
   "execution_count": 14,
   "metadata": {},
   "outputs": [
    {
     "name": "stdout",
     "output_type": "stream",
     "text": [
      "True\n",
      "True\n"
     ]
    }
   ],
   "source": [
    "# Calcular \"z3\"\n",
    "Fx.<X> = Kx[]\n",
    "(z3,_) = Fx(X^2+X+1).roots()[0]\n",
    "\n",
    "\n",
    "\n",
    "# Definir o mapeamento\n",
    "def phi(P):\n",
    "    if P == Ex(0):\n",
    "        return P\n",
    "    (x,y) = P.xy()\n",
    "    return Ex(z3*x , y)\n",
    "\n",
    "# Verificar se têm a mesm ordem e se é uma isogenia\n",
    "print phi(Gx).order() == n\n",
    "i = ZZ.random_element(1,n-1)\n",
    "print phi(Gx*i) == phi(Gx)*i"
   ]
  },
  {
   "cell_type": "markdown",
   "metadata": {},
   "source": [
    "### 6º Passo  \n",
    "### definição do emparelhamento\n",
    "\n",
    "Para definir o emparelhamento vamos tomar por base o emparelhamento de Weil que o Sage tem programado na função `weil_pairing`. \n",
    "\n",
    "O emparelhamento de Weil, implementado `weil_pairing`,  mapeia um par de pontos em `Ex` numa $n$-raíz da unidade em `Fx`.\n",
    "\n",
    "No entanto este emparelhamento aplicado a um par de múltiplos de um mesmo ponto $G$ produz sempre $1$ (é degenerado).\n",
    "\n",
    "Para evitar este problema aplica-se a um dos argumentos a transformação `phi` determinada antes."
   ]
  },
  {
   "cell_type": "code",
   "execution_count": 15,
   "metadata": {},
   "outputs": [
    {
     "name": "stdout",
     "output_type": "stream",
     "text": [
      "True\n",
      "True\n",
      "True\n"
     ]
    }
   ],
   "source": [
    "def pairing(P,Q):\n",
    "    return P.weil_pairing(phi(Q),n)\n",
    "    \n",
    "# Verificar que é um emparelhamento não degenerado, no grupo cíclico gerado por Gx\n",
    "\n",
    "g = pairing(Gx,Gx) \n",
    "print g != 1\n",
    "print pairing(Gx*3 , Gx*4) == g^12\n",
    "\n",
    "print g.multiplicative_order() == n\n"
   ]
  },
  {
   "cell_type": "markdown",
   "metadata": {},
   "source": [
    "## Parte B - Implementação do BF\n",
    "\n",
    "### 1º Passo \n",
    "+ Definição e implementação das funções de 'hash'.\n",
    "+ Definição e implementação de funções auxiliares para manipulação da informação"
   ]
  },
  {
   "cell_type": "markdown",
   "metadata": {},
   "source": [
    "Para programar o criptosistema de Boneh e Franklin são necessárias 4 funções de `hash`.\n",
    "As três primeira têm como domínio strings de bytes arbitrárias\n",
    "+ `ID` -- mapeia no grupo cíclico gerado por `Gx` (excepto `Ex(0)`)\n",
    "+ `H `  -- é um hash standard; vamos usar o `sha256` da biblioteca **hashlib** mapeados nos inteiros do `Sage` (o anel `ZZ`).\n",
    "+ `Hn` -- mapeia num inteiro no intervalo `Zn`  \n",
    "+ `fconv` é um hash de conversão de grupo cíclico gerado por `g` para o output de `H` (256 bits)\n",
    "\n",
    "A forma mais conveniente de lidar com estas funções (e outras manipulações usadas no BF) é através de uma classe `Data`; como métodos desta classe temos os vários hash's, e as operações de `xor` e  concatenação em `arrays` de `bytes`."
   ]
  },
  {
   "cell_type": "code",
   "execution_count": 10,
   "metadata": {
    "collapsed": true,
    "jupyter": {
     "outputs_hidden": true
    }
   },
   "outputs": [],
   "source": [
    "import sys, os, hashlib, types, binascii\n",
    "import numpy as np\n",
    "\n",
    "class Data(object):\n",
    "    def __init__(self,arg):\n",
    "        \n",
    "        if isinstance(arg,np.ndarray) and arg.dtype == np.dtype('uint8'):\n",
    "            self.array = arg\n",
    "            self.data  = self.array.tobytes()\n",
    "        else:\n",
    "            if isinstance(arg, types.StringTypes):\n",
    "                self.data  = arg\n",
    "            elif isinstance(arg, Integer):\n",
    "                self.data  = os.urandom(arg)\n",
    "            else:\n",
    "                self.data =  str(arg)\n",
    "            self.array = np.array(self.data,\"c\").view(np.uint8)           \n",
    "        self.len = len(self.data)\n",
    "        self._hash = hashlib.sha256(self.data)\n",
    "        \n",
    "    def __str__(self):\n",
    "        return binascii.hexlify(self.data)\n",
    "        \n",
    "    def xor(self,other):\n",
    "        if not isinstance(other,Data):\n",
    "            raise TypeError(\"argument of type %s is not Data\" % type(other))\n",
    "        if self.len < other.len:\n",
    "            return Data(np.bitwise_xor(self.array,other.array[:self.len]))\n",
    "        elif other.len < self.len:\n",
    "            return Data(np.bitwise_xor(self.array[:other.len],other.array))\n",
    "        else:\n",
    "            return Data(np.bitwise_xor(self.array,other.array))\n",
    "        \n",
    "    def pair(self,other):\n",
    "        if not isinstance(other,Data):\n",
    "            raise TypeError(\"argument of type %s is not Data\" % type(other))\n",
    "        return Data(self.data + other.data)\n",
    "        \n",
    "    def pref(self,i):\n",
    "        return Data(self.data[:i])\n",
    "        \n",
    "    def iH(self):\n",
    "        return ZZ(self._hash.hexdigest(),16)\n",
    "        \n",
    "    def H(self):\n",
    "        return Data(self._hash.digest())\n",
    "        \n",
    "    def ID(self):\n",
    "        return Gx * (self.iH())\n",
    "     \n",
    "    def Hn(self):\n",
    "        return (self.iH()) % n\n"
   ]
  },
  {
   "cell_type": "code",
   "execution_count": 11,
   "metadata": {},
   "outputs": [
    {
     "name": "stdout",
     "output_type": "stream",
     "text": [
      "110766301506293960422297788738826869251089097096418771804904440529019996876480\n",
      "f4e381445c451aeef3049c4ad66e5e2960e20e7776ea7200022c987640ca2ec0\n",
      "(6606536503625789246060915408709516180453836939320371064481717441456 : 1552917644213642366109271489820905181204610851286952069435045889619 : 1)\n",
      "9c3da213fac85cc94267876faab7cc3e23bf11898097d016b3de8a70050687bc\n",
      "889b2d241100cdb26fbc2f96a4530e96\n",
      "f8f0754e689799706fcf7bb730f54322706b586a799754c20073542194a64db4\n"
     ]
    }
   ],
   "source": [
    "# A função \"fconv\" aparece de forma diferente: não como um método da classe Data \n",
    "# mas usando os objetos dessa classe      \n",
    "def fconv(s):\n",
    "    return Data(s).H()\n",
    "\n",
    "# testes e exemplos\n",
    "\n",
    "# exemplo de uma chave pública em IBE\n",
    "\n",
    "w = Data(\"Jose Silva#email jose.silva@gmail.com#code X1JK0B#start 2017-01-01#end 2017-12-31\")\n",
    "\n",
    "# Vários hash's de \"w\"\n",
    "\n",
    "print w.iH()\n",
    "print w.H()\n",
    "print w.ID()\n",
    "\n",
    "print fconv(Gx)\n",
    "\n",
    "# Manipulação de dados\n",
    "\n",
    "u = Data(16)\n",
    "v = Data(16)\n",
    "print u.xor(v)\n",
    "print u.pair(v)"
   ]
  },
  {
   "cell_type": "markdown",
   "metadata": {},
   "source": [
    "### 2º Passo\n",
    "\n",
    "Implementação do BF como um KEM (_key encapsulation mechanism_)"
   ]
  },
  {
   "cell_type": "code",
   "execution_count": 12,
   "metadata": {
    "collapsed": true,
    "jupyter": {
     "outputs_hidden": true
    }
   },
   "outputs": [],
   "source": [
    "class BF(object):\n",
    "    def __init__(self):\n",
    "        self.k = ZZ.random_element(1,n-1)    # chaves de autenticação\n",
    "        self.beta = Gx * (self.k)\n",
    "     \n",
    "    def extract(self,w):\n",
    "        id = w.ID()\n",
    "        return id * (self.k)\n",
    "        \n",
    "    def validate(self,w,privKey):\n",
    "        id = w.ID() \n",
    "        if pairing(self.beta,id) != pairing(Gx,privKey):\n",
    "            raise ValueError(\"A chave privada não é adequada à chave pública\")\n",
    "        \n",
    "    def KEM(self,w):\n",
    "        id = w.ID()\n",
    "        r = Data(32) ; key = r.H() \n",
    "        tag = Data(16); a = (tag.pair(r)).Hn() ; \n",
    "        alpha = Gx * a ; u = pairing(self.beta,id)^a ; f = fconv(u)\n",
    "        crypt = (alpha, r.xor(f),tag.xor(key))\n",
    "        return (key.data, crypt)\n",
    "        \n",
    "    def deKEM(self,crypt,privKey):\n",
    "        (alpha, r1 , tag1) = crypt\n",
    "        u = pairing(alpha,privKey) ; f = fconv(u) ; r = r1.xor(f) \n",
    "        key = r.H() ; tag = tag1.xor(key); a = (tag.pair(r)).Hn()\n",
    "        if alpha == Gx * a:\n",
    "            return key.data\n",
    "        else:\n",
    "            raise ValueError(\"A chave revelada não é autêntica\")"
   ]
  },
  {
   "cell_type": "markdown",
   "metadata": {},
   "source": [
    "### 3º Passo - Teste"
   ]
  },
  {
   "cell_type": "code",
   "execution_count": 13,
   "metadata": {},
   "outputs": [
    {
     "name": "stdout",
     "output_type": "stream",
     "text": [
      "|Jose Silva#email jose.silva@gmail.com#code X1JK0B#start 2017-01-01#end 2017-12-31|\n",
      "\n",
      "OK\n"
     ]
    }
   ],
   "source": [
    "# Verificar a chave pública\n",
    "print \"|%s|\" % w.data\n",
    "print\n",
    "\n",
    "# Criar uma instância do criptosistema\n",
    "ibe = BF()\n",
    "\n",
    "# extrair a chave privada\n",
    "pK = ibe.extract(w)\n",
    "\n",
    "# validar a chave\n",
    "try:\n",
    "    ibe.validate(w,pK)\n",
    "\n",
    "# Cifrar    \n",
    "    (key, cr) = ibe.KEM(w)\n",
    "# Decifrar\n",
    "    key1 = ibe.deKEM(cr,pK)\n",
    "\n",
    "# Verificação\n",
    "    if  key != key1:\n",
    "        raise ValueError(\"A chave revelada é incorrecta\")\n",
    "    print \"OK\"\n",
    "    \n",
    "except Exception as err:\n",
    "    print err"
   ]
  },
  {
   "cell_type": "code",
   "execution_count": null,
   "metadata": {
    "collapsed": true,
    "jupyter": {
     "outputs_hidden": true
    }
   },
   "outputs": [],
   "source": []
  }
 ],
 "metadata": {
  "kernelspec": {
   "display_name": "SageMath 9.2",
   "language": "sage",
   "name": "sagemath"
  },
  "language_info": {
   "codemirror_mode": {
    "name": "ipython",
    "version": 3
   },
   "file_extension": ".py",
   "mimetype": "text/x-python",
   "name": "python",
   "nbconvert_exporter": "python",
   "pygments_lexer": "ipython3",
   "version": "3.8.8"
  }
 },
 "nbformat": 4,
 "nbformat_minor": 4
}
