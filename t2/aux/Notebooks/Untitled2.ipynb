{
 "cells": [
  {
   "cell_type": "code",
   "execution_count": 1,
   "id": "developed-nancy",
   "metadata": {},
   "outputs": [],
   "source": [
    "x,y,z = var('x,y,z')"
   ]
  },
  {
   "cell_type": "code",
   "execution_count": 12,
   "id": "latter-tenant",
   "metadata": {},
   "outputs": [
    {
     "data": {
      "text/plain": [
       "[x == -1/2*(1/9*sqrt(26)*sqrt(3) - 1)^(1/3)*(I*sqrt(3) + 1) - 1/6*(-I*sqrt(3) + 1)/(1/9*sqrt(26)*sqrt(3) - 1)^(1/3), x == -1/2*(1/9*sqrt(26)*sqrt(3) - 1)^(1/3)*(-I*sqrt(3) + 1) - 1/6*(I*sqrt(3) + 1)/(1/9*sqrt(26)*sqrt(3) - 1)^(1/3), x == (1/9*sqrt(26)*sqrt(3) - 1)^(1/3) + 1/3/(1/9*sqrt(26)*sqrt(3) - 1)^(1/3)]"
      ]
     },
     "execution_count": 12,
     "metadata": {},
     "output_type": "execute_result"
    }
   ],
   "source": [
    "solve(x^3-x+2,x)"
   ]
  },
  {
   "cell_type": "code",
   "execution_count": 14,
   "id": "persistent-picking",
   "metadata": {},
   "outputs": [],
   "source": [
    "x0 = CC(-1/2*(1/9*sqrt(26)*sqrt(3) - 1)^(1/3)*(I*sqrt(3) + 1) - 1/6*(-I*sqrt(3) + 1)/(1/9*sqrt(26)*sqrt(3) - 1)^(1/3))"
   ]
  },
  {
   "cell_type": "code",
   "execution_count": 15,
   "id": "genuine-passenger",
   "metadata": {},
   "outputs": [],
   "source": [
    "x1 = CC(-1/2*(1/9*sqrt(26)*sqrt(3) - 1)^(1/3)*(-I*sqrt(3) + 1) - 1/6*(I*sqrt(3) + 1)/(1/9*sqrt(26)*sqrt(3) - 1)^(1/3))"
   ]
  },
  {
   "cell_type": "code",
   "execution_count": 16,
   "id": "transsexual-musician",
   "metadata": {},
   "outputs": [],
   "source": [
    "x2 = CC((1/9*sqrt(26)*sqrt(3) - 1)^(1/3) + 1/3/(1/9*sqrt(26)*sqrt(3) - 1)^(1/3))"
   ]
  },
  {
   "cell_type": "code",
   "execution_count": 17,
   "id": "stuck-minister",
   "metadata": {},
   "outputs": [
    {
     "data": {
      "text/plain": [
       "(0.760689853402285 + 0.857873626595183*I,\n",
       " -1.52137970680457 - 8.32667268468867e-17*I,\n",
       " 0.760689853402285 - 0.857873626595183*I)"
      ]
     },
     "execution_count": 17,
     "metadata": {},
     "output_type": "execute_result"
    }
   ],
   "source": [
    "x0,x1,x2"
   ]
  },
  {
   "cell_type": "code",
   "execution_count": 18,
   "id": "duplicate-message",
   "metadata": {},
   "outputs": [
    {
     "data": {
      "text/plain": [
       "-5.94378863683029 - 7.60081850861357e-16*I"
      ]
     },
     "execution_count": 18,
     "metadata": {},
     "output_type": "execute_result"
    }
   ],
   "source": [
    "1-3*(x1^2)"
   ]
  },
  {
   "cell_type": "code",
   "execution_count": 19,
   "id": "trained-humanitarian",
   "metadata": {},
   "outputs": [
    {
     "data": {
      "text/plain": [
       "-9.04275941360914 - 1.66533453693773e-16*I"
      ]
     },
     "execution_count": 19,
     "metadata": {},
     "output_type": "execute_result"
    }
   ],
   "source": [
    "2*x1-6"
   ]
  },
  {
   "cell_type": "code",
   "execution_count": 20,
   "id": "backed-netherlands",
   "metadata": {},
   "outputs": [
    {
     "data": {
      "text/plain": [
       "9.04320160000000"
      ]
     },
     "execution_count": 20,
     "metadata": {},
     "output_type": "execute_result"
    }
   ],
   "source": [
    "(-5.944)*(-1.5214)"
   ]
  },
  {
   "cell_type": "code",
   "execution_count": null,
   "id": "expressed-possession",
   "metadata": {},
   "outputs": [],
   "source": []
  }
 ],
 "metadata": {
  "kernelspec": {
   "display_name": "SageMath 9.0",
   "language": "sage",
   "name": "sagemath"
  },
  "language_info": {
   "codemirror_mode": {
    "name": "ipython",
    "version": 3
   },
   "file_extension": ".py",
   "mimetype": "text/x-python",
   "name": "python",
   "nbconvert_exporter": "python",
   "pygments_lexer": "ipython3",
   "version": "3.7.3"
  }
 },
 "nbformat": 4,
 "nbformat_minor": 5
}
