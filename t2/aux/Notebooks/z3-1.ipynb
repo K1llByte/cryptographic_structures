{
 "cells": [
  {
   "cell_type": "code",
   "execution_count": 1,
   "id": "radical-gateway",
   "metadata": {},
   "outputs": [],
   "source": [
    "from z3 import *"
   ]
  },
  {
   "cell_type": "code",
   "execution_count": 2,
   "id": "unique-matrix",
   "metadata": {},
   "outputs": [],
   "source": [
    "#s = Solver()\n",
    "s = Optimize()"
   ]
  },
  {
   "cell_type": "code",
   "execution_count": 3,
   "id": "absent-seven",
   "metadata": {},
   "outputs": [
    {
     "data": {
      "text/plain": [
       "<z3.z3.OptimizeObjective at 0x7ff5c4f25ac0>"
      ]
     },
     "execution_count": 3,
     "metadata": {},
     "output_type": "execute_result"
    }
   ],
   "source": [
    "x = Real('x')\n",
    "y = Real('y')\n",
    "c = Real('custo')\n",
    "\n",
    "s += [x > 0 , y > 0 , x <= 1 , y <= 1]\n",
    "s += [x + 3*y > 0]\n",
    "s += [c == 2*x - y]\n",
    "\n",
    "s.minimize(c**2)"
   ]
  },
  {
   "cell_type": "code",
   "execution_count": 4,
   "id": "dental-arnold",
   "metadata": {},
   "outputs": [
    {
     "name": "stdout",
     "output_type": "stream",
     "text": [
      "[x = 20144057/71854538, y = 1, custo = -15783212/35927269]\n"
     ]
    }
   ],
   "source": [
    "if sat == s.check():\n",
    "    print(s.model())"
   ]
  },
  {
   "cell_type": "code",
   "execution_count": null,
   "id": "engaging-therapy",
   "metadata": {},
   "outputs": [],
   "source": []
  }
 ],
 "metadata": {
  "kernelspec": {
   "display_name": "Python 3",
   "language": "python",
   "name": "python3"
  },
  "language_info": {
   "codemirror_mode": {
    "name": "ipython",
    "version": 3
   },
   "file_extension": ".py",
   "mimetype": "text/x-python",
   "name": "python",
   "nbconvert_exporter": "python",
   "pygments_lexer": "ipython3",
   "version": "3.8.8"
  }
 },
 "nbformat": 4,
 "nbformat_minor": 5
}
