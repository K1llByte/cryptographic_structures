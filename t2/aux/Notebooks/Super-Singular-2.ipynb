{
 "cells": [
  {
   "cell_type": "markdown",
   "id": "c6a58a71-454c-4c7e-bb32-2d3777bf0ea7",
   "metadata": {},
   "source": [
    "## Super-singular $y^2 = x^3 + x$"
   ]
  },
  {
   "cell_type": "code",
   "execution_count": 31,
   "id": "naval-copper",
   "metadata": {},
   "outputs": [
    {
     "name": "stdout",
     "output_type": "stream",
     "text": [
      "263\n"
     ]
    }
   ],
   "source": [
    "p = next_prime(256)\n",
    "\n",
    "while True:\n",
    "    if (p + 1)%4 == 0:\n",
    "        break\n",
    "    p = next_prime(p+1)\n",
    "\n",
    "print(p)"
   ]
  },
  {
   "cell_type": "code",
   "execution_count": 32,
   "id": "01e9f725-7c94-4654-b5ae-ff1dea69d045",
   "metadata": {},
   "outputs": [],
   "source": [
    "K.<a> = GF(p^2)"
   ]
  },
  {
   "cell_type": "code",
   "execution_count": 33,
   "id": "d167f2fc-c7e7-43fc-9a3d-2bd19f3c8699",
   "metadata": {},
   "outputs": [],
   "source": [
    "## Determinar, no corpo K , um valor $$j$$ que seja raíz quadrada de -1\n",
    "\n",
    "j = K(-1).sqrt()"
   ]
  },
  {
   "cell_type": "code",
   "execution_count": 34,
   "id": "c304b4c6-ec77-4146-a770-db8ad2e10e7f",
   "metadata": {},
   "outputs": [],
   "source": [
    "E1 = EllipticCurve(K,[1,0])\n",
    "O  = E1(0)"
   ]
  },
  {
   "cell_type": "code",
   "execution_count": 35,
   "id": "fceb524e-f05c-455c-b4f6-e443524d066a",
   "metadata": {},
   "outputs": [
    {
     "name": "stdout",
     "output_type": "stream",
     "text": [
      "True\n",
      "True\n",
      "(0 : 1 : 0)\n"
     ]
    }
   ],
   "source": [
    "# Verificação\n",
    "\n",
    "print(E1.cardinality() == (p+1)^2)\n",
    "print(E1.is_supersingular())\n",
    "print(O)"
   ]
  },
  {
   "cell_type": "code",
   "execution_count": 36,
   "id": "01f1f4cc-5b3a-4cf2-bf29-93bb5722478e",
   "metadata": {},
   "outputs": [
    {
     "name": "stdout",
     "output_type": "stream",
     "text": [
      "(86*a + 45 : 38*a + 160 : 1)\n"
     ]
    }
   ],
   "source": [
    "P = E1.random_element()\n",
    "print(P)"
   ]
  },
  {
   "cell_type": "code",
   "execution_count": 37,
   "id": "6e4c10c4-6b62-4da2-b378-d334a3ced1e5",
   "metadata": {},
   "outputs": [],
   "source": [
    "# isogenia\n",
    "\n",
    "def f(P):\n",
    "    if P == O:\n",
    "        return P\n",
    "    x,y = P.xy()\n",
    "    return E1(-x , j*y)"
   ]
  },
  {
   "cell_type": "code",
   "execution_count": 38,
   "id": "1c183f43-f1ab-45ae-9612-5bc7fba03cd9",
   "metadata": {},
   "outputs": [
    {
     "data": {
      "text/plain": [
       "True"
      ]
     },
     "execution_count": 38,
     "metadata": {},
     "output_type": "execute_result"
    }
   ],
   "source": [
    "Q = f(P)\n",
    "Q in E1"
   ]
  },
  {
   "cell_type": "code",
   "execution_count": 39,
   "id": "03d92adf-266a-4908-8c39-901ca44e9102",
   "metadata": {},
   "outputs": [
    {
     "data": {
      "text/plain": [
       "True"
      ]
     },
     "execution_count": 39,
     "metadata": {},
     "output_type": "execute_result"
    }
   ],
   "source": [
    "f(Q) == -P"
   ]
  },
  {
   "cell_type": "code",
   "execution_count": 40,
   "id": "warming-structure",
   "metadata": {},
   "outputs": [
    {
     "data": {
      "text/plain": [
       "True"
      ]
     },
     "execution_count": 40,
     "metadata": {},
     "output_type": "execute_result"
    }
   ],
   "source": [
    "f(P + Q) == f(P) + f(Q)"
   ]
  },
  {
   "cell_type": "markdown",
   "id": "copyrighted-modern",
   "metadata": {},
   "source": [
    "## Super-singular $y^2 = x^3 + 1$"
   ]
  },
  {
   "cell_type": "code",
   "execution_count": 16,
   "id": "novel-murray",
   "metadata": {},
   "outputs": [
    {
     "name": "stdout",
     "output_type": "stream",
     "text": [
      "257\n"
     ]
    }
   ],
   "source": [
    "p = next_prime(256)\n",
    "while True:\n",
    "    if (p + 1)%3 == 0:\n",
    "        break\n",
    "    p = next_prime(p+1)\n",
    "\n",
    "#Verificação\n",
    "print(p)"
   ]
  },
  {
   "cell_type": "markdown",
   "id": "appropriate-worker",
   "metadata": {},
   "source": [
    "---\n",
    "Encontrar 'zeta': uma raíz cúbia da unidade diferente de 1.\n",
    "\n",
    "Essencialmente pretende-se calcular uma raíz do polinómio  $(x^2+x+1)\\,=\\,(x^3-1)/(x-1)$."
   ]
  },
  {
   "cell_type": "code",
   "execution_count": 21,
   "id": "threaded-turkish",
   "metadata": {},
   "outputs": [],
   "source": [
    "K.<a> = GF(p^2)\n",
    "\n",
    "rr = PolynomialRing(K,'x')(x^2 + x + 1).roots()\n",
    "zeta,_ = rr[0]"
   ]
  },
  {
   "cell_type": "code",
   "execution_count": 22,
   "id": "understood-soldier",
   "metadata": {},
   "outputs": [
    {
     "name": "stdout",
     "output_type": "stream",
     "text": [
      "[(240*a + 179, 1), (17*a + 77, 1)]\n",
      "\n",
      "zeta = 240*a + 179 \t zeta^3 =  1\n"
     ]
    }
   ],
   "source": [
    "# Verificação\n",
    "print(rr)\n",
    "print(f\"\\nzeta = {zeta} \\t zeta^3 = \",zeta^3)"
   ]
  },
  {
   "cell_type": "code",
   "execution_count": 23,
   "id": "realistic-supplement",
   "metadata": {},
   "outputs": [],
   "source": [
    "E0 = EllipticCurve(K,[0,1])\n",
    "O  = E0(0)"
   ]
  },
  {
   "cell_type": "code",
   "execution_count": 24,
   "id": "forty-notification",
   "metadata": {},
   "outputs": [
    {
     "name": "stdout",
     "output_type": "stream",
     "text": [
      "True\n",
      "True\n",
      "(0 : 1 : 0)\n"
     ]
    }
   ],
   "source": [
    "# Verificação\n",
    "\n",
    "print(E0.is_supersingular())\n",
    "print(E0.cardinality() == (p+1)^2)\n",
    "print(O)"
   ]
  },
  {
   "cell_type": "code",
   "execution_count": 25,
   "id": "straight-crown",
   "metadata": {},
   "outputs": [],
   "source": [
    "#isogenia\n",
    "\n",
    "def g(P):\n",
    "    if P == O:\n",
    "        return P\n",
    "    x,y = P.xy()\n",
    "    return E0(zeta*x , y)"
   ]
  },
  {
   "cell_type": "code",
   "execution_count": 26,
   "id": "thrown-collect",
   "metadata": {},
   "outputs": [
    {
     "data": {
      "text/plain": [
       "True"
      ]
     },
     "execution_count": 26,
     "metadata": {},
     "output_type": "execute_result"
    }
   ],
   "source": [
    "P = E0.random_element()\n",
    "Q = g(P)\n",
    "\n",
    "Q in E0"
   ]
  },
  {
   "cell_type": "code",
   "execution_count": 27,
   "id": "close-adelaide",
   "metadata": {},
   "outputs": [
    {
     "data": {
      "text/plain": [
       "True"
      ]
     },
     "execution_count": 27,
     "metadata": {},
     "output_type": "execute_result"
    }
   ],
   "source": [
    "P == g(g(Q))"
   ]
  },
  {
   "cell_type": "code",
   "execution_count": 28,
   "id": "effective-castle",
   "metadata": {},
   "outputs": [
    {
     "data": {
      "text/plain": [
       "True"
      ]
     },
     "execution_count": 28,
     "metadata": {},
     "output_type": "execute_result"
    }
   ],
   "source": [
    "S = E0.random_element()\n",
    "\n",
    "g(P + S) == g(P) + g(S)"
   ]
  },
  {
   "cell_type": "code",
   "execution_count": 29,
   "id": "senior-routine",
   "metadata": {},
   "outputs": [
    {
     "data": {
      "text/plain": [
       "True"
      ]
     },
     "execution_count": 29,
     "metadata": {},
     "output_type": "execute_result"
    }
   ],
   "source": [
    "g(4*P) == 4*g(P)"
   ]
  },
  {
   "cell_type": "code",
   "execution_count": null,
   "id": "innovative-patrol",
   "metadata": {},
   "outputs": [],
   "source": []
  }
 ],
 "metadata": {
  "kernelspec": {
   "display_name": "SageMath 9.2",
   "language": "sage",
   "name": "sagemath"
  },
  "language_info": {
   "codemirror_mode": {
    "name": "ipython",
    "version": 3
   },
   "file_extension": ".py",
   "mimetype": "text/x-python",
   "name": "python",
   "nbconvert_exporter": "python",
   "pygments_lexer": "ipython3",
   "version": "3.8.8"
  }
 },
 "nbformat": 4,
 "nbformat_minor": 5
}
