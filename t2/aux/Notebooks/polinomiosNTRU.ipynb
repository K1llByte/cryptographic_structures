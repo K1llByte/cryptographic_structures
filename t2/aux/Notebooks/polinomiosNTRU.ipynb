{
 "cells": [
  {
   "cell_type": "markdown",
   "id": "incoming-medicaid",
   "metadata": {},
   "source": [
    "## Polinomios NTRU"
   ]
  },
  {
   "cell_type": "code",
   "execution_count": 56,
   "id": "anticipated-charm",
   "metadata": {},
   "outputs": [],
   "source": [
    "n = 13\n",
    "q = 17"
   ]
  },
  {
   "cell_type": "code",
   "execution_count": 57,
   "id": "attended-class",
   "metadata": {},
   "outputs": [],
   "source": [
    "Z = PolynomialRing(ZZ,'w')\n",
    "R = PolynomialRing(GF(q),'w')\n",
    "z = Z.gen()\n",
    "r = R.gen()\n",
    "f = z^n - 1\n",
    "fq = r^n -1\n",
    "\n",
    "Zq = QuotientRing(Z,f)\n",
    "Rq = QuotientRing(R,fq)"
   ]
  },
  {
   "cell_type": "code",
   "execution_count": 58,
   "id": "electrical-league",
   "metadata": {},
   "outputs": [
    {
     "data": {
      "text/plain": [
       "w^13 - 1"
      ]
     },
     "execution_count": 58,
     "metadata": {},
     "output_type": "execute_result"
    }
   ],
   "source": [
    "f"
   ]
  },
  {
   "cell_type": "code",
   "execution_count": 59,
   "id": "internal-algorithm",
   "metadata": {},
   "outputs": [
    {
     "data": {
      "text/plain": [
       "(w^6 + 5*w^5 + 2*w^4 + 4*w^3 + 2*w^2 + 5*w + 1) * (w^6 + 13*w^5 + 2*w^4 + 12*w^3 + 2*w^2 + 13*w + 1)"
      ]
     },
     "execution_count": 59,
     "metadata": {},
     "output_type": "execute_result"
    }
   ],
   "source": [
    "t = R(f/(z-1))\n",
    "factor(t)"
   ]
  },
  {
   "cell_type": "code",
   "execution_count": 60,
   "id": "psychological-bouquet",
   "metadata": {},
   "outputs": [
    {
     "data": {
      "text/plain": [
       "False"
      ]
     },
     "execution_count": 60,
     "metadata": {},
     "output_type": "execute_result"
    }
   ],
   "source": [
    "t.is_irreducible()"
   ]
  },
  {
   "cell_type": "code",
   "execution_count": 61,
   "id": "relevant-feelings",
   "metadata": {},
   "outputs": [
    {
     "name": "stdout",
     "output_type": "stream",
     "text": [
      "15*wbar^12 + 14*wbar^11 + 12*wbar^10 + wbar^9 + 9*wbar^8 + 13*wbar^7 + 15*wbar^6 + 15*wbar^5 + wbar^4 + 7*wbar^3 + 16*wbar + 12\n"
     ]
    }
   ],
   "source": [
    "a = Rq.random_element()\n",
    "print(a)"
   ]
  },
  {
   "cell_type": "code",
   "execution_count": 62,
   "id": "informed-israel",
   "metadata": {},
   "outputs": [
    {
     "data": {
      "text/plain": [
       "[12, 16, 0, 7, 1, 15, 15, 13, 9, 1, 12, 14, 15]"
      ]
     },
     "execution_count": 62,
     "metadata": {},
     "output_type": "execute_result"
    }
   ],
   "source": [
    "a.list()"
   ]
  },
  {
   "cell_type": "code",
   "execution_count": 63,
   "id": "about-plymouth",
   "metadata": {},
   "outputs": [
    {
     "data": {
      "text/plain": [
       "[15, 12, 16, 0, 7, 1, 15, 15, 13, 9, 1, 12, 14]"
      ]
     },
     "execution_count": 63,
     "metadata": {},
     "output_type": "execute_result"
    }
   ],
   "source": [
    "(r*a).list()"
   ]
  },
  {
   "cell_type": "code",
   "execution_count": 64,
   "id": "minor-profile",
   "metadata": {},
   "outputs": [
    {
     "data": {
      "text/plain": [
       "[14, 15, 12, 16, 0, 7, 1, 15, 15, 13, 9, 1, 12]"
      ]
     },
     "execution_count": 64,
     "metadata": {},
     "output_type": "execute_result"
    }
   ],
   "source": [
    "(r^2*a).list()"
   ]
  },
  {
   "cell_type": "code",
   "execution_count": 69,
   "id": "presidential-worker",
   "metadata": {},
   "outputs": [
    {
     "data": {
      "text/plain": [
       "[12, 16, 0, 7, 1, 15, 15, 13, 9, 1, 12, 14, 15]"
      ]
     },
     "execution_count": 69,
     "metadata": {},
     "output_type": "execute_result"
    }
   ],
   "source": [
    "(r^n*a).list()"
   ]
  },
  {
   "cell_type": "code",
   "execution_count": 70,
   "id": "included-google",
   "metadata": {},
   "outputs": [],
   "source": [
    "def rot(a,n):\n",
    "    return matrix(GF(q),n,n,[(r^k*a).list() for k in range(n)])"
   ]
  },
  {
   "cell_type": "code",
   "execution_count": 71,
   "id": "geological-chicago",
   "metadata": {},
   "outputs": [
    {
     "data": {
      "text/plain": [
       "[12 16  0  7  1 15 15 13  9  1 12 14 15]\n",
       "[15 12 16  0  7  1 15 15 13  9  1 12 14]\n",
       "[14 15 12 16  0  7  1 15 15 13  9  1 12]\n",
       "[12 14 15 12 16  0  7  1 15 15 13  9  1]\n",
       "[ 1 12 14 15 12 16  0  7  1 15 15 13  9]\n",
       "[ 9  1 12 14 15 12 16  0  7  1 15 15 13]\n",
       "[13  9  1 12 14 15 12 16  0  7  1 15 15]\n",
       "[15 13  9  1 12 14 15 12 16  0  7  1 15]\n",
       "[15 15 13  9  1 12 14 15 12 16  0  7  1]\n",
       "[ 1 15 15 13  9  1 12 14 15 12 16  0  7]\n",
       "[ 7  1 15 15 13  9  1 12 14 15 12 16  0]\n",
       "[ 0  7  1 15 15 13  9  1 12 14 15 12 16]\n",
       "[16  0  7  1 15 15 13  9  1 12 14 15 12]"
      ]
     },
     "execution_count": 71,
     "metadata": {},
     "output_type": "execute_result"
    }
   ],
   "source": [
    "rot(a,n)"
   ]
  },
  {
   "cell_type": "code",
   "execution_count": null,
   "id": "federal-flavor",
   "metadata": {},
   "outputs": [],
   "source": []
  }
 ],
 "metadata": {
  "kernelspec": {
   "display_name": "SageMath 9.0",
   "language": "sage",
   "name": "sagemath"
  },
  "language_info": {
   "codemirror_mode": {
    "name": "ipython",
    "version": 3
   },
   "file_extension": ".py",
   "mimetype": "text/x-python",
   "name": "python",
   "nbconvert_exporter": "python",
   "pygments_lexer": "ipython3",
   "version": "3.7.3"
  }
 },
 "nbformat": 4,
 "nbformat_minor": 5
}
