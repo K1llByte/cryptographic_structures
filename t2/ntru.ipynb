{
 "cells": [
  {
   "cell_type": "markdown",
   "id": "formal-antarctica",
   "metadata": {},
   "source": [
    "# NTRU"
   ]
  },
  {
   "cell_type": "code",
   "execution_count": 1,
   "id": "controversial-architect",
   "metadata": {},
   "outputs": [
    {
     "name": "stdout",
     "output_type": "stream",
     "text": [
      "NTRU PKE Test: True\n",
      "NTRU KEM Test: True\n"
     ]
    }
   ],
   "source": [
    "from random import choice\n",
    "from cryptography.hazmat.primitives import hashes \n",
    "\n",
    "N = next_prime(500)\n",
    "p = 3\n",
    "q = next_prime(2000)\n",
    "\n",
    "Z.<w>  = ZZ[]\n",
    "R.<w>   = QuotientRing(Z , Z.ideal(w^N - 1))\n",
    "#print(R)\n",
    "\n",
    "Q.<w>  = Integers(q)[]\n",
    "Rq.<w>  = QuotientRing(Q , Q.ideal(w^N - 1))\n",
    "#print(Rq)\n",
    "\n",
    "# Mensagem é dada num intervalo de coeficientes [0, q-1],\n",
    "# por isso o modulo dos valores tem de ser recentrados\n",
    "# para o intervalo [-q/2, q/2-1].\n",
    "def centered(l,p):\n",
    "    fp = [ lift(Mod(a,p)) for a in l ]\n",
    "    tmp = [ u if (u <= p//2) else u-p for u in fp ]\n",
    "    return tmp\n",
    "\n",
    "class NTRU:\n",
    "    def __init__(self, N, p, q):\n",
    "        self.N = N\n",
    "        self.p = p\n",
    "        self.q = q\n",
    "        # KeyGen quando instancia NTRU\n",
    "        # f tem de ser invertivel\n",
    "        while True:\n",
    "            self.f = 1 + self.p * R(self.random_poly_ternary())\n",
    "            if Rq(list(self.f)).is_unit():\n",
    "                break\n",
    "        self.g = self.p * R(self.random_poly_ternary())\n",
    "        fq = Rq(list(self.f)).inverse_of_unit()\n",
    "        hq = fq * Rq(list(self.g))\n",
    "        self.h = R([lift(a) for a in list(hq)])\n",
    "\n",
    "    def encrypt(self, msg):\n",
    "        r = R(self.random_poly_ternary())\n",
    "        m = R(msg)\n",
    "        return centered(list(self.h*r + m), self.q)\n",
    "\n",
    "    def decrypt(self, enc):\n",
    "        e = R(enc)\n",
    "        a = centered(list(self.f * e), self.q)\n",
    "        return centered(list(R(a)),self.p)\n",
    "\n",
    "    def encapsulate(self):\n",
    "        rm = self.random_poly_ternary()\n",
    "        sha3 = hashes.Hash(hashes.SHAKE256(int(256)))\n",
    "        # + p // 2 porque nao dá para converter de imediato\n",
    "        # valores inteiros negativos para complemento para 2\n",
    "        # só sao considerados os valores unsigned\n",
    "        sha3.update(bytes([ c + self.p // 2 for c in rm ]))\n",
    "        shared_key = sha3.finalize()\n",
    "        return (shared_key, self.encrypt(rm))\n",
    "\n",
    "    def decapsulate(self,cipher):\n",
    "        rm = self.decrypt(cipher)\n",
    "        sha3 = hashes.Hash(hashes.SHAKE256(int(256)))\n",
    "        # + p // 2 porque nao dá para converter de imediato\n",
    "        # valores inteiros negativos para complemento para 2\n",
    "        # só sao considerados os valores unsigned\n",
    "        sha3.update(bytes([ c + self.p // 2 for c in rm ]))\n",
    "        return sha3.finalize()\n",
    "\n",
    "    def random_poly_ternary(self):\n",
    "        return [ choice([-1,0,1]) for i in range(self.N) ]\n",
    "\n",
    "ntru = NTRU(N,p,q)\n",
    "\n",
    "# NTRU PKE Test\n",
    "msg = ntru.random_poly_ternary()\n",
    "enc = ntru.encrypt(msg)\n",
    "dec = ntru.decrypt(enc)\n",
    "print(\"NTRU PKE Test:\",msg == dec)\n",
    "\n",
    "# NTRU KEM Test\n",
    "bob_shared_secret, enc = ntru.encapsulate()\n",
    "alice_shared_secret = ntru.decapsulate(enc)\n",
    "print(\"NTRU KEM Test:\",bob_shared_secret == alice_shared_secret)"
   ]
  },
  {
   "cell_type": "code",
   "execution_count": null,
   "id": "three-discussion",
   "metadata": {},
   "outputs": [],
   "source": []
  }
 ],
 "metadata": {
  "kernelspec": {
   "display_name": "SageMath 9.2",
   "language": "sage",
   "name": "sagemath"
  },
  "language_info": {
   "codemirror_mode": {
    "name": "ipython",
    "version": 3
   },
   "file_extension": ".py",
   "mimetype": "text/x-python",
   "name": "python",
   "nbconvert_exporter": "python",
   "pygments_lexer": "ipython3",
   "version": "3.9.4"
  }
 },
 "nbformat": 4,
 "nbformat_minor": 5
}
