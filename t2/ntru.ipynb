{
 "cells": [
  {
   "cell_type": "markdown",
   "id": "assisted-zealand",
   "metadata": {},
   "source": [
    "# Polinómios NTRU"
   ]
  },
  {
   "cell_type": "code",
   "execution_count": 6,
   "id": "sapphire-speed",
   "metadata": {},
   "outputs": [
    {
     "name": "stdout",
     "output_type": "stream",
     "text": [
      "2003\n"
     ]
    }
   ],
   "source": [
    "n = next_prime(2000)\n",
    "q = 257"
   ]
  },
  {
   "cell_type": "code",
   "execution_count": 12,
   "id": "embedded-rabbit",
   "metadata": {},
   "outputs": [
    {
     "name": "stdout",
     "output_type": "stream",
     "text": [
      "w\n"
     ]
    }
   ],
   "source": [
    "Z = PolynomialRing(ZZ,'w')\n",
    "R = PolynomialRing(GF(q),'w')\n",
    "z = Z.gen()\n",
    "print(z)\n",
    "r = R.gen()\n",
    "f = z^n - 1\n",
    "fq = r^n - 1\n",
    "\n",
    "Zq = QuotientRing(Z,f)\n",
    "Rq = QuotientRing(R,fq)"
   ]
  },
  {
   "cell_type": "code",
   "execution_count": 45,
   "id": "unnecessary-indiana",
   "metadata": {},
   "outputs": [],
   "source": [
    "t = Z(f/(z-1))"
   ]
  },
  {
   "cell_type": "code",
   "execution_count": 4,
   "id": "freelance-creator",
   "metadata": {},
   "outputs": [
    {
     "data": {
      "text/plain": [
       "True"
      ]
     },
     "execution_count": 4,
     "metadata": {},
     "output_type": "execute_result"
    }
   ],
   "source": [
    "t.is_irreducible()"
   ]
  },
  {
   "cell_type": "code",
   "execution_count": 9,
   "id": "interesting-contrary",
   "metadata": {},
   "outputs": [
    {
     "name": "stdout",
     "output_type": "stream",
     "text": [
      "15*wbar^2002 + 10*wbar^2001 + 121*wbar^2000 + 243*wbar^1999 + 140*wbar^1998 + 238*wbar^1997 + 181*wbar^1996 + 20*wbar^1995 + 59*wbar^1994 + 228*wbar^1993 + 222*wbar^1992 + 110*wbar^1991 + 25*wbar^1990 + 26*wbar^1989 + 92*wbar^1988 + 20*wbar^1987 + 174*wbar^1986 + 118*wbar^1985 + 70*wbar^1984 + 36*wbar^1983 + 142*wbar^1982 + 101*wbar^1981 + 201*wbar^1980 + 238*wbar^1979 + 43*wbar^1978 + 158*wbar^1977 + 169*wbar^1976 + 111*wbar^1975 + 65*wbar^1974 + 11*wbar^1973 + 242*wbar^1972 + 143*wbar^1971 + 124*wbar^1970 + 109*wbar^1969 + 146*wbar^1968 + 33*wbar^1967 + 172*wbar^1966 + 17*wbar^1965 + 50*wbar^1964 + 51*wbar^1963 + 75*wbar^1962 + 198*wbar^1961 + 106*wbar^1960 + 178*wbar^1959 + 129*wbar^1958 + 75*wbar^1957 + 27*wbar^1956 + 41*wbar^1955 + 129*wbar^1954 + 162*wbar^1953 + 158*wbar^1952 + 58*wbar^1951 + 82*wbar^1950 + 8*wbar^1949 + 182*wbar^1948 + 31*wbar^1947 + 128*wbar^1946 + 8*wbar^1945 + wbar^1944 + 193*wbar^1943 + 231*wbar^1942 + 135*wbar^1941 + 85*wbar^1940 + 47*wbar^1939 + 203*wbar^1938 + 217*wbar^1937 + 253*wbar^1936 + 223*wbar^1935 + 112*wbar^1934 + 246*wbar^1933 + 89*wbar^1932 + 111*wbar^1931 + 233*wbar^1930 + 15*wbar^1929 + 20*wbar^1928 + 236*wbar^1927 + 247*wbar^1926 + 204*wbar^1925 + 190*wbar^1924 + 61*wbar^1923 + 150*wbar^1922 + 210*wbar^1921 + 115*wbar^1920 + 144*wbar^1919 + 5*wbar^1918 + 206*wbar^1917 + 177*wbar^1916 + 85*wbar^1915 + 104*wbar^1914 + 98*wbar^1913 + 207*wbar^1912 + 196*wbar^1911 + 142*wbar^1910 + 65*wbar^1909 + 156*wbar^1908 + 148*wbar^1907 + 163*wbar^1906 + 23*wbar^1905 + 244*wbar^1904 + 26*wbar^1903 + 109*wbar^1902 + 14*wbar^1900 + 243*wbar^1899 + 218*wbar^1898 + 169*wbar^1897 + 52*wbar^1896 + 59*wbar^1895 + 50*wbar^1894 + 104*wbar^1893 + 222*wbar^1892 + 192*wbar^1891 + 175*wbar^1890 + 125*wbar^1889 + 218*wbar^1888 + 77*wbar^1887 + 95*wbar^1886 + 112*wbar^1885 + 84*wbar^1884 + 193*wbar^1883 + 243*wbar^1882 + 61*wbar^1881 + 209*wbar^1880 + 52*wbar^1879 + 90*wbar^1877 + 131*wbar^1876 + 224*wbar^1875 + 28*wbar^1874 + 219*wbar^1873 + 235*wbar^1872 + 144*wbar^1871 + 179*wbar^1870 + 244*wbar^1869 + 67*wbar^1868 + 19*wbar^1867 + 231*wbar^1866 + 127*wbar^1865 + 16*wbar^1864 + 203*wbar^1863 + 235*wbar^1862 + 138*wbar^1861 + 121*wbar^1860 + 139*wbar^1859 + 241*wbar^1858 + 190*wbar^1857 + 233*wbar^1856 + 32*wbar^1855 + 240*wbar^1854 + 6*wbar^1853 + 22*wbar^1852 + 39*wbar^1851 + 233*wbar^1850 + 142*wbar^1849 + 175*wbar^1848 + 29*wbar^1847 + 124*wbar^1846 + 123*wbar^1845 + 219*wbar^1844 + 134*wbar^1843 + 47*wbar^1842 + 183*wbar^1841 + 69*wbar^1840 + 256*wbar^1839 + 198*wbar^1838 + 10*wbar^1837 + 22*wbar^1836 + 156*wbar^1835 + 29*wbar^1834 + 187*wbar^1833 + 193*wbar^1832 + 165*wbar^1831 + 123*wbar^1830 + 142*wbar^1829 + 81*wbar^1828 + 212*wbar^1827 + 201*wbar^1826 + 23*wbar^1825 + 65*wbar^1824 + 127*wbar^1823 + 218*wbar^1822 + 95*wbar^1821 + 189*wbar^1820 + 106*wbar^1819 + 201*wbar^1818 + 38*wbar^1817 + 122*wbar^1816 + 158*wbar^1815 + 163*wbar^1814 + 163*wbar^1813 + 195*wbar^1812 + 189*wbar^1811 + 207*wbar^1810 + 114*wbar^1809 + 212*wbar^1808 + 168*wbar^1807 + 179*wbar^1806 + 131*wbar^1805 + 49*wbar^1804 + 73*wbar^1803 + 205*wbar^1802 + 223*wbar^1801 + 236*wbar^1800 + 2*wbar^1799 + 30*wbar^1798 + 25*wbar^1797 + 138*wbar^1796 + 82*wbar^1795 + 133*wbar^1794 + 224*wbar^1793 + 59*wbar^1792 + 84*wbar^1791 + 143*wbar^1790 + 75*wbar^1789 + 132*wbar^1788 + 161*wbar^1787 + 184*wbar^1786 + 3*wbar^1785 + 90*wbar^1784 + 3*wbar^1783 + 25*wbar^1782 + 75*wbar^1781 + 134*wbar^1780 + 256*wbar^1779 + 60*wbar^1778 + 213*wbar^1777 + 46*wbar^1776 + 228*wbar^1775 + 55*wbar^1774 + 189*wbar^1773 + 209*wbar^1772 + 142*wbar^1771 + 185*wbar^1770 + 70*wbar^1769 + 85*wbar^1768 + 74*wbar^1767 + 204*wbar^1766 + 143*wbar^1765 + 207*wbar^1764 + 118*wbar^1763 + 62*wbar^1762 + 233*wbar^1761 + 124*wbar^1760 + 90*wbar^1759 + 100*wbar^1758 + 213*wbar^1757 + 208*wbar^1756 + 12*wbar^1755 + 93*wbar^1753 + 98*wbar^1752 + 48*wbar^1751 + 132*wbar^1750 + 144*wbar^1749 + 58*wbar^1748 + 132*wbar^1747 + 142*wbar^1746 + 146*wbar^1745 + 80*wbar^1744 + 90*wbar^1743 + 150*wbar^1742 + 239*wbar^1741 + 33*wbar^1740 + 81*wbar^1739 + 92*wbar^1738 + 251*wbar^1737 + 212*wbar^1736 + 176*wbar^1735 + 46*wbar^1734 + 224*wbar^1733 + 104*wbar^1732 + 37*wbar^1731 + 216*wbar^1730 + 17*wbar^1729 + 50*wbar^1728 + 35*wbar^1727 + 244*wbar^1726 + 169*wbar^1725 + 145*wbar^1724 + 61*wbar^1723 + 100*wbar^1722 + 228*wbar^1721 + 84*wbar^1720 + 123*wbar^1719 + 149*wbar^1718 + 144*wbar^1717 + 164*wbar^1716 + 216*wbar^1715 + 28*wbar^1714 + 132*wbar^1713 + 199*wbar^1712 + 228*wbar^1711 + 137*wbar^1710 + 80*wbar^1709 + 253*wbar^1708 + 206*wbar^1707 + 255*wbar^1706 + 41*wbar^1705 + 185*wbar^1704 + 39*wbar^1703 + 246*wbar^1702 + 229*wbar^1701 + wbar^1700 + 162*wbar^1699 + 191*wbar^1698 + 214*wbar^1697 + 117*wbar^1696 + 109*wbar^1695 + 22*wbar^1694 + 124*wbar^1693 + 134*wbar^1692 + 189*wbar^1691 + 6*wbar^1690 + 151*wbar^1689 + 34*wbar^1688 + 3*wbar^1687 + 168*wbar^1686 + 131*wbar^1685 + 71*wbar^1684 + 28*wbar^1683 + 125*wbar^1682 + 25*wbar^1681 + 27*wbar^1680 + 91*wbar^1679 + 179*wbar^1678 + 38*wbar^1677 + 34*wbar^1676 + 67*wbar^1675 + 148*wbar^1674 + 184*wbar^1673 + 29*wbar^1672 + 249*wbar^1671 + 147*wbar^1670 + 231*wbar^1669 + 59*wbar^1668 + 23*wbar^1667 + 170*wbar^1666 + 123*wbar^1665 + 82*wbar^1664 + 244*wbar^1663 + 40*wbar^1662 + 77*wbar^1661 + 124*wbar^1660 + 213*wbar^1659 + 220*wbar^1658 + 144*wbar^1657 + 193*wbar^1656 + 175*wbar^1655 + 253*wbar^1654 + 117*wbar^1653 + 165*wbar^1652 + 205*wbar^1651 + 141*wbar^1650 + 109*wbar^1649 + 158*wbar^1648 + 108*wbar^1647 + 58*wbar^1646 + 248*wbar^1645 + 54*wbar^1644 + 196*wbar^1643 + 131*wbar^1642 + 172*wbar^1641 + 60*wbar^1640 + 250*wbar^1639 + 23*wbar^1638 + 183*wbar^1637 + 20*wbar^1636 + 108*wbar^1635 + 85*wbar^1634 + 214*wbar^1633 + 99*wbar^1632 + 106*wbar^1631 + 111*wbar^1630 + 176*wbar^1629 + 27*wbar^1628 + 226*wbar^1627 + 208*wbar^1626 + 22*wbar^1625 + 28*wbar^1624 + 49*wbar^1623 + 115*wbar^1622 + 32*wbar^1621 + 202*wbar^1620 + 156*wbar^1619 + 198*wbar^1618 + 246*wbar^1617 + 82*wbar^1616 + 71*wbar^1615 + 174*wbar^1614 + 241*wbar^1613 + 93*wbar^1612 + 110*wbar^1611 + 141*wbar^1610 + 84*wbar^1609 + 247*wbar^1608 + 142*wbar^1607 + 35*wbar^1606 + 252*wbar^1605 + 205*wbar^1604 + 119*wbar^1603 + 191*wbar^1602 + 172*wbar^1601 + 26*wbar^1600 + 189*wbar^1599 + 143*wbar^1598 + 35*wbar^1597 + 199*wbar^1596 + 31*wbar^1595 + 254*wbar^1594 + 139*wbar^1593 + 10*wbar^1592 + 105*wbar^1591 + 226*wbar^1590 + 246*wbar^1589 + 37*wbar^1588 + 40*wbar^1587 + 152*wbar^1586 + 152*wbar^1585 + 181*wbar^1584 + 148*wbar^1583 + 125*wbar^1582 + 236*wbar^1581 + 234*wbar^1580 + 40*wbar^1579 + 128*wbar^1578 + 214*wbar^1577 + 101*wbar^1576 + 184*wbar^1575 + 107*wbar^1574 + 187*wbar^1573 + 171*wbar^1572 + 40*wbar^1571 + 153*wbar^1570 + 226*wbar^1569 + 94*wbar^1568 + 4*wbar^1567 + 215*wbar^1566 + 161*wbar^1565 + 190*wbar^1564 + 6*wbar^1563 + 248*wbar^1562 + 19*wbar^1561 + 95*wbar^1560 + 173*wbar^1559 + 157*wbar^1558 + 41*wbar^1557 + 212*wbar^1556 + 231*wbar^1555 + 174*wbar^1554 + 67*wbar^1553 + 219*wbar^1552 + 81*wbar^1551 + 117*wbar^1550 + 118*wbar^1549 + 68*wbar^1548 + 77*wbar^1547 + 107*wbar^1546 + 122*wbar^1545 + 205*wbar^1544 + 65*wbar^1543 + 27*wbar^1542 + 197*wbar^1541 + 163*wbar^1540 + 162*wbar^1539 + 105*wbar^1538 + 145*wbar^1537 + 157*wbar^1536 + 222*wbar^1535 + 9*wbar^1534 + 172*wbar^1533 + 3*wbar^1532 + 128*wbar^1531 + 197*wbar^1530 + 129*wbar^1529 + 224*wbar^1528 + 61*wbar^1527 + 173*wbar^1526 + 185*wbar^1525 + 152*wbar^1524 + 245*wbar^1523 + 155*wbar^1522 + 54*wbar^1521 + 179*wbar^1520 + 51*wbar^1519 + 164*wbar^1518 + 45*wbar^1517 + 153*wbar^1516 + 155*wbar^1515 + 232*wbar^1514 + 130*wbar^1513 + 76*wbar^1512 + 153*wbar^1511 + 152*wbar^1510 + 10*wbar^1509 + 13*wbar^1508 + 206*wbar^1507 + 205*wbar^1506 + 123*wbar^1505 + 79*wbar^1504 + 77*wbar^1503 + 5*wbar^1502 + 179*wbar^1501 + 75*wbar^1500 + 233*wbar^1499 + 164*wbar^1498 + 178*wbar^1497 + 245*wbar^1496 + 5*wbar^1495 + 90*wbar^1494 + 238*wbar^1493 + 111*wbar^1492 + 77*wbar^1491 + 230*wbar^1490 + 238*wbar^1489 + 171*wbar^1488 + 81*wbar^1487 + 65*wbar^1486 + 166*wbar^1485 + 122*wbar^1483 + 7*wbar^1482 + 90*wbar^1481 + 59*wbar^1480 + 38*wbar^1479 + 104*wbar^1478 + 2*wbar^1477 + 70*wbar^1476 + 80*wbar^1475 + 39*wbar^1474 + 219*wbar^1473 + 164*wbar^1472 + 83*wbar^1471 + 181*wbar^1470 + 137*wbar^1469 + 176*wbar^1468 + 40*wbar^1467 + 158*wbar^1466 + 46*wbar^1465 + 122*wbar^1464 + 250*wbar^1463 + 188*wbar^1462 + 168*wbar^1461 + 253*wbar^1460 + 114*wbar^1459 + 218*wbar^1458 + 38*wbar^1457 + 198*wbar^1456 + 159*wbar^1455 + 204*wbar^1454 + 45*wbar^1453 + 36*wbar^1452 + 155*wbar^1451 + 247*wbar^1450 + 247*wbar^1449 + 127*wbar^1448 + 247*wbar^1447 + 223*wbar^1446 + 131*wbar^1445 + 200*wbar^1444 + 85*wbar^1443 + 221*wbar^1442 + 245*wbar^1441 + 128*wbar^1440 + 250*wbar^1439 + 251*wbar^1438 + 30*wbar^1437 + 233*wbar^1436 + 186*wbar^1435 + 137*wbar^1434 + 179*wbar^1433 + 127*wbar^1432 + 144*wbar^1431 + 56*wbar^1430 + 75*wbar^1429 + 220*wbar^1428 + 209*wbar^1427 + 161*wbar^1426 + 39*wbar^1425 + 185*wbar^1424 + 137*wbar^1423 + 150*wbar^1422 + 101*wbar^1421 + 256*wbar^1420 + 108*wbar^1419 + 253*wbar^1418 + 214*wbar^1417 + 148*wbar^1416 + 46*wbar^1415 + 108*wbar^1414 + 110*wbar^1413 + 14*wbar^1412 + 245*wbar^1411 + 115*wbar^1410 + 38*wbar^1409 + 214*wbar^1408 + 100*wbar^1407 + 146*wbar^1406 + 82*wbar^1405 + 252*wbar^1404 + 91*wbar^1403 + 189*wbar^1402 + 115*wbar^1401 + 22*wbar^1400 + 146*wbar^1399 + 27*wbar^1398 + 188*wbar^1397 + 197*wbar^1396 + 45*wbar^1395 + 77*wbar^1394 + 202*wbar^1393 + 224*wbar^1392 + 177*wbar^1391 + 247*wbar^1390 + 64*wbar^1389 + 95*wbar^1388 + 181*wbar^1387 + 70*wbar^1386 + 145*wbar^1385 + 205*wbar^1384 + 241*wbar^1383 + 136*wbar^1382 + 133*wbar^1381 + 208*wbar^1380 + 12*wbar^1379 + 224*wbar^1378 + 13*wbar^1377 + 57*wbar^1376 + 232*wbar^1375 + 14*wbar^1374 + 31*wbar^1373 + 22*wbar^1372 + 100*wbar^1371 + 204*wbar^1370 + 239*wbar^1369 + 57*wbar^1368 + 230*wbar^1367 + 227*wbar^1366 + 217*wbar^1365 + 238*wbar^1364 + 8*wbar^1363 + 88*wbar^1362 + 190*wbar^1361 + 167*wbar^1360 + 82*wbar^1359 + 92*wbar^1358 + 68*wbar^1357 + 215*wbar^1356 + 60*wbar^1355 + 158*wbar^1354 + 76*wbar^1353 + 33*wbar^1352 + 148*wbar^1351 + 127*wbar^1350 + 69*wbar^1349 + 27*wbar^1348 + 204*wbar^1347 + 61*wbar^1346 + 80*wbar^1345 + 186*wbar^1344 + 117*wbar^1343 + 131*wbar^1342 + 223*wbar^1341 + 245*wbar^1340 + 239*wbar^1339 + 13*wbar^1338 + 95*wbar^1337 + 43*wbar^1336 + 6*wbar^1335 + 124*wbar^1334 + 135*wbar^1333 + 117*wbar^1332 + 155*wbar^1331 + 166*wbar^1330 + 30*wbar^1329 + 78*wbar^1328 + 172*wbar^1327 + 128*wbar^1326 + 222*wbar^1325 + 84*wbar^1324 + 30*wbar^1323 + 136*wbar^1322 + 113*wbar^1321 + 147*wbar^1320 + 124*wbar^1319 + 5*wbar^1318 + 178*wbar^1317 + 148*wbar^1316 + 254*wbar^1315 + 235*wbar^1314 + 194*wbar^1313 + 79*wbar^1312 + 91*wbar^1311 + 187*wbar^1310 + 246*wbar^1309 + 247*wbar^1308 + 144*wbar^1307 + 7*wbar^1306 + 92*wbar^1305 + 241*wbar^1304 + 234*wbar^1303 + 4*wbar^1302 + 179*wbar^1301 + 96*wbar^1300 + 176*wbar^1299 + 133*wbar^1298 + 55*wbar^1297 + 98*wbar^1296 + 19*wbar^1295 + 71*wbar^1294 + 65*wbar^1293 + 208*wbar^1292 + 133*wbar^1291 + 29*wbar^1290 + 251*wbar^1289 + 203*wbar^1288 + 37*wbar^1287 + 52*wbar^1286 + 178*wbar^1285 + 103*wbar^1284 + 224*wbar^1283 + 133*wbar^1282 + 159*wbar^1281 + 121*wbar^1280 + 62*wbar^1279 + 95*wbar^1278 + 80*wbar^1277 + 34*wbar^1276 + 13*wbar^1275 + 176*wbar^1274 + 106*wbar^1273 + 204*wbar^1272 + 176*wbar^1271 + 197*wbar^1270 + 82*wbar^1269 + 114*wbar^1268 + 211*wbar^1267 + 152*wbar^1266 + 155*wbar^1265 + 140*wbar^1264 + 150*wbar^1263 + 209*wbar^1262 + 29*wbar^1261 + 3*wbar^1260 + 103*wbar^1259 + 206*wbar^1258 + 143*wbar^1257 + 255*wbar^1256 + 234*wbar^1255 + 56*wbar^1254 + 209*wbar^1253 + 84*wbar^1252 + 43*wbar^1251 + 124*wbar^1250 + 87*wbar^1249 + 42*wbar^1248 + 151*wbar^1247 + 134*wbar^1246 + 175*wbar^1245 + 181*wbar^1244 + 238*wbar^1243 + 129*wbar^1242 + 73*wbar^1241 + 46*wbar^1240 + 206*wbar^1239 + 69*wbar^1238 + 140*wbar^1237 + 242*wbar^1236 + 10*wbar^1235 + 190*wbar^1234 + 56*wbar^1233 + 39*wbar^1232 + 151*wbar^1231 + 183*wbar^1230 + 113*wbar^1229 + 47*wbar^1228 + 210*wbar^1227 + 100*wbar^1226 + 164*wbar^1225 + 108*wbar^1224 + 227*wbar^1223 + 246*wbar^1222 + 227*wbar^1221 + 57*wbar^1220 + 70*wbar^1218 + 227*wbar^1217 + 57*wbar^1216 + 93*wbar^1215 + 14*wbar^1214 + 49*wbar^1213 + 77*wbar^1212 + 156*wbar^1211 + 48*wbar^1210 + 244*wbar^1209 + 187*wbar^1208 + 212*wbar^1207 + 16*wbar^1206 + 110*wbar^1205 + 71*wbar^1204 + 150*wbar^1203 + 189*wbar^1202 + 57*wbar^1201 + 124*wbar^1200 + 144*wbar^1199 + 134*wbar^1198 + 201*wbar^1197 + 197*wbar^1196 + 87*wbar^1195 + 171*wbar^1194 + 139*wbar^1193 + 79*wbar^1192 + 105*wbar^1191 + 179*wbar^1190 + 186*wbar^1189 + 191*wbar^1188 + 41*wbar^1187 + 27*wbar^1186 + 8*wbar^1185 + 254*wbar^1184 + 9*wbar^1183 + 199*wbar^1182 + 197*wbar^1181 + 75*wbar^1180 + 122*wbar^1179 + 192*wbar^1178 + 28*wbar^1177 + 112*wbar^1176 + 114*wbar^1175 + 121*wbar^1174 + 52*wbar^1173 + 91*wbar^1172 + 21*wbar^1171 + 215*wbar^1170 + 46*wbar^1169 + 175*wbar^1168 + 149*wbar^1167 + 241*wbar^1166 + 108*wbar^1165 + 250*wbar^1164 + 256*wbar^1163 + 241*wbar^1162 + 25*wbar^1161 + 23*wbar^1160 + 72*wbar^1159 + 222*wbar^1158 + 190*wbar^1157 + 105*wbar^1156 + 146*wbar^1155 + 187*wbar^1154 + 93*wbar^1153 + 219*wbar^1152 + 89*wbar^1151 + 90*wbar^1150 + 74*wbar^1149 + 248*wbar^1148 + 145*wbar^1147 + 225*wbar^1146 + 220*wbar^1145 + 38*wbar^1144 + 240*wbar^1143 + 238*wbar^1142 + 168*wbar^1141 + 216*wbar^1140 + 149*wbar^1139 + 40*wbar^1138 + 103*wbar^1137 + wbar^1136 + 91*wbar^1135 + 202*wbar^1134 + 165*wbar^1133 + 22*wbar^1132 + 179*wbar^1131 + 16*wbar^1130 + 37*wbar^1129 + 106*wbar^1128 + 168*wbar^1127 + 227*wbar^1126 + 67*wbar^1125 + 161*wbar^1124 + 52*wbar^1123 + 9*wbar^1122 + 220*wbar^1121 + 179*wbar^1120 + 79*wbar^1119 + 183*wbar^1118 + 154*wbar^1117 + 220*wbar^1116 + 101*wbar^1115 + 77*wbar^1114 + 212*wbar^1113 + 28*wbar^1112 + 225*wbar^1111 + 253*wbar^1110 + 100*wbar^1109 + 215*wbar^1108 + 193*wbar^1107 + 11*wbar^1106 + 215*wbar^1105 + 97*wbar^1104 + 202*wbar^1103 + 50*wbar^1102 + 137*wbar^1101 + 121*wbar^1100 + 3*wbar^1099 + 165*wbar^1098 + 32*wbar^1097 + 220*wbar^1096 + 70*wbar^1095 + 170*wbar^1094 + 32*wbar^1093 + 223*wbar^1092 + 195*wbar^1091 + 140*wbar^1090 + 22*wbar^1089 + 163*wbar^1088 + 174*wbar^1087 + 170*wbar^1086 + 187*wbar^1085 + 188*wbar^1084 + 155*wbar^1083 + 45*wbar^1082 + 162*wbar^1081 + 136*wbar^1080 + 99*wbar^1079 + 193*wbar^1078 + 99*wbar^1077 + 146*wbar^1076 + 5*wbar^1075 + 135*wbar^1074 + wbar^1073 + 70*wbar^1072 + 100*wbar^1071 + 103*wbar^1070 + 53*wbar^1069 + 249*wbar^1068 + 184*wbar^1067 + 114*wbar^1066 + 196*wbar^1065 + 121*wbar^1064 + 35*wbar^1063 + 240*wbar^1062 + 177*wbar^1061 + 193*wbar^1060 + 151*wbar^1059 + 119*wbar^1058 + 112*wbar^1057 + 256*wbar^1056 + 45*wbar^1055 + 198*wbar^1054 + 4*wbar^1053 + 253*wbar^1052 + 97*wbar^1051 + 4*wbar^1050 + 218*wbar^1049 + 134*wbar^1048 + 98*wbar^1047 + 223*wbar^1046 + 10*wbar^1045 + 64*wbar^1044 + 173*wbar^1043 + 233*wbar^1042 + 19*wbar^1041 + 200*wbar^1040 + 160*wbar^1039 + 33*wbar^1038 + 26*wbar^1037 + 114*wbar^1036 + 229*wbar^1035 + 237*wbar^1034 + 221*wbar^1033 + 22*wbar^1032 + 59*wbar^1031 + 151*wbar^1030 + 134*wbar^1029 + 198*wbar^1028 + 82*wbar^1027 + 240*wbar^1026 + 193*wbar^1025 + 235*wbar^1024 + 34*wbar^1023 + 208*wbar^1022 + 216*wbar^1021 + 192*wbar^1020 + 93*wbar^1019 + 69*wbar^1018 + 211*wbar^1017 + 149*wbar^1016 + 116*wbar^1015 + 40*wbar^1014 + 11*wbar^1013 + 256*wbar^1012 + 70*wbar^1011 + 73*wbar^1010 + 119*wbar^1009 + 157*wbar^1008 + 2*wbar^1007 + 163*wbar^1006 + 4*wbar^1005 + 129*wbar^1004 + 111*wbar^1003 + 219*wbar^1002 + 184*wbar^1001 + 77*wbar^1000 + 35*wbar^999 + 14*wbar^998 + 132*wbar^997 + 180*wbar^996 + 210*wbar^995 + 234*wbar^994 + 155*wbar^993 + 136*wbar^992 + 100*wbar^991 + 83*wbar^990 + 161*wbar^989 + 195*wbar^988 + 185*wbar^987 + 161*wbar^986 + 55*wbar^985 + 202*wbar^984 + 18*wbar^983 + 122*wbar^982 + 139*wbar^981 + 124*wbar^980 + 220*wbar^979 + wbar^978 + 131*wbar^977 + 187*wbar^976 + 122*wbar^975 + 188*wbar^974 + 31*wbar^973 + 7*wbar^972 + 23*wbar^971 + 106*wbar^970 + 131*wbar^968 + 236*wbar^967 + 184*wbar^966 + 195*wbar^965 + 216*wbar^964 + 44*wbar^963 + 139*wbar^962 + 169*wbar^961 + 119*wbar^960 + 172*wbar^959 + 200*wbar^958 + 243*wbar^957 + 144*wbar^956 + 255*wbar^955 + 157*wbar^954 + 76*wbar^952 + 217*wbar^951 + 111*wbar^950 + 106*wbar^949 + 193*wbar^948 + 230*wbar^947 + 122*wbar^946 + 180*wbar^945 + 183*wbar^944 + 42*wbar^943 + 73*wbar^942 + 179*wbar^941 + 185*wbar^940 + 87*wbar^939 + 110*wbar^938 + 145*wbar^937 + 20*wbar^936 + 186*wbar^935 + 32*wbar^934 + 61*wbar^933 + 220*wbar^932 + 138*wbar^931 + 221*wbar^930 + 160*wbar^929 + 50*wbar^928 + 16*wbar^927 + 235*wbar^926 + 174*wbar^925 + 187*wbar^924 + 239*wbar^923 + 29*wbar^922 + 132*wbar^921 + 83*wbar^920 + 61*wbar^919 + 86*wbar^918 + 89*wbar^917 + 46*wbar^916 + 113*wbar^915 + 135*wbar^914 + 254*wbar^913 + 219*wbar^912 + 204*wbar^911 + 75*wbar^910 + 233*wbar^909 + 119*wbar^908 + 86*wbar^907 + 108*wbar^906 + 57*wbar^905 + 232*wbar^904 + 48*wbar^903 + 208*wbar^902 + 37*wbar^901 + 62*wbar^900 + 159*wbar^899 + 154*wbar^898 + 37*wbar^897 + 185*wbar^896 + 158*wbar^895 + 255*wbar^894 + 126*wbar^893 + 172*wbar^892 + 126*wbar^891 + 156*wbar^890 + 146*wbar^889 + 218*wbar^888 + 227*wbar^887 + 14*wbar^886 + 79*wbar^885 + 176*wbar^884 + 165*wbar^883 + 70*wbar^882 + 25*wbar^881 + 79*wbar^880 + 213*wbar^879 + 151*wbar^878 + 208*wbar^877 + 41*wbar^876 + 17*wbar^875 + 163*wbar^874 + 58*wbar^873 + 195*wbar^872 + 222*wbar^871 + 60*wbar^870 + 18*wbar^869 + 133*wbar^868 + 233*wbar^867 + 36*wbar^866 + 181*wbar^865 + 143*wbar^864 + 150*wbar^863 + 250*wbar^862 + 93*wbar^861 + 124*wbar^860 + 156*wbar^859 + 215*wbar^858 + 80*wbar^857 + 24*wbar^856 + 239*wbar^855 + 199*wbar^854 + 254*wbar^853 + 105*wbar^852 + 122*wbar^851 + 212*wbar^850 + 239*wbar^849 + 116*wbar^848 + 120*wbar^847 + 119*wbar^846 + 16*wbar^845 + 226*wbar^844 + 25*wbar^843 + 67*wbar^842 + 34*wbar^841 + 66*wbar^840 + 74*wbar^839 + 94*wbar^838 + 162*wbar^837 + 163*wbar^836 + 167*wbar^834 + 137*wbar^833 + 190*wbar^832 + 178*wbar^831 + 135*wbar^830 + wbar^829 + 98*wbar^828 + 181*wbar^827 + 81*wbar^826 + 146*wbar^825 + 139*wbar^824 + 63*wbar^823 + 136*wbar^822 + 62*wbar^821 + 222*wbar^820 + 80*wbar^819 + 202*wbar^818 + 187*wbar^817 + 198*wbar^816 + 191*wbar^815 + 141*wbar^814 + 163*wbar^813 + 235*wbar^812 + 203*wbar^811 + 219*wbar^810 + 24*wbar^809 + 15*wbar^808 + 138*wbar^807 + 116*wbar^806 + 163*wbar^805 + 112*wbar^804 + 237*wbar^803 + 152*wbar^802 + 161*wbar^801 + 64*wbar^800 + 184*wbar^799 + 169*wbar^798 + 251*wbar^797 + 136*wbar^796 + 161*wbar^794 + 230*wbar^793 + 116*wbar^792 + 225*wbar^791 + 131*wbar^790 + 169*wbar^789 + 202*wbar^788 + 203*wbar^787 + 35*wbar^786 + 155*wbar^785 + 158*wbar^784 + 163*wbar^783 + 58*wbar^782 + 14*wbar^781 + 124*wbar^780 + 102*wbar^779 + 50*wbar^778 + 199*wbar^777 + 57*wbar^776 + 249*wbar^775 + 23*wbar^774 + 191*wbar^773 + 232*wbar^772 + 168*wbar^771 + 181*wbar^770 + 158*wbar^769 + 96*wbar^768 + 223*wbar^767 + 132*wbar^766 + 37*wbar^765 + 73*wbar^764 + wbar^763 + 210*wbar^762 + 201*wbar^761 + 239*wbar^760 + 47*wbar^759 + 202*wbar^758 + 153*wbar^757 + 94*wbar^756 + 236*wbar^755 + 84*wbar^754 + 202*wbar^753 + 26*wbar^752 + 91*wbar^751 + 58*wbar^750 + 125*wbar^749 + 148*wbar^748 + 57*wbar^747 + 184*wbar^746 + 23*wbar^745 + 181*wbar^744 + 159*wbar^743 + 249*wbar^742 + 25*wbar^741 + 86*wbar^740 + 129*wbar^739 + 55*wbar^738 + 229*wbar^737 + 121*wbar^736 + 77*wbar^735 + 158*wbar^734 + 242*wbar^733 + 176*wbar^732 + 178*wbar^731 + 207*wbar^730 + 194*wbar^729 + 186*wbar^728 + 103*wbar^727 + 228*wbar^726 + 51*wbar^725 + 95*wbar^724 + 62*wbar^723 + 42*wbar^722 + 229*wbar^721 + 231*wbar^720 + 80*wbar^719 + 105*wbar^718 + 106*wbar^717 + 244*wbar^716 + 15*wbar^715 + 43*wbar^714 + 84*wbar^713 + 30*wbar^712 + 148*wbar^711 + 88*wbar^710 + 44*wbar^709 + 8*wbar^708 + 32*wbar^707 + 109*wbar^706 + 255*wbar^705 + 33*wbar^704 + 31*wbar^703 + 39*wbar^702 + 8*wbar^701 + 247*wbar^700 + 218*wbar^699 + 169*wbar^698 + 181*wbar^697 + 245*wbar^696 + 11*wbar^695 + 114*wbar^694 + 255*wbar^693 + 192*wbar^692 + 137*wbar^691 + 62*wbar^690 + 129*wbar^689 + 47*wbar^688 + 149*wbar^687 + 154*wbar^686 + 21*wbar^685 + 28*wbar^684 + 220*wbar^683 + 152*wbar^682 + 70*wbar^681 + 14*wbar^680 + 35*wbar^679 + 112*wbar^678 + 120*wbar^677 + 134*wbar^676 + 51*wbar^675 + 180*wbar^674 + 2*wbar^673 + 18*wbar^672 + 142*wbar^671 + 226*wbar^670 + 243*wbar^669 + 120*wbar^668 + 82*wbar^667 + 22*wbar^666 + 149*wbar^665 + 157*wbar^664 + 205*wbar^663 + 168*wbar^662 + 68*wbar^661 + 166*wbar^660 + 194*wbar^659 + 203*wbar^658 + 3*wbar^657 + 126*wbar^656 + 154*wbar^655 + 131*wbar^654 + 137*wbar^653 + 122*wbar^652 + 116*wbar^651 + 11*wbar^650 + 60*wbar^649 + 234*wbar^648 + 141*wbar^647 + 22*wbar^646 + 243*wbar^645 + 128*wbar^644 + 139*wbar^643 + 6*wbar^642 + 105*wbar^641 + 233*wbar^640 + 139*wbar^639 + 107*wbar^638 + 100*wbar^637 + 254*wbar^636 + 91*wbar^635 + 123*wbar^634 + 193*wbar^633 + 55*wbar^632 + 172*wbar^631 + 154*wbar^630 + 174*wbar^629 + 73*wbar^628 + 168*wbar^627 + 182*wbar^626 + 62*wbar^625 + 181*wbar^624 + 42*wbar^623 + 123*wbar^622 + 191*wbar^621 + 114*wbar^620 + 162*wbar^619 + 45*wbar^618 + 202*wbar^617 + 177*wbar^616 + 118*wbar^615 + 2*wbar^614 + 89*wbar^613 + 112*wbar^612 + 159*wbar^611 + 95*wbar^610 + 243*wbar^609 + 165*wbar^608 + 5*wbar^607 + 181*wbar^606 + 74*wbar^605 + 130*wbar^604 + 45*wbar^603 + 212*wbar^602 + 165*wbar^601 + 223*wbar^600 + 165*wbar^599 + 250*wbar^598 + 245*wbar^597 + 187*wbar^596 + 153*wbar^595 + 20*wbar^594 + 111*wbar^593 + 61*wbar^592 + 224*wbar^591 + 172*wbar^590 + 154*wbar^589 + 19*wbar^588 + 188*wbar^587 + 86*wbar^586 + 246*wbar^585 + 161*wbar^584 + 42*wbar^583 + 145*wbar^582 + 222*wbar^581 + 28*wbar^580 + 27*wbar^579 + 230*wbar^578 + 49*wbar^577 + 100*wbar^576 + 72*wbar^575 + 250*wbar^574 + 104*wbar^573 + 193*wbar^572 + 33*wbar^571 + 93*wbar^570 + 147*wbar^569 + 196*wbar^568 + 13*wbar^567 + 249*wbar^566 + 203*wbar^565 + 35*wbar^564 + 188*wbar^563 + 113*wbar^562 + 94*wbar^561 + 130*wbar^560 + 154*wbar^558 + 154*wbar^557 + 92*wbar^556 + 54*wbar^555 + 155*wbar^554 + 220*wbar^553 + 84*wbar^552 + 37*wbar^551 + 230*wbar^550 + 92*wbar^549 + 206*wbar^548 + 78*wbar^547 + 68*wbar^546 + 11*wbar^545 + 52*wbar^544 + 111*wbar^543 + 232*wbar^542 + 32*wbar^541 + 173*wbar^540 + 196*wbar^539 + 42*wbar^538 + 161*wbar^537 + 185*wbar^535 + 207*wbar^534 + 92*wbar^533 + 39*wbar^532 + 180*wbar^531 + 187*wbar^530 + 77*wbar^529 + 175*wbar^528 + 206*wbar^527 + 219*wbar^526 + 66*wbar^525 + 167*wbar^524 + 193*wbar^523 + 65*wbar^522 + 226*wbar^521 + 210*wbar^520 + 19*wbar^519 + 55*wbar^518 + 62*wbar^517 + 161*wbar^516 + 153*wbar^515 + 35*wbar^514 + 203*wbar^513 + 36*wbar^512 + 140*wbar^511 + 73*wbar^510 + 253*wbar^509 + 94*wbar^508 + 6*wbar^507 + 9*wbar^506 + 156*wbar^505 + 32*wbar^504 + 209*wbar^503 + 89*wbar^502 + 144*wbar^501 + 74*wbar^500 + 134*wbar^499 + 111*wbar^498 + 146*wbar^497 + 250*wbar^496 + 49*wbar^495 + 50*wbar^494 + 253*wbar^493 + 86*wbar^492 + 107*wbar^491 + 196*wbar^490 + 11*wbar^489 + 86*wbar^488 + 94*wbar^487 + 49*wbar^486 + 234*wbar^485 + 28*wbar^484 + 28*wbar^483 + 59*wbar^482 + 169*wbar^481 + 129*wbar^480 + 34*wbar^479 + 173*wbar^478 + 140*wbar^477 + 45*wbar^476 + 139*wbar^475 + 15*wbar^474 + 249*wbar^473 + 171*wbar^472 + 65*wbar^471 + 19*wbar^470 + 242*wbar^469 + 148*wbar^468 + 247*wbar^467 + 8*wbar^466 + 236*wbar^465 + 203*wbar^464 + 26*wbar^463 + 129*wbar^462 + 49*wbar^461 + 129*wbar^460 + 155*wbar^459 + 115*wbar^458 + 53*wbar^457 + 223*wbar^456 + 131*wbar^455 + 86*wbar^454 + 45*wbar^453 + 81*wbar^452 + 99*wbar^451 + 80*wbar^450 + 143*wbar^449 + 28*wbar^448 + 31*wbar^447 + 79*wbar^446 + 14*wbar^445 + 199*wbar^444 + 144*wbar^443 + 171*wbar^442 + 102*wbar^441 + 136*wbar^440 + 166*wbar^439 + 53*wbar^438 + 158*wbar^437 + 194*wbar^436 + 177*wbar^435 + 90*wbar^434 + 102*wbar^433 + 181*wbar^432 + 146*wbar^431 + 226*wbar^430 + 220*wbar^429 + 248*wbar^428 + 243*wbar^427 + 42*wbar^426 + 166*wbar^425 + 69*wbar^424 + 76*wbar^423 + 213*wbar^422 + 11*wbar^421 + 163*wbar^420 + 123*wbar^419 + 205*wbar^418 + 247*wbar^417 + 151*wbar^416 + 161*wbar^415 + 183*wbar^414 + 225*wbar^413 + 230*wbar^412 + 26*wbar^411 + 101*wbar^410 + 123*wbar^409 + 211*wbar^408 + 91*wbar^407 + 231*wbar^406 + 149*wbar^405 + 233*wbar^404 + 8*wbar^403 + 207*wbar^402 + 130*wbar^401 + 192*wbar^400 + 150*wbar^399 + 189*wbar^398 + 140*wbar^397 + 146*wbar^396 + 60*wbar^395 + 13*wbar^394 + 92*wbar^393 + 221*wbar^392 + 255*wbar^391 + 2*wbar^390 + 98*wbar^389 + 170*wbar^388 + 97*wbar^387 + 86*wbar^386 + 77*wbar^385 + 87*wbar^384 + 150*wbar^383 + 223*wbar^382 + 103*wbar^381 + 181*wbar^380 + 236*wbar^379 + 81*wbar^378 + 211*wbar^377 + 166*wbar^376 + 100*wbar^375 + 87*wbar^374 + 60*wbar^373 + 21*wbar^372 + 65*wbar^371 + 101*wbar^370 + 223*wbar^369 + 126*wbar^368 + 176*wbar^367 + 16*wbar^366 + 84*wbar^365 + 23*wbar^364 + 241*wbar^363 + 203*wbar^362 + 168*wbar^361 + 68*wbar^360 + 219*wbar^359 + 65*wbar^358 + 138*wbar^357 + 236*wbar^356 + 182*wbar^355 + 63*wbar^354 + 163*wbar^353 + 8*wbar^352 + 231*wbar^351 + 237*wbar^350 + 256*wbar^349 + 230*wbar^348 + 217*wbar^347 + 175*wbar^346 + 107*wbar^345 + 77*wbar^344 + 126*wbar^343 + 47*wbar^342 + 149*wbar^341 + 231*wbar^340 + 40*wbar^339 + 97*wbar^338 + 209*wbar^337 + 64*wbar^336 + 166*wbar^335 + 178*wbar^334 + 150*wbar^333 + 31*wbar^332 + 169*wbar^331 + 118*wbar^330 + 47*wbar^329 + 152*wbar^328 + 141*wbar^327 + 59*wbar^326 + 151*wbar^325 + 95*wbar^324 + 14*wbar^323 + 108*wbar^322 + 137*wbar^321 + 2*wbar^320 + 110*wbar^319 + 194*wbar^318 + 71*wbar^317 + 151*wbar^316 + 188*wbar^315 + 214*wbar^314 + 140*wbar^313 + 222*wbar^312 + 205*wbar^311 + 99*wbar^310 + 182*wbar^309 + 247*wbar^308 + 65*wbar^307 + 207*wbar^306 + 186*wbar^305 + 202*wbar^304 + 11*wbar^303 + 63*wbar^302 + 233*wbar^301 + 171*wbar^300 + 240*wbar^299 + 202*wbar^298 + 176*wbar^297 + 235*wbar^296 + 76*wbar^295 + 173*wbar^294 + 35*wbar^293 + 13*wbar^292 + 206*wbar^291 + 59*wbar^290 + 12*wbar^289 + 162*wbar^288 + 134*wbar^287 + 7*wbar^286 + 108*wbar^285 + 110*wbar^284 + 52*wbar^283 + 32*wbar^282 + 35*wbar^281 + 32*wbar^280 + 38*wbar^279 + 195*wbar^278 + 107*wbar^277 + 155*wbar^276 + 221*wbar^275 + 175*wbar^274 + 79*wbar^273 + 15*wbar^272 + 72*wbar^271 + 216*wbar^270 + 5*wbar^269 + 254*wbar^268 + 99*wbar^267 + 162*wbar^266 + 244*wbar^265 + 105*wbar^264 + 124*wbar^263 + 238*wbar^262 + 57*wbar^261 + 67*wbar^260 + 17*wbar^259 + 29*wbar^258 + 216*wbar^257 + 130*wbar^256 + 218*wbar^255 + 118*wbar^254 + 62*wbar^253 + 53*wbar^252 + 112*wbar^251 + 96*wbar^250 + 18*wbar^249 + 60*wbar^248 + 209*wbar^247 + 128*wbar^246 + 6*wbar^245 + 72*wbar^244 + 97*wbar^243 + 105*wbar^242 + 137*wbar^241 + 100*wbar^240 + 73*wbar^239 + 244*wbar^238 + 228*wbar^237 + 253*wbar^236 + 161*wbar^235 + 157*wbar^234 + 80*wbar^233 + 165*wbar^232 + 191*wbar^231 + 165*wbar^230 + 149*wbar^229 + 225*wbar^228 + 164*wbar^227 + 88*wbar^226 + 23*wbar^225 + 36*wbar^224 + 198*wbar^223 + 243*wbar^222 + 186*wbar^221 + 247*wbar^220 + 152*wbar^219 + 36*wbar^218 + 59*wbar^217 + 111*wbar^216 + 30*wbar^215 + 228*wbar^214 + 162*wbar^213 + 14*wbar^212 + 150*wbar^211 + 252*wbar^210 + 219*wbar^209 + 164*wbar^208 + 246*wbar^207 + 175*wbar^206 + 243*wbar^205 + 147*wbar^204 + 235*wbar^203 + 203*wbar^202 + 255*wbar^201 + wbar^200 + 186*wbar^199 + 86*wbar^198 + 105*wbar^197 + 159*wbar^196 + 185*wbar^195 + 141*wbar^194 + 136*wbar^193 + 88*wbar^192 + 114*wbar^191 + 179*wbar^190 + 134*wbar^189 + 30*wbar^188 + 140*wbar^187 + 220*wbar^186 + 90*wbar^185 + 194*wbar^184 + 145*wbar^183 + 117*wbar^182 + 16*wbar^181 + wbar^180 + 124*wbar^179 + 9*wbar^178 + 146*wbar^177 + 141*wbar^176 + 167*wbar^175 + 8*wbar^174 + 159*wbar^173 + 14*wbar^172 + 48*wbar^171 + 23*wbar^170 + 47*wbar^169 + 253*wbar^168 + 129*wbar^167 + 89*wbar^166 + 167*wbar^165 + 6*wbar^164 + 185*wbar^163 + 177*wbar^162 + 225*wbar^161 + 103*wbar^160 + 83*wbar^159 + 81*wbar^158 + 224*wbar^157 + 115*wbar^156 + 104*wbar^155 + 47*wbar^154 + 137*wbar^153 + 172*wbar^152 + 223*wbar^151 + 72*wbar^150 + 237*wbar^149 + 146*wbar^148 + 208*wbar^147 + 11*wbar^146 + 3*wbar^145 + 242*wbar^144 + 94*wbar^143 + 128*wbar^142 + 154*wbar^141 + 25*wbar^140 + 226*wbar^139 + 38*wbar^138 + 15*wbar^137 + 104*wbar^136 + 114*wbar^135 + 215*wbar^134 + 162*wbar^133 + 204*wbar^132 + 181*wbar^131 + 154*wbar^130 + 48*wbar^129 + 246*wbar^128 + 80*wbar^127 + 205*wbar^126 + 97*wbar^125 + 34*wbar^124 + 103*wbar^123 + 134*wbar^122 + 115*wbar^121 + 178*wbar^120 + 132*wbar^119 + 211*wbar^118 + 22*wbar^117 + 27*wbar^116 + 173*wbar^115 + 246*wbar^114 + 152*wbar^113 + 146*wbar^112 + 231*wbar^111 + 182*wbar^110 + 176*wbar^109 + 91*wbar^108 + 160*wbar^107 + 168*wbar^106 + 128*wbar^105 + 215*wbar^104 + 131*wbar^103 + 203*wbar^102 + 195*wbar^101 + 64*wbar^100 + 210*wbar^99 + 78*wbar^98 + 138*wbar^97 + 120*wbar^96 + 45*wbar^95 + 242*wbar^94 + 10*wbar^93 + 146*wbar^92 + 208*wbar^91 + 219*wbar^90 + 149*wbar^89 + 2*wbar^88 + 99*wbar^87 + 175*wbar^86 + 162*wbar^85 + 241*wbar^84 + 154*wbar^83 + 184*wbar^82 + 102*wbar^81 + 128*wbar^80 + 142*wbar^79 + 126*wbar^78 + 18*wbar^77 + 41*wbar^76 + 217*wbar^75 + 176*wbar^74 + 127*wbar^73 + 63*wbar^72 + 240*wbar^71 + 19*wbar^70 + 110*wbar^69 + 146*wbar^68 + 42*wbar^67 + 136*wbar^66 + 203*wbar^65 + 57*wbar^64 + 117*wbar^63 + 4*wbar^62 + 208*wbar^61 + 204*wbar^60 + 204*wbar^59 + 36*wbar^58 + 152*wbar^57 + 225*wbar^56 + 120*wbar^55 + 73*wbar^54 + 242*wbar^53 + 96*wbar^52 + 107*wbar^51 + 225*wbar^50 + 81*wbar^49 + 215*wbar^48 + 213*wbar^47 + 173*wbar^46 + 246*wbar^45 + 131*wbar^44 + 104*wbar^43 + 151*wbar^42 + 163*wbar^41 + 204*wbar^40 + 180*wbar^39 + 198*wbar^38 + 168*wbar^37 + 170*wbar^36 + 96*wbar^35 + 159*wbar^34 + 76*wbar^33 + 42*wbar^32 + 44*wbar^31 + 228*wbar^30 + 199*wbar^29 + 133*wbar^28 + 85*wbar^27 + 147*wbar^26 + 59*wbar^25 + 85*wbar^24 + 220*wbar^23 + 102*wbar^22 + 150*wbar^21 + 229*wbar^20 + 67*wbar^19 + 142*wbar^18 + 193*wbar^17 + 240*wbar^16 + 30*wbar^15 + 184*wbar^14 + 86*wbar^13 + 174*wbar^12 + 52*wbar^11 + 207*wbar^10 + 256*wbar^9 + 118*wbar^8 + 218*wbar^7 + 212*wbar^6 + 41*wbar^5 + 19*wbar^4 + 31*wbar^3 + 198*wbar^2 + 239*wbar + 1\n"
     ]
    }
   ],
   "source": [
    "a = Rq.random_element()\n",
    "print(a)"
   ]
  },
  {
   "cell_type": "code",
   "execution_count": 47,
   "id": "original-contribution",
   "metadata": {},
   "outputs": [
    {
     "data": {
      "text/plain": [
       "(w^2 - 2)/(w^2 - 3)"
      ]
     },
     "execution_count": 47,
     "metadata": {},
     "output_type": "execute_result"
    }
   ],
   "source": [
    "Z = PolynomialRing(ZZ,'w')\n",
    "w = Z.gen()\n",
    "factor(w^2-2)\n",
    "p = w^2-2\n",
    "p / (p-1)"
   ]
  },
  {
   "cell_type": "code",
   "execution_count": 50,
   "id": "separate-alloy",
   "metadata": {},
   "outputs": [
    {
     "data": {
      "text/plain": [
       "w^3 + w^2 - 2"
      ]
     },
     "execution_count": 50,
     "metadata": {},
     "output_type": "execute_result"
    }
   ],
   "source": [
    "p + 1*w^3"
   ]
  },
  {
   "cell_type": "code",
   "execution_count": null,
   "id": "legendary-commercial",
   "metadata": {},
   "outputs": [],
   "source": []
  }
 ],
 "metadata": {
  "kernelspec": {
   "display_name": "SageMath 9.2",
   "language": "sage",
   "name": "sagemath"
  },
  "language_info": {
   "codemirror_mode": {
    "name": "ipython",
    "version": 3
   },
   "file_extension": ".py",
   "mimetype": "text/x-python",
   "name": "python",
   "nbconvert_exporter": "python",
   "pygments_lexer": "ipython3",
   "version": "3.9.4"
  }
 },
 "nbformat": 4,
 "nbformat_minor": 5
}
