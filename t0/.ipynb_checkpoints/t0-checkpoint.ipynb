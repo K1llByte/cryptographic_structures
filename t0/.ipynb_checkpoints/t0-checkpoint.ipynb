{
 "cells": [
  {
   "cell_type": "markdown",
   "metadata": {},
   "source": [
    "# TP0"
   ]
  },
  {
   "cell_type": "markdown",
   "metadata": {},
   "source": [
    "## **1.**\n",
    "A interação entre as entidades 'Emitter' e 'Receiver' é feita com 2 threads que comunicam a partir de uma Queue bloqueante."
   ]
  },
  {
   "cell_type": "markdown",
   "metadata": {},
   "source": [
    "Alguns imports relevantes para o processo:"
   ]
  },
  {
   "cell_type": "code",
   "execution_count": 1,
   "metadata": {},
   "outputs": [],
   "source": [
    "from threading import Thread\n",
    "from queue import Queue\n",
    "from cryptography.hazmat.primitives import hashes\n",
    "from cryptography.hazmat.primitives.kdf.pbkdf2 import PBKDF2HMAC\n",
    "import os\n",
    "from cryptography.hazmat.primitives.ciphers import (Cipher, algorithms, modes)"
   ]
  },
  {
   "cell_type": "markdown",
   "metadata": {},
   "source": [
    "Primeiro defenimos as funções para cifrar e decifrar as mensagens."
   ]
  },
  {
   "cell_type": "code",
   "execution_count": null,
   "metadata": {},
   "outputs": [],
   "source": [
    "def encrypt(message,key,metadata):\n",
    "    iv = os.urandom(12)\n",
    "    encryptor = Cipher(\n",
    "        algorithms.AES(key),\n",
    "        modes.GCM(iv)\n",
    "    ).encryptor()\n",
    "    encryptor.authenticate_additional_data(metadata)\n",
    "    ciphertext = encryptor.update(message) + encryptor.finalize()\n",
    "    return (iv,ciphertext,encryptor.tag)\n",
    "\n",
    "def decrypt(iv,cipher,key,tag,metadata):\n",
    "    decryptor = Cipher(\n",
    "        algorithms.AES(key),\n",
    "        modes.GCM(iv, tag),\n",
    "    ).decryptor()\n",
    "    decryptor.authenticate_additional_data(metadata)\n",
    "    return decryptor.update(cipher) + decryptor.finalize()"
   ]
  },
  {
   "cell_type": "markdown",
   "metadata": {},
   "source": [
    "Para o 'Emitter' temos uma thread que envia ao 'Receiver' o resultado da cifragem da mensagem \"Hello World\"."
   ]
  },
  {
   "cell_type": "code",
   "execution_count": null,
   "metadata": {},
   "outputs": [],
   "source": [
    "# Emitter thread function\n",
    "def emitter(queue):\n",
    "    global key\n",
    "    msg = b\"Hello World!\"\n",
    "    iv_ct_tag = encrypt(msg,key,b\"METADATA\")\n",
    "    queue.put(iv_ct_tag)\n",
    "    print(\"[Emitter] Sent > {}\".format(iv_ct_tag[1]))"
   ]
  },
  {
   "cell_type": "markdown",
   "metadata": {},
   "source": [
    "Para o 'Receiver' temos uma thread que irá receber e decifrar o criptogama que o 'Emitter' enviou."
   ]
  },
  {
   "cell_type": "code",
   "execution_count": null,
   "metadata": {},
   "outputs": [],
   "source": [
    "# Receiver thread function\n",
    "def receiver(queue):\n",
    "    global key\n",
    "    iv,ct,tag = queue.get()\n",
    "    print(\"[Receiver] Received > {}\".format(ct))\n",
    "    msg = decrypt(iv,ct,key,tag,b\"METADATA\")\n",
    "    print(\"[Receiver] Decrypted > {}\".format(msg))"
   ]
  },
  {
   "cell_type": "markdown",
   "metadata": {},
   "source": [
    "Para gerar a chave criptográfica para utilizar na cifragem simétrica lemos do STDIN os bytes de uma string que vai ser usada como password."
   ]
  },
  {
   "cell_type": "code",
   "execution_count": 11,
   "metadata": {},
   "outputs": [
    {
     "name": "stdout",
     "output_type": "stream",
     "text": [
      "Shared Password > asd\n"
     ]
    }
   ],
   "source": [
    "pwd = bytes(input(\"Shared Password > \"),\"utf-8\")"
   ]
  },
  {
   "cell_type": "markdown",
   "metadata": {},
   "source": [
    "E derivamos a chave a ser utilizada usando PBKDF, e obtemos a chave na variável 'key'."
   ]
  },
  {
   "cell_type": "code",
   "execution_count": 12,
   "metadata": {},
   "outputs": [],
   "source": [
    "kdf = PBKDF2HMAC(\n",
    "    algorithm=hashes.SHA256(),\n",
    "    length=16,\n",
    "    salt=b\"\\x00\"*16,\n",
    "    iterations=100000\n",
    ")\n",
    "key = kdf.derive(pwd)"
   ]
  },
  {
   "cell_type": "markdown",
   "metadata": {},
   "source": [
    "Para começar toda a interação entre o 'Emitter' e 'Receiver' criamos as threads com as funções e argumentos respetivos e começamos as mesmas."
   ]
  },
  {
   "cell_type": "code",
   "execution_count": null,
   "metadata": {},
   "outputs": [],
   "source": [
    "q = Queue(5)\n",
    "    \n",
    "# Create emitter and receiver threads\n",
    "e = Thread(target=emitter,args=(q,))\n",
    "r = Thread(target=receiver,args=(q,))\n",
    "    \n",
    "# Start both threads\n",
    "e.start()\n",
    "r.start()\n",
    "\n",
    "# Wait for them to finish to exit program\n",
    "e.join()\n",
    "r.join()\n",
    "print(\"[INFO] > Finished program execution\")"
   ]
  },
  {
   "cell_type": "markdown",
   "metadata": {},
   "source": [
    "## **2.**\n",
    "Defenimos um PRG a partir de SHAKE256 e parametrizamos com o valor n para gerar n blocos de 64 bits (8 bytes)"
   ]
  },
  {
   "cell_type": "code",
   "execution_count": null,
   "metadata": {},
   "outputs": [],
   "source": [
    "from cryptography.hazmat.primitives.hashes import (Hash, SHAKE256)\n",
    "\n",
    "def prg(password: bytes, n: int) -> bytes:\n",
    "    alg = Hash(SHAKE256(8*n)) # 64 bits == 8 bytes\n",
    "    alg.update(password)\n",
    "    return alg.finalize()"
   ]
  },
  {
   "cell_type": "markdown",
   "metadata": {},
   "source": [
    "De seguida defenimos as funções de 'encrypt' e 'decrypt' , que para este esquema são implementadas da mesma forma\n",
    "\n",
    "Como especificado, este esquema irá recorrer ao XOR da mensagem com a chave aleatória gerada.\n",
    "\n",
    "Como python nao tem 'overload' do operador de XOR para o tipo 'bytes' então defenimos uma função auxiliar `bytes_xor` para concretizar esta ação.\n",
    "\n",
    "> Nota:\n",
    "> O tamanho da mensagem deve ter tamanho divisivel por 8 (64 bits). \n",
    "> Como este esquema é equivalente a uma cifra de Vernam temos que a mensagem e a chave devem ter o mesmo numero de blocos"
   ]
  },
  {
   "cell_type": "code",
   "execution_count": null,
   "metadata": {},
   "outputs": [],
   "source": [
    "def bytes_xor(a: bytes, b: bytes):\n",
    "    if len(a) != len(b):\n",
    "        raise ValueError(\"bytes arguments must have the same length\")\n",
    "    return bytes([_a ^ _b for _a, _b in zip(a, b)])\n",
    "\n",
    "def encrypt(plaintext: bytes, key: bytes):\n",
    "    return bytes_xor(plaintext,key)\n",
    "\n",
    "def decrypt(ciphertext: bytes, key: bytes):\n",
    "    return bytes_xor(ciphertext,key)"
   ]
  },
  {
   "cell_type": "markdown",
   "metadata": {},
   "source": [
    "Finalmente, testamos esta implementação com o bloco de texto `b\"olaolaol\"` que tem 1 palavra de 64 bits"
   ]
  },
  {
   "cell_type": "code",
   "execution_count": null,
   "metadata": {},
   "outputs": [],
   "source": [
    "key = prg(b\"ola mundo cruel\",1)\n",
    "ct = encrypt(b\"olaolaol\",key)\n",
    "msg = decrypt(ct,key)\n",
    "print(\"key\",key)\n",
    "print(\"ct\",ct)\n",
    "print(\"msg\",msg)"
   ]
  },
  {
   "cell_type": "code",
   "execution_count": null,
   "metadata": {},
   "outputs": [],
   "source": []
  },
  {
   "cell_type": "code",
   "execution_count": null,
   "metadata": {},
   "outputs": [],
   "source": []
  }
 ],
 "metadata": {
  "kernelspec": {
   "display_name": "Python 3",
   "language": "python",
   "name": "python3"
  },
  "language_info": {
   "codemirror_mode": {
    "name": "ipython",
    "version": 3
   },
   "file_extension": ".py",
   "mimetype": "text/x-python",
   "name": "python",
   "nbconvert_exporter": "python",
   "pygments_lexer": "ipython3",
   "version": "3.9.2"
  }
 },
 "nbformat": 4,
 "nbformat_minor": 2
}
