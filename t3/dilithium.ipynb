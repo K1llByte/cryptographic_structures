{
 "cells": [
  {
   "cell_type": "markdown",
   "id": "flexible-alarm",
   "metadata": {},
   "source": [
    "# Dilithium"
   ]
  },
  {
   "cell_type": "markdown",
   "id": "focused-asian",
   "metadata": {},
   "source": [
    "Neste notebook implementamos o algoritmo *Dilithium*, um esquema de assinatura digital candidato ao concurso NIST-PQC.\n",
    "\n",
    "Como implementação, fornecemos uma classe instanciável onde a geração das chaves é feita no construtor e a assinatura e verificação são fornecidos como métodos."
   ]
  },
  {
   "cell_type": "code",
   "execution_count": 2,
   "id": "northern-negative",
   "metadata": {},
   "outputs": [],
   "source": [
    "from cryptography.hazmat.primitives import hashes "
   ]
  },
  {
   "cell_type": "markdown",
   "id": "impressive-cartoon",
   "metadata": {},
   "source": [
    "## Parametros\n",
    "Como este algoritmo tem como um dos objetivos ser modular e parameterizavel, fornecemos vários modos de instancia para o *dilithium* com níveis de segurança nos parametros, de seguida encontram-se as classes que definem estes parametros para cada nivel de segurança, estas classes são passadas como argumento ao construtor do *Dilithium*."
   ]
  },
  {
   "cell_type": "code",
   "execution_count": 1,
   "id": "photographic-empty",
   "metadata": {},
   "outputs": [],
   "source": [
    "class Weak:\n",
    "    k = 3\n",
    "    l = 2\n",
    "    eta = 7\n",
    "    beta = 375\n",
    "    omega = 64\n",
    "\n",
    "class Medium:\n",
    "    k = 4\n",
    "    l = 3\n",
    "    eta = 6\n",
    "    beta = 325\n",
    "    omega = 80\n",
    "\n",
    "class Recommended:\n",
    "    k = 5\n",
    "    l = 4\n",
    "    eta = 5\n",
    "    beta = 275\n",
    "    omega = 96\n",
    "\n",
    "class VeryHigh:\n",
    "    k = 6\n",
    "    l = 5\n",
    "    eta = 3\n",
    "    beta = 175\n",
    "    omega = 120"
   ]
  },
  {
   "cell_type": "markdown",
   "id": "blessed-driver",
   "metadata": {},
   "source": [
    "## Implementação\n",
    "De seguida encontra-se a implementação realizada pelo grupo. Como jupyter notebook não permite inserir blocos de markdown entre metodos da classe, no código a seguir encontram-se alguns comentários relevantes na implementação e notas informativas, alternativamente uma descrição mais detalhada encontra-se no [bloco de markdown a seguir](#Descrição)"
   ]
  },
  {
   "cell_type": "code",
   "execution_count": 4,
   "id": "comic-broadway",
   "metadata": {},
   "outputs": [],
   "source": [
    "class Dilithium:\n",
    "    def __init__(self, params=Recommended):\n",
    "        # Define Parameters\n",
    "        self.n = 256\n",
    "        self.q = 8380417\n",
    "        self.d = 14\n",
    "        self.weight = 60\n",
    "        self.gamma1 = 523776 #(self.q-1) / 16\n",
    "        self.gamma2 = 261888 #self.gamma1 / 2\n",
    "        self.k = params.k\n",
    "        self.l = params.l\n",
    "        self.eta = params.eta\n",
    "        self.beta = params.beta\n",
    "        self.omega = params.omega\n",
    "\n",
    "        # Define Fields\n",
    "        Zq.<x> = GF(self.q)[]\n",
    "        self.Rq = Zq.quotient(x^self.n+1)\n",
    "\n",
    "        # Generate Keys\n",
    "        self.A = self.expandA()\n",
    "        self.s1 = self.sample(self.eta, self.l)\n",
    "        self.s2 = self.sample(self.eta, self.k)\n",
    "        self.t = self.A * self.s1 + self.s2\n",
    "        # Public Key : A, t\n",
    "        # Private Key : s1, s2\n",
    "\n",
    "    def sign(self, m):\n",
    "        z = None\n",
    "        while z == None:\n",
    "            y = self.sample(self.gamma1-1, self.l)\n",
    "            # Ay é reutilizado por isso precalcula-se\n",
    "            Ay = self.A * y\n",
    "            w1 = self.high_bits(self.A * y, 2 * self.gamma2)\n",
    "            c = self.H(b\"\".join([bytes([ int(i) for i in e ]) for e in w1]) + m)\n",
    "            c_poly = self.Rq(c)\n",
    "            z = y + c_poly * self.s1\n",
    "\n",
    "            aux11 = self.sup_norm(z)\n",
    "            aux12 = self.gamma1 - self.beta\n",
    "            torf1 = aux11 >= aux12\n",
    "\n",
    "            tmp = self.low_bits(Ay-c_poly*self.s2, 2*self.gamma2)\n",
    "            aux21 = self.sup_norm([tmp])\n",
    "            aux22 = self.gamma2 - self.beta\n",
    "            torf2 = aux21 >= aux22\n",
    "\n",
    "            if torf1 and torf2:\n",
    "               z = None\n",
    "        return (z,c)\n",
    "\n",
    "\n",
    "    def verify(self, m, sig):\n",
    "        (z,c) = sig\n",
    "        w1_ = self.high_bits(self.A*z - self.Rq(c)*self.t, 2*self.gamma2)\n",
    "        torf1 = (self.sup_norm(z) < self.gamma1-self.beta)\n",
    "        torf2 = (c == self.H(b\"\".join([bytes([ int(i) for i in e ]) for e in w1_]) + m))\n",
    "        return torf1 and torf2\n",
    "\n",
    "    ########### Auxiliar Functions ###########\n",
    "\n",
    "    # The function ExpandA maps a uniform seed  ∈ {0, 1}^256 to a matrix A ∈ Rq^k×l\n",
    "    def expandA(self):\n",
    "        # Na submissão original assume-se ρ como uma\n",
    "        # seed uniforme para amostrar aleatoriamente\n",
    "        # neste caso considera-se que `random_element`\n",
    "        # tem o valor equivalente da seed internamente\n",
    "        mat = [ self.Rq.random_element() for _ in range(self.k*self.l) ]\n",
    "        return matrix(self.Rq, self.k, self.l, mat)\n",
    "\n",
    "    def sample(self, coef_max, size):\n",
    "        def rand_poly():\n",
    "            return self.Rq([randint(0,coef_max) for _ in range(self.n)])\n",
    "\n",
    "        vector = [ rand_poly() for _ in range(size) ]\n",
    "\n",
    "        # Vectores sao representados sob\n",
    "        # a forma de matrizes para permitir as \n",
    "        # operações com a matriz A\n",
    "        return matrix(self.Rq,size,1,vector)\n",
    "\n",
    "    def high_bits(self, r, alfa):\n",
    "        r1, r0 = self.decompose(r,alfa)\n",
    "        return r1\n",
    "\n",
    "    def low_bits(self, r, alfa):\n",
    "        r1, r0 = self.decompose(r,alfa)\n",
    "        return r0\n",
    "\n",
    "    def decompose(self, r, alfa):\n",
    "        # Nota: Na submissão original é assumido\n",
    "        # que as operações no decompose são aplicadas\n",
    "        # a cada coeficiente.\n",
    "        #      r1 r0\n",
    "        r0_vector = []\n",
    "        r1_vector = []\n",
    "        torf = True\n",
    "        for p in r:\n",
    "            r0_poly = []\n",
    "            r1_poly = []\n",
    "            for c in p[0]:\n",
    "                c = int(mod(c,int(self.q)))\n",
    "                r0 = int(mod(c,int(alfa)))\n",
    "                if c - r0 == int(self.q) - int(1):\n",
    "                    r1 = 0\n",
    "                    r0 = r0 - 1\n",
    "                else:\n",
    "                    r1 = (c - r0) / int(alfa)\n",
    "                r0_poly.append(r0)\n",
    "                r1_poly.append(r1)\n",
    "            if torf:\n",
    "                #print(\"AAAAAAAAAAAAAAAAA\",self.Rq(r0_poly))\n",
    "                torf = False\n",
    "            r0_vector.append(self.Rq(r0_poly))\n",
    "            r1_vector.append(self.Rq(r1_poly))\n",
    "        # Como já não vamos realizar mais operações\n",
    "        # sobre matrizes então podemos apenas utilizar\n",
    "        # listas de python para estes vectors\n",
    "        return (r1_vector, r0_vector)\n",
    "\n",
    "    def H(self, obj):\n",
    "        sha3 = hashes.Hash(hashes.SHAKE256(int(60)))\n",
    "        sha3.update(obj)\n",
    "        res = [ (-1) ** (b % 2) for b in sha3.finalize() ]\n",
    "        return res + [0]*196\n",
    "\n",
    "    # https://en.wikipedia.org/wiki/Uniform_norm\n",
    "    def sup_norm(self, v):\n",
    "        return max([ max(p[0]) for p in v])"
   ]
  },
  {
   "cell_type": "markdown",
   "id": "fourth-russell",
   "metadata": {},
   "source": [
    "## Descrição\n",
    "\n",
    "\n"
   ]
  },
  {
   "cell_type": "markdown",
   "id": "wicked-benchmark",
   "metadata": {},
   "source": [
    "O documento de referencia pode ser consultado em: https://eprint.iacr.org/2017/633.pdf\n",
    "\n",
    "#### Geração das chaves\n",
    "O algoritmo de geração de chaves gera uma matriz A de dimensões k×l, e ainda amostra 2 vetores s1 e s2 de tamanhos l×1 e k×1 respetivamente, e ainda gera o ultimo parametro publico t =  A*s1 + s2.\n",
    "\n",
    "Para amostrar a matriz A e os vetores de polinómios s1 e s2 fizemos 2 métodos auxiliares (`expandA` e `sample`)\n",
    "\n",
    "#### Assinatura\n",
    "\n",
    "#### Verificação\n"
   ]
  },
  {
   "cell_type": "markdown",
   "id": "limited-senate",
   "metadata": {},
   "source": [
    "## Testes"
   ]
  },
  {
   "cell_type": "markdown",
   "id": "centered-laptop",
   "metadata": {},
   "source": [
    "### Test 1\n",
    "Verificar se o esquema valida corretamente uma assinatura."
   ]
  },
  {
   "cell_type": "code",
   "execution_count": 6,
   "id": "severe-shark",
   "metadata": {},
   "outputs": [
    {
     "name": "stdout",
     "output_type": "stream",
     "text": [
      "Test 1 (Must be True): True\n"
     ]
    }
   ],
   "source": [
    "dilithium = Dilithium(params=Weak)\n",
    "sig = dilithium.sign(b\"ola mundo cruel\")\n",
    "print(\"Test 1 (Must be True):\",dilithium.verify(b\"ola mundo cruel\", sig))"
   ]
  },
  {
   "cell_type": "markdown",
   "id": "basic-triple",
   "metadata": {},
   "source": [
    "### Test 2\n",
    "Verificar se o esquema reconhece quando os dados assinados são diferentes"
   ]
  },
  {
   "cell_type": "code",
   "execution_count": 7,
   "id": "pregnant-champion",
   "metadata": {},
   "outputs": [
    {
     "name": "stdout",
     "output_type": "stream",
     "text": [
      "Test 2 (Must be False): False\n"
     ]
    }
   ],
   "source": [
    "sig = dilithium.sign(b\"ola mundo cruel\")\n",
    "print(\"Test 2 (Must be False):\",dilithium.verify(b\"adeus mundo cruel\", sig))"
   ]
  },
  {
   "cell_type": "markdown",
   "id": "unlikely-grounds",
   "metadata": {},
   "source": [
    "### Test 3\n",
    "Verificar se entre instancias diferentes não há relações"
   ]
  },
  {
   "cell_type": "code",
   "execution_count": 8,
   "id": "comparative-moderator",
   "metadata": {},
   "outputs": [
    {
     "name": "stdout",
     "output_type": "stream",
     "text": [
      "Test 3 (Must be False): False\n"
     ]
    }
   ],
   "source": [
    "dilithium_other = Dilithium(params=Weak)\n",
    "sig = dilithium.sign(b\"ola mundo cruel\")\n",
    "print(\"Test 3 (Must be False):\",dilithium_other.verify(b\"ola mundo cruel\",sig))"
   ]
  },
  {
   "cell_type": "code",
   "execution_count": null,
   "id": "loose-england",
   "metadata": {},
   "outputs": [],
   "source": []
  }
 ],
 "metadata": {
  "kernelspec": {
   "display_name": "SageMath 9.2",
   "language": "sage",
   "name": "sagemath"
  },
  "language_info": {
   "codemirror_mode": {
    "name": "ipython",
    "version": 3
   },
   "file_extension": ".py",
   "mimetype": "text/x-python",
   "name": "python",
   "nbconvert_exporter": "python",
   "pygments_lexer": "ipython3",
   "version": "3.9.4"
  }
 },
 "nbformat": 4,
 "nbformat_minor": 5
}
