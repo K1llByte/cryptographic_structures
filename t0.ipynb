{
 "metadata": {
  "language_info": {
   "codemirror_mode": {
    "name": "ipython",
    "version": 3
   },
   "file_extension": ".py",
   "mimetype": "text/x-python",
   "name": "python",
   "nbconvert_exporter": "python",
   "pygments_lexer": "ipython3",
   "version": 3
  },
  "orig_nbformat": 2
 },
 "nbformat": 4,
 "nbformat_minor": 2,
 "cells": [
  {
   "source": [
    "# TP0"
   ],
   "cell_type": "markdown",
   "metadata": {}
  },
  {
   "source": [
    "## **1.**\n",
    "A interação entre as entidades 'Emitter' e 'Receiver' é feita com 2 threads que comunicam a partir de uma Queue bloqueante."
   ],
   "cell_type": "markdown",
   "metadata": {}
  },
  {
   "source": [
    "Alguns imports relevantes para o processo:"
   ],
   "cell_type": "markdown",
   "metadata": {}
  },
  {
   "cell_type": "code",
   "execution_count": null,
   "metadata": {},
   "outputs": [],
   "source": [
    "from threading import Thread\n",
    "from queue import Queue\n",
    "from cryptography.hazmat.primitives import hashes\n",
    "from cryptography.hazmat.primitives.kdf.pbkdf2 import PBKDF2HMAC\n",
    "import os\n",
    "from cryptography.hazmat.primitives.ciphers import (Cipher, algorithms, modes)"
   ]
  },
  {
   "source": [
    "Primeiro defenimos as funções para cifrar e decifrar as mensagens."
   ],
   "cell_type": "markdown",
   "metadata": {}
  },
  {
   "cell_type": "code",
   "execution_count": null,
   "metadata": {},
   "outputs": [],
   "source": [
    "def encrypt(message,key):\n",
    "    iv = os.urandom(12)\n",
    "    encryptor = Cipher(\n",
    "        algorithms.AES(key),\n",
    "        modes.GCM(iv)\n",
    "    ).encryptor()\n",
    "    ciphertext = encryptor.update(message) + encryptor.finalize()\n",
    "    return (iv,ciphertext,encryptor.tag)\n",
    "\n",
    "def decrypt(iv,cipher,key,tag):\n",
    "    decryptor = Cipher(\n",
    "        algorithms.AES(key),\n",
    "        modes.GCM(iv, tag),\n",
    "    ).decryptor()\n",
    "    return decryptor.update(cipher) + decryptor.finalize()"
   ]
  },
  {
   "source": [
    "Para o 'Emitter' temos uma thread que envia ao 'Receiver' o resultado da cifragem da mensagem \"Hello World\"."
   ],
   "cell_type": "markdown",
   "metadata": {}
  },
  {
   "cell_type": "code",
   "execution_count": null,
   "metadata": {},
   "outputs": [],
   "source": [
    "# Emitter thread function\n",
    "def emitter(queue):\n",
    "    global key\n",
    "    msg = b\"Hello World!\"\n",
    "    iv_ct_tag = encrypt(msg,key)\n",
    "    queue.put(iv_ct_tag)\n",
    "    print(\"[Emitter] Sent > {}\".format(iv_ct_tag[1]))"
   ]
  },
  {
   "source": [
    "Para o 'Receiver' temos uma thread que irá receber e decifrar o criptogama que o 'Emitter' enviou."
   ],
   "cell_type": "markdown",
   "metadata": {}
  },
  {
   "cell_type": "code",
   "execution_count": null,
   "metadata": {},
   "outputs": [],
   "source": [
    "# Receiver thread function\n",
    "def receiver(queue):\n",
    "    global key\n",
    "    iv,ct,tag = queue.get()\n",
    "    print(\"[Receiver] Received > {}\".format(ct))\n",
    "    msg = decrypt(iv,ct,key,tag)\n",
    "    print(\"[Receiver] Decrypted > {}\".format(msg))"
   ]
  },
  {
   "source": [
    "Para gerar a chave criptográfica para utilizar na cifragem simétrica lemos do STDIN os bytes de uma string que vai ser usada como password."
   ],
   "cell_type": "markdown",
   "metadata": {}
  },
  {
   "cell_type": "code",
   "execution_count": null,
   "metadata": {},
   "outputs": [],
   "source": [
    "pwd = bytes(input(\"Shared Password > \"),\"utf-8\")"
   ]
  },
  {
   "source": [
    "E derivamos a chave a ser utilizada usando PBKDF, e obtemos a chave na variável 'key'."
   ],
   "cell_type": "markdown",
   "metadata": {}
  },
  {
   "cell_type": "code",
   "execution_count": null,
   "metadata": {},
   "outputs": [],
   "source": [
    "kdf = PBKDF2HMAC(\n",
    "    algorithm=hashes.SHA256(),\n",
    "    length=16,\n",
    "    salt=b\"\\x00\"*16,\n",
    "    iterations=100000\n",
    ")\n",
    "key = kdf.derive(pwd)"
   ]
  },
  {
   "source": [
    "Para começar toda a interação entre o 'Emitter' e 'Receiver' criamos as threads com as funções e argumentos respetivos e começamos as mesmas."
   ],
   "cell_type": "markdown",
   "metadata": {}
  },
  {
   "cell_type": "code",
   "execution_count": null,
   "metadata": {},
   "outputs": [],
   "source": [
    "q = Queue(5)\n",
    "    \n",
    "# Create emitter and receiver threads\n",
    "e = Thread(target=emitter,args=(q,))\n",
    "r = Thread(target=receiver,args=(q,))\n",
    "    \n",
    "# Start both threads\n",
    "e.start()\n",
    "r.start()\n",
    "\n",
    "# Wait for them to finish to exit program\n",
    "e.join()\n",
    "r.join()\n",
    "print(\"[INFO] > Finished program execution\")"
   ]
  }
 ]
}